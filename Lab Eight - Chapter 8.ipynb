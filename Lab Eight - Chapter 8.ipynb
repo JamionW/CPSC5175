{
  "cells": [
    {
      "metadata": {
        "collapsed": true
      },
      "cell_type": "markdown",
      "source": "# CPSC5175 Lab 8 - Chapter 8\n#### Jamion Williams"
    },
    {
      "metadata": {},
      "cell_type": "markdown",
      "source": "### Problem 8.2 \n##### Upon the AccidentsFull dataset..."
    },
    {
      "metadata": {},
      "cell_type": "markdown",
      "source": "###### ( but first, some setup )"
    },
    {
      "metadata": {
        "trusted": true
      },
      "cell_type": "code",
      "source": "# necessities\n\ninstall.packages(\"naivebayes\")\nlibrary(naivebayes)\nlibrary(caret)\nlibrary(reshape2)\nset.seed(420)",
      "execution_count": 1,
      "outputs": [
        {
          "output_type": "stream",
          "text": "Installing package into ‘/home/nbuser/R’\n(as ‘lib’ is unspecified)\nnaivebayes 0.9.7 loaded\nLoading required package: lattice\nLoading required package: ggplot2\n",
          "name": "stderr"
        }
      ]
    },
    {
      "metadata": {
        "trusted": true
      },
      "cell_type": "code",
      "source": "# Import the dataset and interrogate it.\n\nraw.df <- read.csv(\"Datasets/AccidentsFull.csv\",header = TRUE)\n\ndim(raw.df)\nt(t(names(raw.df)))\nhead(raw.df)\nsummary(raw.df)\ncolnames(raw.df)",
      "execution_count": 2,
      "outputs": [
        {
          "output_type": "display_data",
          "data": {
            "text/plain": "[1] 42183    24",
            "text/latex": "\\begin{enumerate*}\n\\item 42183\n\\item 24\n\\end{enumerate*}\n",
            "text/markdown": "1. 42183\n2. 24\n\n\n",
            "text/html": "<ol class=list-inline>\n\t<li>42183</li>\n\t<li>24</li>\n</ol>\n"
          },
          "metadata": {}
        },
        {
          "output_type": "display_data",
          "data": {
            "text/plain": "      [,1]          \n [1,] HOUR_I_R      \n [2,] ALCHL_I       \n [3,] ALIGN_I       \n [4,] STRATUM_R     \n [5,] WRK_ZONE      \n [6,] WKDY_I_R      \n [7,] INT_HWY       \n [8,] LGTCON_I_R    \n [9,] MANCOL_I_R    \n[10,] PED_ACC_R     \n[11,] RELJCT_I_R    \n[12,] REL_RWY_R     \n[13,] PROFIL_I_R    \n[14,] SPD_LIM       \n[15,] SUR_COND      \n[16,] TRAF_CON_R    \n[17,] TRAF_WAY      \n[18,] VEH_INVL      \n[19,] WEATHER_R     \n[20,] INJURY_CRASH  \n[21,] NO_INJ_I      \n[22,] PRPTYDMG_CRASH\n[23,] FATALITIES    \n[24,] MAX_SEV_IR    ",
            "text/latex": "A matrix: 24 x 1 of type chr\n\\begin{tabular}{l}\n\t HOUR\\_I\\_R      \\\\\n\t ALCHL\\_I       \\\\\n\t ALIGN\\_I       \\\\\n\t STRATUM\\_R     \\\\\n\t WRK\\_ZONE      \\\\\n\t WKDY\\_I\\_R      \\\\\n\t INT\\_HWY       \\\\\n\t LGTCON\\_I\\_R    \\\\\n\t MANCOL\\_I\\_R    \\\\\n\t PED\\_ACC\\_R     \\\\\n\t RELJCT\\_I\\_R    \\\\\n\t REL\\_RWY\\_R     \\\\\n\t PROFIL\\_I\\_R    \\\\\n\t SPD\\_LIM       \\\\\n\t SUR\\_COND      \\\\\n\t TRAF\\_CON\\_R    \\\\\n\t TRAF\\_WAY      \\\\\n\t VEH\\_INVL      \\\\\n\t WEATHER\\_R     \\\\\n\t INJURY\\_CRASH  \\\\\n\t NO\\_INJ\\_I      \\\\\n\t PRPTYDMG\\_CRASH\\\\\n\t FATALITIES    \\\\\n\t MAX\\_SEV\\_IR    \\\\\n\\end{tabular}\n",
            "text/markdown": "\nA matrix: 24 x 1 of type chr\n\n| HOUR_I_R       |\n| ALCHL_I        |\n| ALIGN_I        |\n| STRATUM_R      |\n| WRK_ZONE       |\n| WKDY_I_R       |\n| INT_HWY        |\n| LGTCON_I_R     |\n| MANCOL_I_R     |\n| PED_ACC_R      |\n| RELJCT_I_R     |\n| REL_RWY_R      |\n| PROFIL_I_R     |\n| SPD_LIM        |\n| SUR_COND       |\n| TRAF_CON_R     |\n| TRAF_WAY       |\n| VEH_INVL       |\n| WEATHER_R      |\n| INJURY_CRASH   |\n| NO_INJ_I       |\n| PRPTYDMG_CRASH |\n| FATALITIES     |\n| MAX_SEV_IR     |\n\n",
            "text/html": "<table>\n<caption>A matrix: 24 x 1 of type chr</caption>\n<tbody>\n\t<tr><td>HOUR_I_R      </td></tr>\n\t<tr><td>ALCHL_I       </td></tr>\n\t<tr><td>ALIGN_I       </td></tr>\n\t<tr><td>STRATUM_R     </td></tr>\n\t<tr><td>WRK_ZONE      </td></tr>\n\t<tr><td>WKDY_I_R      </td></tr>\n\t<tr><td>INT_HWY       </td></tr>\n\t<tr><td>LGTCON_I_R    </td></tr>\n\t<tr><td>MANCOL_I_R    </td></tr>\n\t<tr><td>PED_ACC_R     </td></tr>\n\t<tr><td>RELJCT_I_R    </td></tr>\n\t<tr><td>REL_RWY_R     </td></tr>\n\t<tr><td>PROFIL_I_R    </td></tr>\n\t<tr><td>SPD_LIM       </td></tr>\n\t<tr><td>SUR_COND      </td></tr>\n\t<tr><td>TRAF_CON_R    </td></tr>\n\t<tr><td>TRAF_WAY      </td></tr>\n\t<tr><td>VEH_INVL      </td></tr>\n\t<tr><td>WEATHER_R     </td></tr>\n\t<tr><td>INJURY_CRASH  </td></tr>\n\t<tr><td>NO_INJ_I      </td></tr>\n\t<tr><td>PRPTYDMG_CRASH</td></tr>\n\t<tr><td>FATALITIES    </td></tr>\n\t<tr><td>MAX_SEV_IR    </td></tr>\n</tbody>\n</table>\n"
          },
          "metadata": {}
        },
        {
          "output_type": "display_data",
          "data": {
            "text/plain": "  HOUR_I_R ALCHL_I ALIGN_I STRATUM_R WRK_ZONE WKDY_I_R INT_HWY LGTCON_I_R\n1 0        2       2       1         0        1        0       3         \n2 1        2       1       0         0        1        1       3         \n3 1        2       1       0         0        1        0       3         \n4 1        2       1       1         0        0        0       3         \n5 1        1       1       0         0        1        0       3         \n6 1        2       1       1         0        1        0       3         \n  MANCOL_I_R PED_ACC_R ... SUR_COND TRAF_CON_R TRAF_WAY VEH_INVL WEATHER_R\n1 0          0         ... 4        0          3        1        1        \n2 2          0         ... 4        0          3        2        2        \n3 2          0         ... 4        1          2        2        2        \n4 2          0         ... 4        1          2        2        1        \n5 2          0         ... 4        0          2        3        1        \n6 0          0         ... 4        0          2        1        2        \n  INJURY_CRASH NO_INJ_I PRPTYDMG_CRASH FATALITIES MAX_SEV_IR\n1 1            1        0              0          1         \n2 0            0        1              0          0         \n3 0            0        1              0          0         \n4 0            0        1              0          0         \n5 0            0        1              0          0         \n6 1            1        0              0          1         ",
            "text/latex": "A data.frame: 6 x 24\n\\begin{tabular}{r|llllllllllllllllllllllll}\n HOUR\\_I\\_R & ALCHL\\_I & ALIGN\\_I & STRATUM\\_R & WRK\\_ZONE & WKDY\\_I\\_R & INT\\_HWY & LGTCON\\_I\\_R & MANCOL\\_I\\_R & PED\\_ACC\\_R & RELJCT\\_I\\_R & REL\\_RWY\\_R & PROFIL\\_I\\_R & SPD\\_LIM & SUR\\_COND & TRAF\\_CON\\_R & TRAF\\_WAY & VEH\\_INVL & WEATHER\\_R & INJURY\\_CRASH & NO\\_INJ\\_I & PRPTYDMG\\_CRASH & FATALITIES & MAX\\_SEV\\_IR\\\\\n <int> & <int> & <int> & <int> & <int> & <int> & <int> & <int> & <int> & <int> & <int> & <int> & <int> & <int> & <int> & <int> & <int> & <int> & <int> & <int> & <int> & <int> & <int> & <int>\\\\\n\\hline\n\t 0 & 2 & 2 & 1 & 0 & 1 & 0 & 3 & 0 & 0 & 1 & 0 & 1 & 40 & 4 & 0 & 3 & 1 & 1 & 1 & 1 & 0 & 0 & 1\\\\\n\t 1 & 2 & 1 & 0 & 0 & 1 & 1 & 3 & 2 & 0 & 1 & 1 & 1 & 70 & 4 & 0 & 3 & 2 & 2 & 0 & 0 & 1 & 0 & 0\\\\\n\t 1 & 2 & 1 & 0 & 0 & 1 & 0 & 3 & 2 & 0 & 1 & 1 & 1 & 35 & 4 & 1 & 2 & 2 & 2 & 0 & 0 & 1 & 0 & 0\\\\\n\t 1 & 2 & 1 & 1 & 0 & 0 & 0 & 3 & 2 & 0 & 1 & 1 & 1 & 35 & 4 & 1 & 2 & 2 & 1 & 0 & 0 & 1 & 0 & 0\\\\\n\t 1 & 1 & 1 & 0 & 0 & 1 & 0 & 3 & 2 & 0 & 0 & 1 & 1 & 25 & 4 & 0 & 2 & 3 & 1 & 0 & 0 & 1 & 0 & 0\\\\\n\t 1 & 2 & 1 & 1 & 0 & 1 & 0 & 3 & 0 & 0 & 1 & 0 & 1 & 70 & 4 & 0 & 2 & 1 & 2 & 1 & 1 & 0 & 0 & 1\\\\\n\\end{tabular}\n",
            "text/markdown": "\nA data.frame: 6 x 24\n\n| HOUR_I_R &lt;int&gt; | ALCHL_I &lt;int&gt; | ALIGN_I &lt;int&gt; | STRATUM_R &lt;int&gt; | WRK_ZONE &lt;int&gt; | WKDY_I_R &lt;int&gt; | INT_HWY &lt;int&gt; | LGTCON_I_R &lt;int&gt; | MANCOL_I_R &lt;int&gt; | PED_ACC_R &lt;int&gt; | ... ... | SUR_COND &lt;int&gt; | TRAF_CON_R &lt;int&gt; | TRAF_WAY &lt;int&gt; | VEH_INVL &lt;int&gt; | WEATHER_R &lt;int&gt; | INJURY_CRASH &lt;int&gt; | NO_INJ_I &lt;int&gt; | PRPTYDMG_CRASH &lt;int&gt; | FATALITIES &lt;int&gt; | MAX_SEV_IR &lt;int&gt; |\n|---|---|---|---|---|---|---|---|---|---|---|---|---|---|---|---|---|---|---|---|---|\n| 0 | 2 | 2 | 1 | 0 | 1 | 0 | 3 | 0 | 0 | ... | 4 | 0 | 3 | 1 | 1 | 1 | 1 | 0 | 0 | 1 |\n| 1 | 2 | 1 | 0 | 0 | 1 | 1 | 3 | 2 | 0 | ... | 4 | 0 | 3 | 2 | 2 | 0 | 0 | 1 | 0 | 0 |\n| 1 | 2 | 1 | 0 | 0 | 1 | 0 | 3 | 2 | 0 | ... | 4 | 1 | 2 | 2 | 2 | 0 | 0 | 1 | 0 | 0 |\n| 1 | 2 | 1 | 1 | 0 | 0 | 0 | 3 | 2 | 0 | ... | 4 | 1 | 2 | 2 | 1 | 0 | 0 | 1 | 0 | 0 |\n| 1 | 1 | 1 | 0 | 0 | 1 | 0 | 3 | 2 | 0 | ... | 4 | 0 | 2 | 3 | 1 | 0 | 0 | 1 | 0 | 0 |\n| 1 | 2 | 1 | 1 | 0 | 1 | 0 | 3 | 0 | 0 | ... | 4 | 0 | 2 | 1 | 2 | 1 | 1 | 0 | 0 | 1 |\n\n",
            "text/html": "<table>\n<caption>A data.frame: 6 x 24</caption>\n<thead>\n\t<tr><th scope=col>HOUR_I_R</th><th scope=col>ALCHL_I</th><th scope=col>ALIGN_I</th><th scope=col>STRATUM_R</th><th scope=col>WRK_ZONE</th><th scope=col>WKDY_I_R</th><th scope=col>INT_HWY</th><th scope=col>LGTCON_I_R</th><th scope=col>MANCOL_I_R</th><th scope=col>PED_ACC_R</th><th scope=col>...</th><th scope=col>SUR_COND</th><th scope=col>TRAF_CON_R</th><th scope=col>TRAF_WAY</th><th scope=col>VEH_INVL</th><th scope=col>WEATHER_R</th><th scope=col>INJURY_CRASH</th><th scope=col>NO_INJ_I</th><th scope=col>PRPTYDMG_CRASH</th><th scope=col>FATALITIES</th><th scope=col>MAX_SEV_IR</th></tr>\n\t<tr><th scope=col>&lt;int&gt;</th><th scope=col>&lt;int&gt;</th><th scope=col>&lt;int&gt;</th><th scope=col>&lt;int&gt;</th><th scope=col>&lt;int&gt;</th><th scope=col>&lt;int&gt;</th><th scope=col>&lt;int&gt;</th><th scope=col>&lt;int&gt;</th><th scope=col>&lt;int&gt;</th><th scope=col>&lt;int&gt;</th><th scope=col>...</th><th scope=col>&lt;int&gt;</th><th scope=col>&lt;int&gt;</th><th scope=col>&lt;int&gt;</th><th scope=col>&lt;int&gt;</th><th scope=col>&lt;int&gt;</th><th scope=col>&lt;int&gt;</th><th scope=col>&lt;int&gt;</th><th scope=col>&lt;int&gt;</th><th scope=col>&lt;int&gt;</th><th scope=col>&lt;int&gt;</th></tr>\n</thead>\n<tbody>\n\t<tr><td>0</td><td>2</td><td>2</td><td>1</td><td>0</td><td>1</td><td>0</td><td>3</td><td>0</td><td>0</td><td>...</td><td>4</td><td>0</td><td>3</td><td>1</td><td>1</td><td>1</td><td>1</td><td>0</td><td>0</td><td>1</td></tr>\n\t<tr><td>1</td><td>2</td><td>1</td><td>0</td><td>0</td><td>1</td><td>1</td><td>3</td><td>2</td><td>0</td><td>...</td><td>4</td><td>0</td><td>3</td><td>2</td><td>2</td><td>0</td><td>0</td><td>1</td><td>0</td><td>0</td></tr>\n\t<tr><td>1</td><td>2</td><td>1</td><td>0</td><td>0</td><td>1</td><td>0</td><td>3</td><td>2</td><td>0</td><td>...</td><td>4</td><td>1</td><td>2</td><td>2</td><td>2</td><td>0</td><td>0</td><td>1</td><td>0</td><td>0</td></tr>\n\t<tr><td>1</td><td>2</td><td>1</td><td>1</td><td>0</td><td>0</td><td>0</td><td>3</td><td>2</td><td>0</td><td>...</td><td>4</td><td>1</td><td>2</td><td>2</td><td>1</td><td>0</td><td>0</td><td>1</td><td>0</td><td>0</td></tr>\n\t<tr><td>1</td><td>1</td><td>1</td><td>0</td><td>0</td><td>1</td><td>0</td><td>3</td><td>2</td><td>0</td><td>...</td><td>4</td><td>0</td><td>2</td><td>3</td><td>1</td><td>0</td><td>0</td><td>1</td><td>0</td><td>0</td></tr>\n\t<tr><td>1</td><td>2</td><td>1</td><td>1</td><td>0</td><td>1</td><td>0</td><td>3</td><td>0</td><td>0</td><td>...</td><td>4</td><td>0</td><td>2</td><td>1</td><td>2</td><td>1</td><td>1</td><td>0</td><td>0</td><td>1</td></tr>\n</tbody>\n</table>\n"
          },
          "metadata": {}
        },
        {
          "output_type": "display_data",
          "data": {
            "text/plain": "    HOUR_I_R         ALCHL_I         ALIGN_I        STRATUM_R     \n Min.   :0.0000   Min.   :1.000   Min.   :1.000   Min.   :0.0000  \n 1st Qu.:0.0000   1st Qu.:2.000   1st Qu.:1.000   1st Qu.:0.0000  \n Median :0.0000   Median :2.000   Median :1.000   Median :0.0000  \n Mean   :0.4293   Mean   :1.913   Mean   :1.132   Mean   :0.4916  \n 3rd Qu.:1.0000   3rd Qu.:2.000   3rd Qu.:1.000   3rd Qu.:1.0000  \n Max.   :1.0000   Max.   :2.000   Max.   :2.000   Max.   :1.0000  \n    WRK_ZONE          WKDY_I_R         INT_HWY         LGTCON_I_R   \n Min.   :0.00000   Min.   :0.0000   Min.   :0.0000   Min.   :1.000  \n 1st Qu.:0.00000   1st Qu.:1.0000   1st Qu.:0.0000   1st Qu.:1.000  \n Median :0.00000   Median :1.0000   Median :0.0000   Median :1.000  \n Mean   :0.02262   Mean   :0.7716   Mean   :0.1503   Mean   :1.493  \n 3rd Qu.:0.00000   3rd Qu.:1.0000   3rd Qu.:0.0000   3rd Qu.:2.000  \n Max.   :1.00000   Max.   :1.0000   Max.   :9.0000   Max.   :3.000  \n   MANCOL_I_R      PED_ACC_R         RELJCT_I_R       REL_RWY_R     \n Min.   :0.000   Min.   :0.00000   Min.   :0.0000   Min.   :0.0000  \n 1st Qu.:0.000   1st Qu.:0.00000   1st Qu.:0.0000   1st Qu.:1.0000  \n Median :2.000   Median :0.00000   Median :1.0000   Median :1.0000  \n Mean   :1.337   Mean   :0.04051   Mean   :0.5579   Mean   :0.7665  \n 3rd Qu.:2.000   3rd Qu.:0.00000   3rd Qu.:1.0000   3rd Qu.:1.0000  \n Max.   :2.000   Max.   :1.00000   Max.   :1.0000   Max.   :1.0000  \n   PROFIL_I_R        SPD_LIM         SUR_COND       TRAF_CON_R    \n Min.   :0.0000   Min.   : 5.00   Min.   :1.000   Min.   :0.0000  \n 1st Qu.:0.0000   1st Qu.:35.00   1st Qu.:1.000   1st Qu.:0.0000  \n Median :0.0000   Median :40.00   Median :1.000   Median :0.0000  \n Mean   :0.2432   Mean   :43.55   Mean   :1.291   Mean   :0.5163  \n 3rd Qu.:0.0000   3rd Qu.:55.00   3rd Qu.:1.000   3rd Qu.:1.0000  \n Max.   :1.0000   Max.   :75.00   Max.   :9.000   Max.   :2.0000  \n    TRAF_WAY        VEH_INVL        WEATHER_R      INJURY_CRASH   \n Min.   :1.000   Min.   : 1.000   Min.   :1.000   Min.   :0.0000  \n 1st Qu.:1.000   1st Qu.: 1.000   1st Qu.:1.000   1st Qu.:0.0000  \n Median :1.000   Median : 2.000   Median :1.000   Median :0.0000  \n Mean   :1.477   Mean   : 1.817   Mean   :1.143   Mean   :0.4977  \n 3rd Qu.:2.000   3rd Qu.: 2.000   3rd Qu.:1.000   3rd Qu.:1.0000  \n Max.   :3.000   Max.   :23.000   Max.   :2.000   Max.   :1.0000  \n    NO_INJ_I       PRPTYDMG_CRASH     FATALITIES        MAX_SEV_IR    \n Min.   : 0.0000   Min.   :0.0000   Min.   :0.00000   Min.   :0.0000  \n 1st Qu.: 0.0000   1st Qu.:0.0000   1st Qu.:0.00000   1st Qu.:0.0000  \n Median : 1.0000   Median :0.0000   Median :0.00000   Median :1.0000  \n Mean   : 0.7787   Mean   :0.4912   Mean   :0.01105   Mean   :0.5198  \n 3rd Qu.: 1.0000   3rd Qu.:1.0000   3rd Qu.:0.00000   3rd Qu.:1.0000  \n Max.   :31.0000   Max.   :1.0000   Max.   :1.00000   Max.   :2.0000  "
          },
          "metadata": {}
        },
        {
          "output_type": "display_data",
          "data": {
            "text/plain": " [1] \"HOUR_I_R\"       \"ALCHL_I\"        \"ALIGN_I\"        \"STRATUM_R\"     \n [5] \"WRK_ZONE\"       \"WKDY_I_R\"       \"INT_HWY\"        \"LGTCON_I_R\"    \n [9] \"MANCOL_I_R\"     \"PED_ACC_R\"      \"RELJCT_I_R\"     \"REL_RWY_R\"     \n[13] \"PROFIL_I_R\"     \"SPD_LIM\"        \"SUR_COND\"       \"TRAF_CON_R\"    \n[17] \"TRAF_WAY\"       \"VEH_INVL\"       \"WEATHER_R\"      \"INJURY_CRASH\"  \n[21] \"NO_INJ_I\"       \"PRPTYDMG_CRASH\" \"FATALITIES\"     \"MAX_SEV_IR\"    ",
            "text/latex": "\\begin{enumerate*}\n\\item 'HOUR\\_I\\_R'\n\\item 'ALCHL\\_I'\n\\item 'ALIGN\\_I'\n\\item 'STRATUM\\_R'\n\\item 'WRK\\_ZONE'\n\\item 'WKDY\\_I\\_R'\n\\item 'INT\\_HWY'\n\\item 'LGTCON\\_I\\_R'\n\\item 'MANCOL\\_I\\_R'\n\\item 'PED\\_ACC\\_R'\n\\item 'RELJCT\\_I\\_R'\n\\item 'REL\\_RWY\\_R'\n\\item 'PROFIL\\_I\\_R'\n\\item 'SPD\\_LIM'\n\\item 'SUR\\_COND'\n\\item 'TRAF\\_CON\\_R'\n\\item 'TRAF\\_WAY'\n\\item 'VEH\\_INVL'\n\\item 'WEATHER\\_R'\n\\item 'INJURY\\_CRASH'\n\\item 'NO\\_INJ\\_I'\n\\item 'PRPTYDMG\\_CRASH'\n\\item 'FATALITIES'\n\\item 'MAX\\_SEV\\_IR'\n\\end{enumerate*}\n",
            "text/markdown": "1. 'HOUR_I_R'\n2. 'ALCHL_I'\n3. 'ALIGN_I'\n4. 'STRATUM_R'\n5. 'WRK_ZONE'\n6. 'WKDY_I_R'\n7. 'INT_HWY'\n8. 'LGTCON_I_R'\n9. 'MANCOL_I_R'\n10. 'PED_ACC_R'\n11. 'RELJCT_I_R'\n12. 'REL_RWY_R'\n13. 'PROFIL_I_R'\n14. 'SPD_LIM'\n15. 'SUR_COND'\n16. 'TRAF_CON_R'\n17. 'TRAF_WAY'\n18. 'VEH_INVL'\n19. 'WEATHER_R'\n20. 'INJURY_CRASH'\n21. 'NO_INJ_I'\n22. 'PRPTYDMG_CRASH'\n23. 'FATALITIES'\n24. 'MAX_SEV_IR'\n\n\n",
            "text/html": "<ol class=list-inline>\n\t<li>'HOUR_I_R'</li>\n\t<li>'ALCHL_I'</li>\n\t<li>'ALIGN_I'</li>\n\t<li>'STRATUM_R'</li>\n\t<li>'WRK_ZONE'</li>\n\t<li>'WKDY_I_R'</li>\n\t<li>'INT_HWY'</li>\n\t<li>'LGTCON_I_R'</li>\n\t<li>'MANCOL_I_R'</li>\n\t<li>'PED_ACC_R'</li>\n\t<li>'RELJCT_I_R'</li>\n\t<li>'REL_RWY_R'</li>\n\t<li>'PROFIL_I_R'</li>\n\t<li>'SPD_LIM'</li>\n\t<li>'SUR_COND'</li>\n\t<li>'TRAF_CON_R'</li>\n\t<li>'TRAF_WAY'</li>\n\t<li>'VEH_INVL'</li>\n\t<li>'WEATHER_R'</li>\n\t<li>'INJURY_CRASH'</li>\n\t<li>'NO_INJ_I'</li>\n\t<li>'PRPTYDMG_CRASH'</li>\n\t<li>'FATALITIES'</li>\n\t<li>'MAX_SEV_IR'</li>\n</ol>\n"
          },
          "metadata": {}
        }
      ]
    },
    {
      "metadata": {
        "trusted": true
      },
      "cell_type": "code",
      "source": "anyNA(raw.df)",
      "execution_count": 3,
      "outputs": [
        {
          "output_type": "display_data",
          "data": {
            "text/plain": "[1] FALSE",
            "text/latex": "FALSE",
            "text/markdown": "FALSE",
            "text/html": "FALSE"
          },
          "metadata": {}
        }
      ]
    },
    {
      "metadata": {
        "trusted": true
      },
      "cell_type": "code",
      "source": "# set up the dummy \"INJURY\" variable as referenced in the textbook\n\nraw.df$INJURY <- raw.df$MAX_SEV_IR\nraw.df$MAX_SEV_IR[raw.df$MAX_SEV_IR == 2] <- 1\nraw.df$MAX_SEV_IR[raw.df$MAX_SEV_IR == 1] <- 1\nraw.df$MAX_SEV_IR[raw.df$MAX_SEV_IR == 0] <- 0\n\nhead(raw.df)",
      "execution_count": 4,
      "outputs": [
        {
          "output_type": "display_data",
          "data": {
            "text/plain": "  HOUR_I_R ALCHL_I ALIGN_I STRATUM_R WRK_ZONE WKDY_I_R INT_HWY LGTCON_I_R\n1 0        2       2       1         0        1        0       3         \n2 1        2       1       0         0        1        1       3         \n3 1        2       1       0         0        1        0       3         \n4 1        2       1       1         0        0        0       3         \n5 1        1       1       0         0        1        0       3         \n6 1        2       1       1         0        1        0       3         \n  MANCOL_I_R PED_ACC_R ... TRAF_CON_R TRAF_WAY VEH_INVL WEATHER_R INJURY_CRASH\n1 0          0         ... 0          3        1        1         1           \n2 2          0         ... 0          3        2        2         0           \n3 2          0         ... 1          2        2        2         0           \n4 2          0         ... 1          2        2        1         0           \n5 2          0         ... 0          2        3        1         0           \n6 0          0         ... 0          2        1        2         1           \n  NO_INJ_I PRPTYDMG_CRASH FATALITIES MAX_SEV_IR INJURY\n1 1        0              0          1          1     \n2 0        1              0          0          0     \n3 0        1              0          0          0     \n4 0        1              0          0          0     \n5 0        1              0          0          0     \n6 1        0              0          1          1     ",
            "text/latex": "A data.frame: 6 x 25\n\\begin{tabular}{r|lllllllllllllllllllllllll}\n HOUR\\_I\\_R & ALCHL\\_I & ALIGN\\_I & STRATUM\\_R & WRK\\_ZONE & WKDY\\_I\\_R & INT\\_HWY & LGTCON\\_I\\_R & MANCOL\\_I\\_R & PED\\_ACC\\_R & RELJCT\\_I\\_R & REL\\_RWY\\_R & PROFIL\\_I\\_R & SPD\\_LIM & SUR\\_COND & TRAF\\_CON\\_R & TRAF\\_WAY & VEH\\_INVL & WEATHER\\_R & INJURY\\_CRASH & NO\\_INJ\\_I & PRPTYDMG\\_CRASH & FATALITIES & MAX\\_SEV\\_IR & INJURY\\\\\n <int> & <int> & <int> & <int> & <int> & <int> & <int> & <int> & <int> & <int> & <int> & <int> & <int> & <int> & <int> & <int> & <int> & <int> & <int> & <int> & <int> & <int> & <int> & <dbl> & <int>\\\\\n\\hline\n\t 0 & 2 & 2 & 1 & 0 & 1 & 0 & 3 & 0 & 0 & 1 & 0 & 1 & 40 & 4 & 0 & 3 & 1 & 1 & 1 & 1 & 0 & 0 & 1 & 1\\\\\n\t 1 & 2 & 1 & 0 & 0 & 1 & 1 & 3 & 2 & 0 & 1 & 1 & 1 & 70 & 4 & 0 & 3 & 2 & 2 & 0 & 0 & 1 & 0 & 0 & 0\\\\\n\t 1 & 2 & 1 & 0 & 0 & 1 & 0 & 3 & 2 & 0 & 1 & 1 & 1 & 35 & 4 & 1 & 2 & 2 & 2 & 0 & 0 & 1 & 0 & 0 & 0\\\\\n\t 1 & 2 & 1 & 1 & 0 & 0 & 0 & 3 & 2 & 0 & 1 & 1 & 1 & 35 & 4 & 1 & 2 & 2 & 1 & 0 & 0 & 1 & 0 & 0 & 0\\\\\n\t 1 & 1 & 1 & 0 & 0 & 1 & 0 & 3 & 2 & 0 & 0 & 1 & 1 & 25 & 4 & 0 & 2 & 3 & 1 & 0 & 0 & 1 & 0 & 0 & 0\\\\\n\t 1 & 2 & 1 & 1 & 0 & 1 & 0 & 3 & 0 & 0 & 1 & 0 & 1 & 70 & 4 & 0 & 2 & 1 & 2 & 1 & 1 & 0 & 0 & 1 & 1\\\\\n\\end{tabular}\n",
            "text/markdown": "\nA data.frame: 6 x 25\n\n| HOUR_I_R &lt;int&gt; | ALCHL_I &lt;int&gt; | ALIGN_I &lt;int&gt; | STRATUM_R &lt;int&gt; | WRK_ZONE &lt;int&gt; | WKDY_I_R &lt;int&gt; | INT_HWY &lt;int&gt; | LGTCON_I_R &lt;int&gt; | MANCOL_I_R &lt;int&gt; | PED_ACC_R &lt;int&gt; | ... ... | TRAF_CON_R &lt;int&gt; | TRAF_WAY &lt;int&gt; | VEH_INVL &lt;int&gt; | WEATHER_R &lt;int&gt; | INJURY_CRASH &lt;int&gt; | NO_INJ_I &lt;int&gt; | PRPTYDMG_CRASH &lt;int&gt; | FATALITIES &lt;int&gt; | MAX_SEV_IR &lt;dbl&gt; | INJURY &lt;int&gt; |\n|---|---|---|---|---|---|---|---|---|---|---|---|---|---|---|---|---|---|---|---|---|\n| 0 | 2 | 2 | 1 | 0 | 1 | 0 | 3 | 0 | 0 | ... | 0 | 3 | 1 | 1 | 1 | 1 | 0 | 0 | 1 | 1 |\n| 1 | 2 | 1 | 0 | 0 | 1 | 1 | 3 | 2 | 0 | ... | 0 | 3 | 2 | 2 | 0 | 0 | 1 | 0 | 0 | 0 |\n| 1 | 2 | 1 | 0 | 0 | 1 | 0 | 3 | 2 | 0 | ... | 1 | 2 | 2 | 2 | 0 | 0 | 1 | 0 | 0 | 0 |\n| 1 | 2 | 1 | 1 | 0 | 0 | 0 | 3 | 2 | 0 | ... | 1 | 2 | 2 | 1 | 0 | 0 | 1 | 0 | 0 | 0 |\n| 1 | 1 | 1 | 0 | 0 | 1 | 0 | 3 | 2 | 0 | ... | 0 | 2 | 3 | 1 | 0 | 0 | 1 | 0 | 0 | 0 |\n| 1 | 2 | 1 | 1 | 0 | 1 | 0 | 3 | 0 | 0 | ... | 0 | 2 | 1 | 2 | 1 | 1 | 0 | 0 | 1 | 1 |\n\n",
            "text/html": "<table>\n<caption>A data.frame: 6 x 25</caption>\n<thead>\n\t<tr><th scope=col>HOUR_I_R</th><th scope=col>ALCHL_I</th><th scope=col>ALIGN_I</th><th scope=col>STRATUM_R</th><th scope=col>WRK_ZONE</th><th scope=col>WKDY_I_R</th><th scope=col>INT_HWY</th><th scope=col>LGTCON_I_R</th><th scope=col>MANCOL_I_R</th><th scope=col>PED_ACC_R</th><th scope=col>...</th><th scope=col>TRAF_CON_R</th><th scope=col>TRAF_WAY</th><th scope=col>VEH_INVL</th><th scope=col>WEATHER_R</th><th scope=col>INJURY_CRASH</th><th scope=col>NO_INJ_I</th><th scope=col>PRPTYDMG_CRASH</th><th scope=col>FATALITIES</th><th scope=col>MAX_SEV_IR</th><th scope=col>INJURY</th></tr>\n\t<tr><th scope=col>&lt;int&gt;</th><th scope=col>&lt;int&gt;</th><th scope=col>&lt;int&gt;</th><th scope=col>&lt;int&gt;</th><th scope=col>&lt;int&gt;</th><th scope=col>&lt;int&gt;</th><th scope=col>&lt;int&gt;</th><th scope=col>&lt;int&gt;</th><th scope=col>&lt;int&gt;</th><th scope=col>&lt;int&gt;</th><th scope=col>...</th><th scope=col>&lt;int&gt;</th><th scope=col>&lt;int&gt;</th><th scope=col>&lt;int&gt;</th><th scope=col>&lt;int&gt;</th><th scope=col>&lt;int&gt;</th><th scope=col>&lt;int&gt;</th><th scope=col>&lt;int&gt;</th><th scope=col>&lt;int&gt;</th><th scope=col>&lt;dbl&gt;</th><th scope=col>&lt;int&gt;</th></tr>\n</thead>\n<tbody>\n\t<tr><td>0</td><td>2</td><td>2</td><td>1</td><td>0</td><td>1</td><td>0</td><td>3</td><td>0</td><td>0</td><td>...</td><td>0</td><td>3</td><td>1</td><td>1</td><td>1</td><td>1</td><td>0</td><td>0</td><td>1</td><td>1</td></tr>\n\t<tr><td>1</td><td>2</td><td>1</td><td>0</td><td>0</td><td>1</td><td>1</td><td>3</td><td>2</td><td>0</td><td>...</td><td>0</td><td>3</td><td>2</td><td>2</td><td>0</td><td>0</td><td>1</td><td>0</td><td>0</td><td>0</td></tr>\n\t<tr><td>1</td><td>2</td><td>1</td><td>0</td><td>0</td><td>1</td><td>0</td><td>3</td><td>2</td><td>0</td><td>...</td><td>1</td><td>2</td><td>2</td><td>2</td><td>0</td><td>0</td><td>1</td><td>0</td><td>0</td><td>0</td></tr>\n\t<tr><td>1</td><td>2</td><td>1</td><td>1</td><td>0</td><td>0</td><td>0</td><td>3</td><td>2</td><td>0</td><td>...</td><td>1</td><td>2</td><td>2</td><td>1</td><td>0</td><td>0</td><td>1</td><td>0</td><td>0</td><td>0</td></tr>\n\t<tr><td>1</td><td>1</td><td>1</td><td>0</td><td>0</td><td>1</td><td>0</td><td>3</td><td>2</td><td>0</td><td>...</td><td>0</td><td>2</td><td>3</td><td>1</td><td>0</td><td>0</td><td>1</td><td>0</td><td>0</td><td>0</td></tr>\n\t<tr><td>1</td><td>2</td><td>1</td><td>1</td><td>0</td><td>1</td><td>0</td><td>3</td><td>0</td><td>0</td><td>...</td><td>0</td><td>2</td><td>1</td><td>2</td><td>1</td><td>1</td><td>0</td><td>0</td><td>1</td><td>1</td></tr>\n</tbody>\n</table>\n"
          },
          "metadata": {}
        }
      ]
    },
    {
      "metadata": {},
      "cell_type": "markdown",
      "source": "###### a) Using this information alone, if a new accident has been reported, and no other information is available, what is your prediction for INJURY?"
    },
    {
      "metadata": {
        "trusted": true
      },
      "cell_type": "code",
      "source": "# Check out the distribution of INJURY\n\ndim(raw.df)\nsummary(raw.df$INJURY)\n\ntemp.df <- split(raw.df, raw.df$INJURY)\n\ndim(temp.df[[1]]) # no accident\ndim(temp.df[[2]]) # accident\n\n# therefore, based off of majority rule, any new row would be assumed to be INJURY = 1",
      "execution_count": 5,
      "outputs": [
        {
          "output_type": "display_data",
          "data": {
            "text/plain": "[1] 42183    25",
            "text/latex": "\\begin{enumerate*}\n\\item 42183\n\\item 25\n\\end{enumerate*}\n",
            "text/markdown": "1. 42183\n2. 25\n\n\n",
            "text/html": "<ol class=list-inline>\n\t<li>42183</li>\n\t<li>25</li>\n</ol>\n"
          },
          "metadata": {}
        },
        {
          "output_type": "display_data",
          "data": {
            "text/plain": "   Min. 1st Qu.  Median    Mean 3rd Qu.    Max. \n 0.0000  0.0000  1.0000  0.5198  1.0000  2.0000 "
          },
          "metadata": {}
        },
        {
          "output_type": "display_data",
          "data": {
            "text/plain": "[1] 20721    25",
            "text/latex": "\\begin{enumerate*}\n\\item 20721\n\\item 25\n\\end{enumerate*}\n",
            "text/markdown": "1. 20721\n2. 25\n\n\n",
            "text/html": "<ol class=list-inline>\n\t<li>20721</li>\n\t<li>25</li>\n</ol>\n"
          },
          "metadata": {}
        },
        {
          "output_type": "display_data",
          "data": {
            "text/plain": "[1] 20996    25",
            "text/latex": "\\begin{enumerate*}\n\\item 20996\n\\item 25\n\\end{enumerate*}\n",
            "text/markdown": "1. 20996\n2. 25\n\n\n",
            "text/html": "<ol class=list-inline>\n\t<li>20996</li>\n\t<li>25</li>\n</ol>\n"
          },
          "metadata": {}
        }
      ]
    },
    {
      "metadata": {
        "trusted": true
      },
      "cell_type": "markdown",
      "source": "###### b) Select the first 12 records and look only at INJURY, WEATHER_R, and TRAF_CON_R"
    },
    {
      "metadata": {
        "trusted": true
      },
      "cell_type": "code",
      "source": "subset.df <- raw.df[1:12,c(16,19,25)]\nsubset.df$TRAF_CON_R <- factor(subset.df$TRAF_CON_R)\nsubset.df$WEATHER_R <- factor(subset.df$WEATHER_R)\nsubset.df$INJURY <- factor(subset.df$INJURY)\n\ndim(subset.df)\nhead(subset.df)",
      "execution_count": 6,
      "outputs": [
        {
          "output_type": "display_data",
          "data": {
            "text/plain": "[1] 12  3",
            "text/latex": "\\begin{enumerate*}\n\\item 12\n\\item 3\n\\end{enumerate*}\n",
            "text/markdown": "1. 12\n2. 3\n\n\n",
            "text/html": "<ol class=list-inline>\n\t<li>12</li>\n\t<li>3</li>\n</ol>\n"
          },
          "metadata": {}
        },
        {
          "output_type": "display_data",
          "data": {
            "text/plain": "  TRAF_CON_R WEATHER_R INJURY\n1 0          1         1     \n2 0          2         0     \n3 1          2         0     \n4 1          1         0     \n5 0          1         0     \n6 0          2         1     ",
            "text/latex": "A data.frame: 6 x 3\n\\begin{tabular}{r|lll}\n TRAF\\_CON\\_R & WEATHER\\_R & INJURY\\\\\n <fct> & <fct> & <fct>\\\\\n\\hline\n\t 0 & 1 & 1\\\\\n\t 0 & 2 & 0\\\\\n\t 1 & 2 & 0\\\\\n\t 1 & 1 & 0\\\\\n\t 0 & 1 & 0\\\\\n\t 0 & 2 & 1\\\\\n\\end{tabular}\n",
            "text/markdown": "\nA data.frame: 6 x 3\n\n| TRAF_CON_R &lt;fct&gt; | WEATHER_R &lt;fct&gt; | INJURY &lt;fct&gt; |\n|---|---|---|\n| 0 | 1 | 1 |\n| 0 | 2 | 0 |\n| 1 | 2 | 0 |\n| 1 | 1 | 0 |\n| 0 | 1 | 0 |\n| 0 | 2 | 1 |\n\n",
            "text/html": "<table>\n<caption>A data.frame: 6 x 3</caption>\n<thead>\n\t<tr><th scope=col>TRAF_CON_R</th><th scope=col>WEATHER_R</th><th scope=col>INJURY</th></tr>\n\t<tr><th scope=col>&lt;fct&gt;</th><th scope=col>&lt;fct&gt;</th><th scope=col>&lt;fct&gt;</th></tr>\n</thead>\n<tbody>\n\t<tr><td>0</td><td>1</td><td>1</td></tr>\n\t<tr><td>0</td><td>2</td><td>0</td></tr>\n\t<tr><td>1</td><td>2</td><td>0</td></tr>\n\t<tr><td>1</td><td>1</td><td>0</td></tr>\n\t<tr><td>0</td><td>1</td><td>0</td></tr>\n\t<tr><td>0</td><td>2</td><td>1</td></tr>\n</tbody>\n</table>\n"
          },
          "metadata": {}
        }
      ]
    },
    {
      "metadata": {},
      "cell_type": "markdown",
      "source": "###### b1) Turn this into a pivot table"
    },
    {
      "metadata": {
        "trusted": true
      },
      "cell_type": "code",
      "source": "#?dcast\n\n#this is me trying out some new stuff\n#dcast(data = subset.df, formula = INJURY ~ ...)\n\nftable(subset.df[,c(\"INJURY\",\"TRAF_CON_R\",\"WEATHER_R\")])",
      "execution_count": 7,
      "outputs": [
        {
          "output_type": "display_data",
          "data": {
            "text/plain": "                  WEATHER_R 1 2\nINJURY TRAF_CON_R              \n0      0                    1 5\n       1                    1 1\n       2                    1 0\n1      0                    2 1\n       1                    0 0\n       2                    0 0"
          },
          "metadata": {}
        }
      ]
    },
    {
      "metadata": {
        "trusted": true
      },
      "cell_type": "markdown",
      "source": "###### b2) Compute the exact Bayes conditional probability of an INJURY = 1 given all combinations"
    },
    {
      "metadata": {},
      "cell_type": "markdown",
      "source": "example calculation steps from class:\n\n1. Take a record, and note its predictor values\n2. Find the probabilities those predictor values occur across all records in $C_1$\n3. Multiply them together, then by proportion of records belonging to $C_1$\n4. Same for $C_2$,   $C_3$,   etc.\n5. Prob. of belonging to $C_1$ is value from step (3) divide by sum of all such values $C_1, …, C_n$\n6. Establish & adjust a “cutoff” prob. for class of interest"
    },
    {
      "metadata": {},
      "cell_type": "markdown",
      "source": "Therefore, the probabilities for INJURY = 1 are:\n\nTRAF_CON_R = 0, WEATHER_R = 1 : 0.3333 (2/6)\n\nTRAF_CON_R = 0, WEATHER_R = 2 : 0.1666 (1/6)\n\nTRAF_CON_R = 1, WEATHER_R = 1 : 0\n\nTRAF_CON_R = 1, WEATHER_R = 2 : 0\n\nTRAF_CON_R = 2, WEATHER_R = 1 : 0\n\nTRAF_CON_R = 2, WEATHER_R = 2 : 0"
    },
    {
      "metadata": {},
      "cell_type": "markdown",
      "source": "###### b3) Classify these 12 accidents using these probabilities and a cutoff of 0.5"
    },
    {
      "metadata": {
        "trusted": true
      },
      "cell_type": "code",
      "source": "# this doesn't make complete sense in context of my calculations above since the above asked us to consider only INJURY = 1",
      "execution_count": 8,
      "outputs": []
    },
    {
      "metadata": {},
      "cell_type": "markdown",
      "source": "###### b4) Compute manually the naive Bayes probability of any injury given WEATHER_R = 1 and TRAF_CON_R = 1"
    },
    {
      "metadata": {
        "trusted": true
      },
      "cell_type": "code",
      "source": "# screwing up b2 didn't help me here.",
      "execution_count": 9,
      "outputs": []
    },
    {
      "metadata": {},
      "cell_type": "markdown",
      "source": "###### b5) Run naive Bayes on these 12 records and 2 predictors using R. Compare to Exact Bayes"
    },
    {
      "metadata": {
        "trusted": true
      },
      "cell_type": "code",
      "source": "#trying some things from the book:\n\nnaive.nb <- naive_bayes(INJURY ~ ., data=subset.df)\nnaive.nb\n\n#the cell below this has what I took from class notes... with some mixed results",
      "execution_count": 15,
      "outputs": [
        {
          "output_type": "stream",
          "text": "Warning message:\n“naive_bayes(): Feature TRAF_CON_R - zero probabilities are present. Consider Laplace smoothing.”",
          "name": "stderr"
        },
        {
          "output_type": "display_data",
          "data": {
            "text/plain": "\n================================== Naive Bayes ================================== \n \n Call: \nnaive_bayes.formula(formula = INJURY ~ ., data = subset.df)\n\n--------------------------------------------------------------------------------- \n \nLaplace smoothing: 0\n\n--------------------------------------------------------------------------------- \n \n A priori probabilities: \n\n   0    1 \n0.75 0.25 \n\n--------------------------------------------------------------------------------- \n \n Tables: \n\n--------------------------------------------------------------------------------- \n ::: TRAF_CON_R (Categorical) \n--------------------------------------------------------------------------------- \n          \nTRAF_CON_R         0         1\n         0 0.6666667 1.0000000\n         1 0.2222222 0.0000000\n         2 0.1111111 0.0000000\n\n--------------------------------------------------------------------------------- \n ::: WEATHER_R (Bernoulli) \n--------------------------------------------------------------------------------- \n         \nWEATHER_R         0         1\n        1 0.3333333 0.6666667\n        2 0.6666667 0.3333333\n\n---------------------------------------------------------------------------------\n"
          },
          "metadata": {}
        }
      ]
    },
    {
      "metadata": {
        "trusted": true
      },
      "cell_type": "code",
      "source": "nbGrid <- expand.grid(\n    usekernel = TRUE,\n    adjust = c(1, 1.5, 2),\n    laplace = c(0, 1)\n)\n\n# this threw an error... don't understand why\nnbCtrl <- trainControl(classProbs = TRUE, summaryFunction = twoClassSummary)\n\nSubsetNBFit <- train(\n    y=subset.df$INJURY,\n    x=subset.df[, 2:3],\n    method=\"naive_bayes\",\n    tuneGrid=nbGrid,\n#    trControl=nbCtrl,\n    metric=\"Sens\"\n)\n\nSubsetNBFit",
      "execution_count": 14,
      "outputs": [
        {
          "output_type": "stream",
          "text": "Warning message in train.default(y = subset.df$INJURY, x = subset.df[, 2:3], method = \"naive_bayes\", :\n“The metric \"Sens\" was not in the result set. Accuracy will be used instead.”Warning message:\n“naive_bayes(): Feature WEATHER_R - zero probabilities are present. Consider Laplace smoothing.”Warning message:\n“naive_bayes(): Feature INJURY - zero probabilities are present. Consider Laplace smoothing.”Warning message:\n“naive_bayes(): Feature WEATHER_R - zero probabilities are present. Consider Laplace smoothing.”Warning message:\n“naive_bayes(): Feature INJURY - zero probabilities are present. Consider Laplace smoothing.”Warning message:\n“naive_bayes(): Feature WEATHER_R - zero probabilities are present. Consider Laplace smoothing.”Warning message:\n“naive_bayes(): Feature INJURY - zero probabilities are present. Consider Laplace smoothing.”Warning message:\n“naive_bayes(): Feature INJURY - zero probabilities are present. Consider Laplace smoothing.”Warning message:\n“naive_bayes(): Feature INJURY - zero probabilities are present. Consider Laplace smoothing.”Warning message:\n“naive_bayes(): Feature INJURY - zero probabilities are present. Consider Laplace smoothing.”Warning message:\n“naive_bayes(): Feature INJURY - zero probabilities are present. Consider Laplace smoothing.”Warning message:\n“naive_bayes(): Feature INJURY - zero probabilities are present. Consider Laplace smoothing.”Warning message:\n“naive_bayes(): Feature INJURY - zero probabilities are present. Consider Laplace smoothing.”Warning message:\n“naive_bayes(): Feature INJURY - zero probabilities are present. Consider Laplace smoothing.”Warning message:\n“naive_bayes(): Feature INJURY - zero probabilities are present. Consider Laplace smoothing.”Warning message:\n“naive_bayes(): Feature INJURY - zero probabilities are present. Consider Laplace smoothing.”Warning message:\n“naive_bayes(): Feature INJURY - zero probabilities are present. Consider Laplace smoothing.”Warning message:\n“naive_bayes(): Feature INJURY - zero probabilities are present. Consider Laplace smoothing.”Warning message:\n“naive_bayes(): Feature INJURY - zero probabilities are present. Consider Laplace smoothing.”Warning message:\n“naive_bayes(): Feature INJURY - zero probabilities are present. Consider Laplace smoothing.”Warning message:\n“naive_bayes(): Feature INJURY - zero probabilities are present. Consider Laplace smoothing.”Warning message:\n“naive_bayes(): Feature INJURY - zero probabilities are present. Consider Laplace smoothing.”Warning message:\n“naive_bayes(): Feature INJURY - zero probabilities are present. Consider Laplace smoothing.”Warning message:\n“naive_bayes(): Feature INJURY - zero probabilities are present. Consider Laplace smoothing.”Warning message:\n“naive_bayes(): Feature INJURY - zero probabilities are present. Consider Laplace smoothing.”Warning message:\n“naive_bayes(): Feature INJURY - zero probabilities are present. Consider Laplace smoothing.”Warning message:\n“naive_bayes(): Feature INJURY - zero probabilities are present. Consider Laplace smoothing.”Warning message:\n“naive_bayes(): Feature INJURY - zero probabilities are present. Consider Laplace smoothing.”Warning message:\n“naive_bayes(): Feature INJURY - zero probabilities are present. Consider Laplace smoothing.”Warning message:\n“naive_bayes(): Feature INJURY - zero probabilities are present. Consider Laplace smoothing.”Warning message:\n“naive_bayes(): Feature INJURY - zero probabilities are present. Consider Laplace smoothing.”Warning message:\n“naive_bayes(): Feature WEATHER_R - zero probabilities are present. Consider Laplace smoothing.”Warning message:\n“naive_bayes(): Feature INJURY - zero probabilities are present. Consider Laplace smoothing.”Warning message:\n“naive_bayes(): Feature WEATHER_R - zero probabilities are present. Consider Laplace smoothing.”Warning message:\n“naive_bayes(): Feature INJURY - zero probabilities are present. Consider Laplace smoothing.”Warning message:\n“naive_bayes(): Feature WEATHER_R - zero probabilities are present. Consider Laplace smoothing.”Warning message:\n“naive_bayes(): Feature INJURY - zero probabilities are present. Consider Laplace smoothing.”Warning message:\n“naive_bayes(): Feature INJURY - zero probabilities are present. Consider Laplace smoothing.”Warning message:\n“naive_bayes(): Feature INJURY - zero probabilities are present. Consider Laplace smoothing.”Warning message:\n“naive_bayes(): Feature INJURY - zero probabilities are present. Consider Laplace smoothing.”Warning message:\n“naive_bayes(): Feature WEATHER_R - zero probabilities are present. Consider Laplace smoothing.”Warning message:\n“naive_bayes(): Feature INJURY - zero probabilities are present. Consider Laplace smoothing.”Warning message:\n“naive_bayes(): Feature WEATHER_R - zero probabilities are present. Consider Laplace smoothing.”Warning message:\n“naive_bayes(): Feature INJURY - zero probabilities are present. Consider Laplace smoothing.”Warning message:\n“naive_bayes(): Feature WEATHER_R - zero probabilities are present. Consider Laplace smoothing.”Warning message:\n“naive_bayes(): Feature INJURY - zero probabilities are present. Consider Laplace smoothing.”Warning message:\n“naive_bayes(): Feature INJURY - zero probabilities are present. Consider Laplace smoothing.”Warning message:\n“naive_bayes(): Feature INJURY - zero probabilities are present. Consider Laplace smoothing.”Warning message:\n“naive_bayes(): Feature INJURY - zero probabilities are present. Consider Laplace smoothing.”Warning message:\n“naive_bayes(): Feature WEATHER_R - zero probabilities are present. Consider Laplace smoothing.”Warning message:\n“naive_bayes(): Feature INJURY - zero probabilities are present. Consider Laplace smoothing.”Warning message:\n“naive_bayes(): Feature WEATHER_R - zero probabilities are present. Consider Laplace smoothing.”Warning message:\n“naive_bayes(): Feature INJURY - zero probabilities are present. Consider Laplace smoothing.”Warning message:\n“naive_bayes(): Feature WEATHER_R - zero probabilities are present. Consider Laplace smoothing.”Warning message:\n“naive_bayes(): Feature INJURY - zero probabilities are present. Consider Laplace smoothing.”Warning message:\n“naive_bayes(): Feature INJURY - zero probabilities are present. Consider Laplace smoothing.”Warning message:\n“naive_bayes(): Feature INJURY - zero probabilities are present. Consider Laplace smoothing.”Warning message:\n“naive_bayes(): Feature INJURY - zero probabilities are present. Consider Laplace smoothing.”Warning message:\n“naive_bayes(): Feature WEATHER_R - zero probabilities are present. Consider Laplace smoothing.”Warning message:\n“naive_bayes(): Feature INJURY - zero probabilities are present. Consider Laplace smoothing.”Warning message:\n“naive_bayes(): Feature WEATHER_R - zero probabilities are present. Consider Laplace smoothing.”Warning message:\n“naive_bayes(): Feature INJURY - zero probabilities are present. Consider Laplace smoothing.”Warning message:\n“naive_bayes(): Feature WEATHER_R - zero probabilities are present. Consider Laplace smoothing.”Warning message:\n“naive_bayes(): Feature INJURY - zero probabilities are present. Consider Laplace smoothing.”Warning message:\n“naive_bayes(): Feature WEATHER_R - zero probabilities are present. Consider Laplace smoothing.”Warning message:\n“naive_bayes(): Feature INJURY - zero probabilities are present. Consider Laplace smoothing.”Warning message:\n“naive_bayes(): Feature WEATHER_R - zero probabilities are present. Consider Laplace smoothing.”Warning message:\n“naive_bayes(): Feature INJURY - zero probabilities are present. Consider Laplace smoothing.”Warning message:\n“naive_bayes(): Feature WEATHER_R - zero probabilities are present. Consider Laplace smoothing.”Warning message:\n“naive_bayes(): Feature INJURY - zero probabilities are present. Consider Laplace smoothing.”Warning message:\n“naive_bayes(): Feature INJURY - zero probabilities are present. Consider Laplace smoothing.”Warning message:\n“naive_bayes(): Feature INJURY - zero probabilities are present. Consider Laplace smoothing.”Warning message:\n“naive_bayes(): Feature INJURY - zero probabilities are present. Consider Laplace smoothing.”Warning message:\n“naive_bayes(): Feature WEATHER_R - zero probabilities are present. Consider Laplace smoothing.”Warning message:\n“naive_bayes(): Feature INJURY - zero probabilities are present. Consider Laplace smoothing.”Warning message:\n“naive_bayes(): Feature WEATHER_R - zero probabilities are present. Consider Laplace smoothing.”Warning message:\n“naive_bayes(): Feature INJURY - zero probabilities are present. Consider Laplace smoothing.”Warning message:\n“naive_bayes(): Feature WEATHER_R - zero probabilities are present. Consider Laplace smoothing.”Warning message:\n“naive_bayes(): Feature INJURY - zero probabilities are present. Consider Laplace smoothing.”Warning message:\n“naive_bayes(): Feature WEATHER_R - zero probabilities are present. Consider Laplace smoothing.”Warning message:\n“naive_bayes(): Feature INJURY - zero probabilities are present. Consider Laplace smoothing.”Warning message:\n“naive_bayes(): Feature WEATHER_R - zero probabilities are present. Consider Laplace smoothing.”Warning message:\n“naive_bayes(): Feature INJURY - zero probabilities are present. Consider Laplace smoothing.”Warning message:\n“naive_bayes(): Feature WEATHER_R - zero probabilities are present. Consider Laplace smoothing.”Warning message:\n“naive_bayes(): Feature INJURY - zero probabilities are present. Consider Laplace smoothing.”Warning message:\n“naive_bayes(): Feature WEATHER_R - zero probabilities are present. Consider Laplace smoothing.”Warning message:\n“naive_bayes(): Feature INJURY - zero probabilities are present. Consider Laplace smoothing.”Warning message:\n“naive_bayes(): Feature WEATHER_R - zero probabilities are present. Consider Laplace smoothing.”Warning message:\n“naive_bayes(): Feature INJURY - zero probabilities are present. Consider Laplace smoothing.”Warning message:\n“naive_bayes(): Feature WEATHER_R - zero probabilities are present. Consider Laplace smoothing.”Warning message:\n“naive_bayes(): Feature INJURY - zero probabilities are present. Consider Laplace smoothing.”Warning message:\n“naive_bayes(): Feature INJURY - zero probabilities are present. Consider Laplace smoothing.”Warning message:\n“naive_bayes(): Feature INJURY - zero probabilities are present. Consider Laplace smoothing.”Warning message:\n“naive_bayes(): Feature INJURY - zero probabilities are present. Consider Laplace smoothing.”Warning message:\n“naive_bayes(): Feature INJURY - zero probabilities are present. Consider Laplace smoothing.”Warning message:\n“naive_bayes(): Feature INJURY - zero probabilities are present. Consider Laplace smoothing.”Warning message:\n“naive_bayes(): Feature INJURY - zero probabilities are present. Consider Laplace smoothing.”Warning message:\n“naive_bayes(): Feature INJURY - zero probabilities are present. Consider Laplace smoothing.”Warning message:\n“naive_bayes(): Feature INJURY - zero probabilities are present. Consider Laplace smoothing.”Warning message:\n“naive_bayes(): Feature INJURY - zero probabilities are present. Consider Laplace smoothing.”Warning message:\n“naive_bayes(): Feature WEATHER_R - zero probabilities are present. Consider Laplace smoothing.”Warning message:\n“naive_bayes(): Feature INJURY - zero probabilities are present. Consider Laplace smoothing.”Warning message:\n“naive_bayes(): Feature WEATHER_R - zero probabilities are present. Consider Laplace smoothing.”Warning message:\n“naive_bayes(): Feature INJURY - zero probabilities are present. Consider Laplace smoothing.”Warning message:\n“naive_bayes(): Feature WEATHER_R - zero probabilities are present. Consider Laplace smoothing.”Warning message:\n“naive_bayes(): Feature INJURY - zero probabilities are present. Consider Laplace smoothing.”Warning message in nominalTrainWorkflow(x = x, y = y, wts = weights, info = trainInfo, :\n“There were missing values in resampled performance measures.”Warning message:\n“naive_bayes(): Feature INJURY - zero probabilities are present. Consider Laplace smoothing.”",
          "name": "stderr"
        },
        {
          "output_type": "display_data",
          "data": {
            "text/plain": "Naive Bayes \n\n12 samples\n 2 predictor\n 2 classes: '0', '1' \n\nNo pre-processing\nResampling: Bootstrapped (25 reps) \nSummary of sample sizes: 12, 12, 12, 12, 12, 12, ... \nResampling results across tuning parameters:\n\n  adjust  laplace  Accuracy   Kappa    \n  1.0     0        0.8905797  0.6497326\n  1.0     1        0.8713333  0.6866029\n  1.5     0        0.8905797  0.6497326\n  1.5     1        0.8713333  0.6866029\n  2.0     0        0.8905797  0.6497326\n  2.0     1        0.8713333  0.6866029\n\nTuning parameter 'usekernel' was held constant at a value of TRUE\nAccuracy was used to select the optimal model using the largest value.\nThe final values used for the model were laplace = 0, usekernel = TRUE\n and adjust = 1."
          },
          "metadata": {}
        }
      ]
    },
    {
      "metadata": {},
      "cell_type": "markdown",
      "source": "###### c) Upon the entire dataset, partition into training and validation"
    },
    {
      "metadata": {
        "trusted": true
      },
      "cell_type": "code",
      "source": "rawBackup.df <- raw.df\n\nfor(i in 1:ncol(raw.df)) raw.df[,i]=factor(raw.df[,i])\n\nraw.df$ID <- seq.int(nrow(raw.df))\ntrainingList <- createDataPartition(raw.df$ID, p = 0.6, list = FALSE, times = 1)\ntrain.df <- raw.df[trainingList,]\ntest.df <- raw.df[-trainingList,]\n\ndim(train.df)\n\ndim(test.df)",
      "execution_count": 16,
      "outputs": [
        {
          "output_type": "display_data",
          "data": {
            "text/plain": "[1] 25311    26",
            "text/latex": "\\begin{enumerate*}\n\\item 25311\n\\item 26\n\\end{enumerate*}\n",
            "text/markdown": "1. 25311\n2. 26\n\n\n",
            "text/html": "<ol class=list-inline>\n\t<li>25311</li>\n\t<li>26</li>\n</ol>\n"
          },
          "metadata": {}
        },
        {
          "output_type": "display_data",
          "data": {
            "text/plain": "[1] 16872    26",
            "text/latex": "\\begin{enumerate*}\n\\item 16872\n\\item 26\n\\end{enumerate*}\n",
            "text/markdown": "1. 16872\n2. 26\n\n\n",
            "text/html": "<ol class=list-inline>\n\t<li>16872</li>\n\t<li>26</li>\n</ol>\n"
          },
          "metadata": {}
        }
      ]
    },
    {
      "metadata": {},
      "cell_type": "markdown",
      "source": "###### c1) Which predictors can we include in the analysis?"
    },
    {
      "metadata": {},
      "cell_type": "markdown",
      "source": "Per the lab, we're using: HOUR_I_R, ALIGN_I, WRK_ZONE, WKDY_I_R, INT_HWY, LGTCON_I_R, PROFIL_I_R,\nSPD_LIM, SUR_CON, TRAF_CON_R, TRAF_WAY and WEATHER_R."
    },
    {
      "metadata": {},
      "cell_type": "markdown",
      "source": "###### c2) Run a naive Bayes classifier on the complete training set with the relevant predictors and INJURY as a response. Show the confusion matrix."
    },
    {
      "metadata": {
        "trusted": true
      },
      "cell_type": "code",
      "source": "# trying to reduce the DF down to necessary columns only\n\ntrain.df <- subset(train.df, select = c(INJURY,\n                   HOUR_I_R, \n                   ALIGN_I, \n                   WRK_ZONE, \n                   WKDY_I_R, \n                   INT_HWY, \n                   LGTCON_I_R, \n                   PROFIL_I_R, \n                   SPD_LIM, \n                   SUR_COND, \n                   TRAF_CON_R, \n                   TRAF_WAY, \n                   WEATHER_R))\n\ntest.df <- subset(test.df, select = c(INJURY,\n                   HOUR_I_R, \n                   ALIGN_I, \n                   WRK_ZONE, \n                   WKDY_I_R, \n                   INT_HWY, \n                   LGTCON_I_R, \n                   PROFIL_I_R, \n                   SPD_LIM, \n                   SUR_COND, \n                   TRAF_CON_R, \n                   TRAF_WAY, \n                   WEATHER_R))\n\nhead(train.df)",
      "execution_count": 17,
      "outputs": [
        {
          "output_type": "display_data",
          "data": {
            "text/plain": "   INJURY HOUR_I_R ALIGN_I WRK_ZONE WKDY_I_R INT_HWY LGTCON_I_R PROFIL_I_R\n2  0      1        1       0        1        1       3          1         \n3  0      1        1       0        1        0       3          1         \n4  0      1        1       0        0        0       3          1         \n5  0      1        1       0        1        0       3          1         \n9  0      1        1       0        1        0       3          1         \n11 0      1        1       0        1        0       3          1         \n   SPD_LIM SUR_COND TRAF_CON_R TRAF_WAY WEATHER_R\n2  70      4        0          3        2        \n3  35      4        1          2        2        \n4  35      4        1          2        1        \n5  25      4        0          2        1        \n9  30      4        0          1        2        \n11 55      4        0          1        2        ",
            "text/latex": "A data.frame: 6 x 13\n\\begin{tabular}{r|lllllllllllll}\n  & INJURY & HOUR\\_I\\_R & ALIGN\\_I & WRK\\_ZONE & WKDY\\_I\\_R & INT\\_HWY & LGTCON\\_I\\_R & PROFIL\\_I\\_R & SPD\\_LIM & SUR\\_COND & TRAF\\_CON\\_R & TRAF\\_WAY & WEATHER\\_R\\\\\n  & <fct> & <fct> & <fct> & <fct> & <fct> & <fct> & <fct> & <fct> & <fct> & <fct> & <fct> & <fct> & <fct>\\\\\n\\hline\n\t2 & 0 & 1 & 1 & 0 & 1 & 1 & 3 & 1 & 70 & 4 & 0 & 3 & 2\\\\\n\t3 & 0 & 1 & 1 & 0 & 1 & 0 & 3 & 1 & 35 & 4 & 1 & 2 & 2\\\\\n\t4 & 0 & 1 & 1 & 0 & 0 & 0 & 3 & 1 & 35 & 4 & 1 & 2 & 1\\\\\n\t5 & 0 & 1 & 1 & 0 & 1 & 0 & 3 & 1 & 25 & 4 & 0 & 2 & 1\\\\\n\t9 & 0 & 1 & 1 & 0 & 1 & 0 & 3 & 1 & 30 & 4 & 0 & 1 & 2\\\\\n\t11 & 0 & 1 & 1 & 0 & 1 & 0 & 3 & 1 & 55 & 4 & 0 & 1 & 2\\\\\n\\end{tabular}\n",
            "text/markdown": "\nA data.frame: 6 x 13\n\n| <!--/--> | INJURY &lt;fct&gt; | HOUR_I_R &lt;fct&gt; | ALIGN_I &lt;fct&gt; | WRK_ZONE &lt;fct&gt; | WKDY_I_R &lt;fct&gt; | INT_HWY &lt;fct&gt; | LGTCON_I_R &lt;fct&gt; | PROFIL_I_R &lt;fct&gt; | SPD_LIM &lt;fct&gt; | SUR_COND &lt;fct&gt; | TRAF_CON_R &lt;fct&gt; | TRAF_WAY &lt;fct&gt; | WEATHER_R &lt;fct&gt; |\n|---|---|---|---|---|---|---|---|---|---|---|---|---|---|\n| 2 | 0 | 1 | 1 | 0 | 1 | 1 | 3 | 1 | 70 | 4 | 0 | 3 | 2 |\n| 3 | 0 | 1 | 1 | 0 | 1 | 0 | 3 | 1 | 35 | 4 | 1 | 2 | 2 |\n| 4 | 0 | 1 | 1 | 0 | 0 | 0 | 3 | 1 | 35 | 4 | 1 | 2 | 1 |\n| 5 | 0 | 1 | 1 | 0 | 1 | 0 | 3 | 1 | 25 | 4 | 0 | 2 | 1 |\n| 9 | 0 | 1 | 1 | 0 | 1 | 0 | 3 | 1 | 30 | 4 | 0 | 1 | 2 |\n| 11 | 0 | 1 | 1 | 0 | 1 | 0 | 3 | 1 | 55 | 4 | 0 | 1 | 2 |\n\n",
            "text/html": "<table>\n<caption>A data.frame: 6 x 13</caption>\n<thead>\n\t<tr><th></th><th scope=col>INJURY</th><th scope=col>HOUR_I_R</th><th scope=col>ALIGN_I</th><th scope=col>WRK_ZONE</th><th scope=col>WKDY_I_R</th><th scope=col>INT_HWY</th><th scope=col>LGTCON_I_R</th><th scope=col>PROFIL_I_R</th><th scope=col>SPD_LIM</th><th scope=col>SUR_COND</th><th scope=col>TRAF_CON_R</th><th scope=col>TRAF_WAY</th><th scope=col>WEATHER_R</th></tr>\n\t<tr><th></th><th scope=col>&lt;fct&gt;</th><th scope=col>&lt;fct&gt;</th><th scope=col>&lt;fct&gt;</th><th scope=col>&lt;fct&gt;</th><th scope=col>&lt;fct&gt;</th><th scope=col>&lt;fct&gt;</th><th scope=col>&lt;fct&gt;</th><th scope=col>&lt;fct&gt;</th><th scope=col>&lt;fct&gt;</th><th scope=col>&lt;fct&gt;</th><th scope=col>&lt;fct&gt;</th><th scope=col>&lt;fct&gt;</th><th scope=col>&lt;fct&gt;</th></tr>\n</thead>\n<tbody>\n\t<tr><th scope=row>2</th><td>0</td><td>1</td><td>1</td><td>0</td><td>1</td><td>1</td><td>3</td><td>1</td><td>70</td><td>4</td><td>0</td><td>3</td><td>2</td></tr>\n\t<tr><th scope=row>3</th><td>0</td><td>1</td><td>1</td><td>0</td><td>1</td><td>0</td><td>3</td><td>1</td><td>35</td><td>4</td><td>1</td><td>2</td><td>2</td></tr>\n\t<tr><th scope=row>4</th><td>0</td><td>1</td><td>1</td><td>0</td><td>0</td><td>0</td><td>3</td><td>1</td><td>35</td><td>4</td><td>1</td><td>2</td><td>1</td></tr>\n\t<tr><th scope=row>5</th><td>0</td><td>1</td><td>1</td><td>0</td><td>1</td><td>0</td><td>3</td><td>1</td><td>25</td><td>4</td><td>0</td><td>2</td><td>1</td></tr>\n\t<tr><th scope=row>9</th><td>0</td><td>1</td><td>1</td><td>0</td><td>1</td><td>0</td><td>3</td><td>1</td><td>30</td><td>4</td><td>0</td><td>1</td><td>2</td></tr>\n\t<tr><th scope=row>11</th><td>0</td><td>1</td><td>1</td><td>0</td><td>1</td><td>0</td><td>3</td><td>1</td><td>55</td><td>4</td><td>0</td><td>1</td><td>2</td></tr>\n</tbody>\n</table>\n"
          },
          "metadata": {}
        }
      ]
    },
    {
      "metadata": {
        "trusted": true
      },
      "cell_type": "code",
      "source": "#raw.nb <- naiveBayes(\"INJURY\" - c(\"HOUR_I_R\", \"ALIGN_I\", \"WRK_ZONE\", \"WKDY_I_R\", \"INT_HWY\", \"LGTCON_I_R\", \"PROFIL_I_R\", \"SPD_LIM\", \"SUR_CON\", \"TRAF_CON_R\", \"TRAF_WAY\", \"WEATHER_R\"), data = train.df)\n\nset.seed(420)\n\nnbGrid <- expand.grid(\n    usekernel = TRUE,\n    adjust = c(1, 1.5, 2),\n    # even with this set, I still got tons of warnings below...\n    laplace = c(0, 1)\n)\n\n# this threw an error... don't understand why\n#nbCtrl <- trainControl(classProbs = TRUE, summaryFunction = twoClassSummary)\n\nnbFit <- train(\n    y=train.df$INJURY,\n    x=train.df[, 2:13],\n    method=\"naive_bayes\",\n    tuneGrid=nbGrid,\n #   trControl=nbCtrl,\n    # Sens kept getting abandoned as not being in the result set. Why?\n    metric=\"Sens\"\n)\n\nnbFit",
      "execution_count": 18,
      "outputs": [
        {
          "output_type": "stream",
          "text": "Warning message in train.default(y = train.df$INJURY, x = train.df[, 2:13], method = \"naive_bayes\", :\n“The metric \"Sens\" was not in the result set. Accuracy will be used instead.”Warning message:\n“naive_bayes(): Feature SPD_LIM - zero probabilities are present. Consider Laplace smoothing.”Warning message:\n“naive_bayes(): Feature SPD_LIM - zero probabilities are present. Consider Laplace smoothing.”Warning message:\n“naive_bayes(): Feature SPD_LIM - zero probabilities are present. Consider Laplace smoothing.”Warning message:\n“naive_bayes(): Feature SPD_LIM - zero probabilities are present. Consider Laplace smoothing.”Warning message:\n“naive_bayes(): Feature SPD_LIM - zero probabilities are present. Consider Laplace smoothing.”Warning message:\n“naive_bayes(): Feature SPD_LIM - zero probabilities are present. Consider Laplace smoothing.”Warning message:\n“naive_bayes(): Feature SPD_LIM - zero probabilities are present. Consider Laplace smoothing.”Warning message:\n“naive_bayes(): Feature SPD_LIM - zero probabilities are present. Consider Laplace smoothing.”Warning message:\n“naive_bayes(): Feature SPD_LIM - zero probabilities are present. Consider Laplace smoothing.”Warning message:\n“naive_bayes(): Feature SPD_LIM - zero probabilities are present. Consider Laplace smoothing.”Warning message:\n“naive_bayes(): Feature SUR_COND - zero probabilities are present. Consider Laplace smoothing.”Warning message:\n“naive_bayes(): Feature SPD_LIM - zero probabilities are present. Consider Laplace smoothing.”Warning message:\n“naive_bayes(): Feature SUR_COND - zero probabilities are present. Consider Laplace smoothing.”Warning message:\n“naive_bayes(): Feature SPD_LIM - zero probabilities are present. Consider Laplace smoothing.”Warning message:\n“naive_bayes(): Feature SUR_COND - zero probabilities are present. Consider Laplace smoothing.”Warning message:\n“naive_bayes(): Feature SPD_LIM - zero probabilities are present. Consider Laplace smoothing.”Warning message:\n“naive_bayes(): Feature SUR_COND - zero probabilities are present. Consider Laplace smoothing.”Warning message:\n“naive_bayes(): Feature SPD_LIM - zero probabilities are present. Consider Laplace smoothing.”Warning message:\n“naive_bayes(): Feature SUR_COND - zero probabilities are present. Consider Laplace smoothing.”Warning message:\n“naive_bayes(): Feature SPD_LIM - zero probabilities are present. Consider Laplace smoothing.”Warning message:\n“naive_bayes(): Feature SUR_COND - zero probabilities are present. Consider Laplace smoothing.”Warning message:\n“naive_bayes(): Feature SPD_LIM - zero probabilities are present. Consider Laplace smoothing.”Warning message:\n“naive_bayes(): Feature SPD_LIM - zero probabilities are present. Consider Laplace smoothing.”Warning message:\n“naive_bayes(): Feature SPD_LIM - zero probabilities are present. Consider Laplace smoothing.”Warning message:\n“naive_bayes(): Feature SPD_LIM - zero probabilities are present. Consider Laplace smoothing.”Warning message:\n“naive_bayes(): Feature SUR_COND - zero probabilities are present. Consider Laplace smoothing.”Warning message:\n“naive_bayes(): Feature SPD_LIM - zero probabilities are present. Consider Laplace smoothing.”Warning message:\n“naive_bayes(): Feature SUR_COND - zero probabilities are present. Consider Laplace smoothing.”Warning message:\n“naive_bayes(): Feature SPD_LIM - zero probabilities are present. Consider Laplace smoothing.”Warning message:\n“naive_bayes(): Feature SUR_COND - zero probabilities are present. Consider Laplace smoothing.”Warning message:\n“naive_bayes(): Feature SPD_LIM - zero probabilities are present. Consider Laplace smoothing.”Warning message:\n“naive_bayes(): Feature SUR_COND - zero probabilities are present. Consider Laplace smoothing.”Warning message:\n“naive_bayes(): Feature SPD_LIM - zero probabilities are present. Consider Laplace smoothing.”Warning message:\n“naive_bayes(): Feature SUR_COND - zero probabilities are present. Consider Laplace smoothing.”Warning message:\n“naive_bayes(): Feature SPD_LIM - zero probabilities are present. Consider Laplace smoothing.”Warning message:\n“naive_bayes(): Feature SUR_COND - zero probabilities are present. Consider Laplace smoothing.”Warning message:\n“naive_bayes(): Feature INT_HWY - zero probabilities are present. Consider Laplace smoothing.”Warning message:\n“naive_bayes(): Feature SPD_LIM - zero probabilities are present. Consider Laplace smoothing.”Warning message:\n“naive_bayes(): Feature SUR_COND - zero probabilities are present. Consider Laplace smoothing.”Warning message:\n“naive_bayes(): Feature INT_HWY - zero probabilities are present. Consider Laplace smoothing.”Warning message:\n“naive_bayes(): Feature SPD_LIM - zero probabilities are present. Consider Laplace smoothing.”Warning message:\n“naive_bayes(): Feature SUR_COND - zero probabilities are present. Consider Laplace smoothing.”Warning message:\n“naive_bayes(): Feature INT_HWY - zero probabilities are present. Consider Laplace smoothing.”Warning message:\n“naive_bayes(): Feature SPD_LIM - zero probabilities are present. Consider Laplace smoothing.”Warning message:\n“naive_bayes(): Feature SUR_COND - zero probabilities are present. Consider Laplace smoothing.”Warning message:\n“naive_bayes(): Feature INT_HWY - zero probabilities are present. Consider Laplace smoothing.”Warning message:\n“naive_bayes(): Feature SPD_LIM - zero probabilities are present. Consider Laplace smoothing.”Warning message:\n“naive_bayes(): Feature SUR_COND - zero probabilities are present. Consider Laplace smoothing.”Warning message:\n“naive_bayes(): Feature INT_HWY - zero probabilities are present. Consider Laplace smoothing.”Warning message:\n“naive_bayes(): Feature SPD_LIM - zero probabilities are present. Consider Laplace smoothing.”Warning message:\n“naive_bayes(): Feature SUR_COND - zero probabilities are present. Consider Laplace smoothing.”Warning message:\n“naive_bayes(): Feature INT_HWY - zero probabilities are present. Consider Laplace smoothing.”Warning message:\n“naive_bayes(): Feature SPD_LIM - zero probabilities are present. Consider Laplace smoothing.”Warning message:\n“naive_bayes(): Feature SUR_COND - zero probabilities are present. Consider Laplace smoothing.”Warning message:\n“naive_bayes(): Feature SPD_LIM - zero probabilities are present. Consider Laplace smoothing.”Warning message:\n“naive_bayes(): Feature SPD_LIM - zero probabilities are present. Consider Laplace smoothing.”Warning message:\n“naive_bayes(): Feature SPD_LIM - zero probabilities are present. Consider Laplace smoothing.”Warning message:\n“naive_bayes(): Feature INT_HWY - zero probabilities are present. Consider Laplace smoothing.”Warning message:\n“naive_bayes(): Feature SPD_LIM - zero probabilities are present. Consider Laplace smoothing.”Warning message:\n“naive_bayes(): Feature SUR_COND - zero probabilities are present. Consider Laplace smoothing.”Warning message:\n“naive_bayes(): Feature INT_HWY - zero probabilities are present. Consider Laplace smoothing.”Warning message:\n“naive_bayes(): Feature SPD_LIM - zero probabilities are present. Consider Laplace smoothing.”Warning message:\n“naive_bayes(): Feature SUR_COND - zero probabilities are present. Consider Laplace smoothing.”Warning message:\n“naive_bayes(): Feature INT_HWY - zero probabilities are present. Consider Laplace smoothing.”Warning message:\n“naive_bayes(): Feature SPD_LIM - zero probabilities are present. Consider Laplace smoothing.”Warning message:\n“naive_bayes(): Feature SUR_COND - zero probabilities are present. Consider Laplace smoothing.”Warning message:\n“naive_bayes(): Feature SPD_LIM - zero probabilities are present. Consider Laplace smoothing.”Warning message:\n“naive_bayes(): Feature SPD_LIM - zero probabilities are present. Consider Laplace smoothing.”Warning message:\n“naive_bayes(): Feature SPD_LIM - zero probabilities are present. Consider Laplace smoothing.”Warning message:\n“naive_bayes(): Feature SPD_LIM - zero probabilities are present. Consider Laplace smoothing.”Warning message:\n“naive_bayes(): Feature SUR_COND - zero probabilities are present. Consider Laplace smoothing.”Warning message:\n“naive_bayes(): Feature SPD_LIM - zero probabilities are present. Consider Laplace smoothing.”Warning message:\n“naive_bayes(): Feature SUR_COND - zero probabilities are present. Consider Laplace smoothing.”Warning message:\n“naive_bayes(): Feature SPD_LIM - zero probabilities are present. Consider Laplace smoothing.”Warning message:\n“naive_bayes(): Feature SUR_COND - zero probabilities are present. Consider Laplace smoothing.”Warning message:\n“naive_bayes(): Feature INT_HWY - zero probabilities are present. Consider Laplace smoothing.”Warning message:\n“naive_bayes(): Feature SPD_LIM - zero probabilities are present. Consider Laplace smoothing.”Warning message:\n“naive_bayes(): Feature SUR_COND - zero probabilities are present. Consider Laplace smoothing.”Warning message:\n“naive_bayes(): Feature INT_HWY - zero probabilities are present. Consider Laplace smoothing.”Warning message:\n“naive_bayes(): Feature SPD_LIM - zero probabilities are present. Consider Laplace smoothing.”Warning message:\n“naive_bayes(): Feature SUR_COND - zero probabilities are present. Consider Laplace smoothing.”Warning message:\n“naive_bayes(): Feature INT_HWY - zero probabilities are present. Consider Laplace smoothing.”Warning message:\n“naive_bayes(): Feature SPD_LIM - zero probabilities are present. Consider Laplace smoothing.”Warning message:\n“naive_bayes(): Feature SUR_COND - zero probabilities are present. Consider Laplace smoothing.”Warning message:\n“naive_bayes(): Feature SPD_LIM - zero probabilities are present. Consider Laplace smoothing.”Warning message:\n“naive_bayes(): Feature SPD_LIM - zero probabilities are present. Consider Laplace smoothing.”Warning message:\n“naive_bayes(): Feature SPD_LIM - zero probabilities are present. Consider Laplace smoothing.”Warning message:\n“naive_bayes(): Feature INT_HWY - zero probabilities are present. Consider Laplace smoothing.”Warning message:\n“naive_bayes(): Feature SPD_LIM - zero probabilities are present. Consider Laplace smoothing.”Warning message:\n“naive_bayes(): Feature SUR_COND - zero probabilities are present. Consider Laplace smoothing.”Warning message:\n“naive_bayes(): Feature INT_HWY - zero probabilities are present. Consider Laplace smoothing.”Warning message:\n“naive_bayes(): Feature SPD_LIM - zero probabilities are present. Consider Laplace smoothing.”Warning message:\n“naive_bayes(): Feature SUR_COND - zero probabilities are present. Consider Laplace smoothing.”Warning message:\n“naive_bayes(): Feature INT_HWY - zero probabilities are present. Consider Laplace smoothing.”Warning message:\n“naive_bayes(): Feature SPD_LIM - zero probabilities are present. Consider Laplace smoothing.”Warning message:\n“naive_bayes(): Feature SUR_COND - zero probabilities are present. Consider Laplace smoothing.”Warning message:\n“naive_bayes(): Feature SPD_LIM - zero probabilities are present. Consider Laplace smoothing.”Warning message:\n“naive_bayes(): Feature SPD_LIM - zero probabilities are present. Consider Laplace smoothing.”Warning message:\n“naive_bayes(): Feature SPD_LIM - zero probabilities are present. Consider Laplace smoothing.”Warning message:\n“naive_bayes(): Feature SPD_LIM - zero probabilities are present. Consider Laplace smoothing.”Warning message:\n“naive_bayes(): Feature SUR_COND - zero probabilities are present. Consider Laplace smoothing.”Warning message:\n“naive_bayes(): Feature SPD_LIM - zero probabilities are present. Consider Laplace smoothing.”Warning message:\n“naive_bayes(): Feature SUR_COND - zero probabilities are present. Consider Laplace smoothing.”Warning message:\n“naive_bayes(): Feature SPD_LIM - zero probabilities are present. Consider Laplace smoothing.”Warning message:\n“naive_bayes(): Feature SUR_COND - zero probabilities are present. Consider Laplace smoothing.”Warning message:\n“naive_bayes(): Feature INT_HWY - zero probabilities are present. Consider Laplace smoothing.”Warning message:\n“naive_bayes(): Feature SPD_LIM - zero probabilities are present. Consider Laplace smoothing.”Warning message:\n“naive_bayes(): Feature INT_HWY - zero probabilities are present. Consider Laplace smoothing.”Warning message:\n“naive_bayes(): Feature SPD_LIM - zero probabilities are present. Consider Laplace smoothing.”Warning message:\n“naive_bayes(): Feature INT_HWY - zero probabilities are present. Consider Laplace smoothing.”Warning message:\n“naive_bayes(): Feature SPD_LIM - zero probabilities are present. Consider Laplace smoothing.”Warning message:\n“naive_bayes(): Feature SPD_LIM - zero probabilities are present. Consider Laplace smoothing.”Warning message:\n“naive_bayes(): Feature SPD_LIM - zero probabilities are present. Consider Laplace smoothing.”Warning message:\n“naive_bayes(): Feature SPD_LIM - zero probabilities are present. Consider Laplace smoothing.”Warning message:\n“naive_bayes(): Feature INT_HWY - zero probabilities are present. Consider Laplace smoothing.”Warning message:\n“naive_bayes(): Feature SPD_LIM - zero probabilities are present. Consider Laplace smoothing.”Warning message:\n“naive_bayes(): Feature INT_HWY - zero probabilities are present. Consider Laplace smoothing.”Warning message:\n“naive_bayes(): Feature SPD_LIM - zero probabilities are present. Consider Laplace smoothing.”Warning message:\n“naive_bayes(): Feature INT_HWY - zero probabilities are present. Consider Laplace smoothing.”Warning message:\n“naive_bayes(): Feature SPD_LIM - zero probabilities are present. Consider Laplace smoothing.”Warning message:\n“naive_bayes(): Feature INT_HWY - zero probabilities are present. Consider Laplace smoothing.”Warning message:\n“naive_bayes(): Feature SPD_LIM - zero probabilities are present. Consider Laplace smoothing.”Warning message:\n“naive_bayes(): Feature SUR_COND - zero probabilities are present. Consider Laplace smoothing.”Warning message:\n“naive_bayes(): Feature INT_HWY - zero probabilities are present. Consider Laplace smoothing.”Warning message:\n“naive_bayes(): Feature SPD_LIM - zero probabilities are present. Consider Laplace smoothing.”Warning message:\n“naive_bayes(): Feature SUR_COND - zero probabilities are present. Consider Laplace smoothing.”Warning message:\n“naive_bayes(): Feature INT_HWY - zero probabilities are present. Consider Laplace smoothing.”Warning message:\n“naive_bayes(): Feature SPD_LIM - zero probabilities are present. Consider Laplace smoothing.”Warning message:\n“naive_bayes(): Feature SUR_COND - zero probabilities are present. Consider Laplace smoothing.”Warning message:\n“naive_bayes(): Feature SPD_LIM - zero probabilities are present. Consider Laplace smoothing.”Warning message:\n“naive_bayes(): Feature SPD_LIM - zero probabilities are present. Consider Laplace smoothing.”Warning message:\n“naive_bayes(): Feature SPD_LIM - zero probabilities are present. Consider Laplace smoothing.”Warning message:\n“naive_bayes(): Feature SPD_LIM - zero probabilities are present. Consider Laplace smoothing.”Warning message:\n“naive_bayes(): Feature SUR_COND - zero probabilities are present. Consider Laplace smoothing.”Warning message:\n“naive_bayes(): Feature SPD_LIM - zero probabilities are present. Consider Laplace smoothing.”Warning message:\n“naive_bayes(): Feature SUR_COND - zero probabilities are present. Consider Laplace smoothing.”Warning message:\n“naive_bayes(): Feature SPD_LIM - zero probabilities are present. Consider Laplace smoothing.”Warning message:\n“naive_bayes(): Feature SUR_COND - zero probabilities are present. Consider Laplace smoothing.”",
          "name": "stderr"
        },
        {
          "output_type": "display_data",
          "data": {
            "text/plain": "Naive Bayes \n\n25311 samples\n   12 predictor\n    3 classes: '0', '1', '2' \n\nNo pre-processing\nResampling: Bootstrapped (25 reps) \nSummary of sample sizes: 25311, 25311, 25311, 25311, 25311, 25311, ... \nResampling results across tuning parameters:\n\n  adjust  laplace  Accuracy   Kappa     \n  1.0     0        0.5284669  0.06654884\n  1.0     1        0.5284971  0.06667243\n  1.5     0        0.5284669  0.06654884\n  1.5     1        0.5284971  0.06667243\n  2.0     0        0.5284669  0.06654884\n  2.0     1        0.5284971  0.06667243\n\nTuning parameter 'usekernel' was held constant at a value of TRUE\nAccuracy was used to select the optimal model using the largest value.\nThe final values used for the model were laplace = 1, usekernel = TRUE\n and adjust = 1."
          },
          "metadata": {}
        }
      ]
    },
    {
      "metadata": {
        "trusted": true
      },
      "cell_type": "code",
      "source": "nb.tst <- predict(nbFit, test.df)\nconfusionMatrix(nb.tst, test.df$INJURY)\n\n#this doesn't look right at all",
      "execution_count": 19,
      "outputs": [
        {
          "output_type": "display_data",
          "data": {
            "text/plain": "Confusion Matrix and Statistics\n\n          Reference\nPrediction    0    1    2\n         0 3834 3354  105\n         1 4440 5044   94\n         2    1    0    0\n\nOverall Statistics\n                                          \n               Accuracy : 0.5262          \n                 95% CI : (0.5186, 0.5338)\n    No Information Rate : 0.4977          \n    P-Value [Acc > NIR] : 7.654e-14       \n                                          \n                  Kappa : 0.0626          \n                                          \n Mcnemar's Test P-Value : < 2.2e-16       \n\nStatistics by Class:\n\n                     Class: 0 Class: 1  Class: 2\nSensitivity            0.4633   0.6006 0.000e+00\nSpecificity            0.5977   0.4650 9.999e-01\nPos Pred Value         0.5257   0.5266 0.000e+00\nNeg Pred Value         0.5364   0.5402 9.882e-01\nPrevalence             0.4905   0.4977 1.179e-02\nDetection Rate         0.2272   0.2990 0.000e+00\nDetection Prevalence   0.4323   0.5677 5.927e-05\nBalanced Accuracy      0.5305   0.5328 5.000e-01"
          },
          "metadata": {}
        }
      ]
    },
    {
      "metadata": {},
      "cell_type": "markdown",
      "source": "###### c3) What is the overall error for the validation set?"
    },
    {
      "metadata": {
        "trusted": true
      },
      "cell_type": "code",
      "source": "# This doesn't seem like the right way to calculate this at all, but my notes say this is what I did for RMSE\n\npostResample(pred=nb.tst, obs=test.df$INJURY)",
      "execution_count": 20,
      "outputs": [
        {
          "output_type": "display_data",
          "data": {
            "text/plain": "  Accuracy      Kappa \n0.52619725 0.06257915 ",
            "text/latex": "\\begin{description*}\n\\item[Accuracy] 0.52619724988146\n\\item[Kappa] 0.0625791474735715\n\\end{description*}\n",
            "text/markdown": "Accuracy\n:   0.52619724988146Kappa\n:   0.0625791474735715\n\n",
            "text/html": "<dl class=dl-horizontal>\n\t<dt>Accuracy</dt>\n\t\t<dd>0.52619724988146</dd>\n\t<dt>Kappa</dt>\n\t\t<dd>0.0625791474735715</dd>\n</dl>\n"
          },
          "metadata": {}
        }
      ]
    }
  ],
  "metadata": {
    "kernelspec": {
      "name": "r",
      "display_name": "R",
      "language": "R"
    },
    "language_info": {
      "mimetype": "text/x-r-source",
      "name": "R",
      "pygments_lexer": "r",
      "version": "3.5.3",
      "file_extension": ".r",
      "codemirror_mode": "r"
    }
  },
  "nbformat": 4,
  "nbformat_minor": 2
}