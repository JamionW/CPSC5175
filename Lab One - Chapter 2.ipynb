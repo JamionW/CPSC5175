{
  "cells": [
    {
      "metadata": {
        "collapsed": true
      },
      "cell_type": "markdown",
      "source": "# CPSC5715 Lab 1 - Chapter 2\n#### Jamion Williams"
    },
    {
      "metadata": {},
      "cell_type": "markdown",
      "source": "### Problem 2.3\nConsider the sample form a database of credit applicants in Table 2.15. Comment on the likelihood that it was sampled randomly, and whether it is likely to be a useful sample."
    },
    {
      "metadata": {},
      "cell_type": "markdown",
      "source": "#### Answer\n\nOne major indicator that this was not a completely random sample, at least by using functions built-in within R, is the \"OBS\" column, which--acting as a contrived key--is simply too sequential and evenly spaced to be truly random. Starting at 1 is suspect enough, but the fact that each number is even, a multiple of 8, and of increasing sequential order, is a clue that the row was selected as a byproduct of a simpler sampling methodology.\n    \nThat does not alone make the data in Table 2.15 a bad sample--it's simply predictable. In fact, looking at the distribution of valid values across the other columns, it would appear that the sampling is well done enough to be useful. Certain columns are underrepresented (e.g. \"New Car\") but this could be completely legitimate; the data in this sample alone is not enough to tell."
    },
    {
      "metadata": {},
      "cell_type": "markdown",
      "source": "### Problem 2.4\nConsider the sample from a bank database shown in Table 2.16... the bank is looking for a model that will identify likely responders. Examine the data carefully and indicate what your enxt step would be. "
    },
    {
      "metadata": {},
      "cell_type": "markdown",
      "source": "#### Answer\nVerifying that the random sample of observation rows is random, it would appear that the response variable is sparse enough for modeling based off of the other attributes in the table. By amateurly looking at associations within the table, it seems as though there are correlations between the response (Personal Loan) and target Income (all above 100k), Education (categorical levels 2 and 3), and Age (30's and 40's). \n    \nConsidering that age would be a strong driver in a targeted marketing campaign, it might be useful to transform the Age column into a new Categorical column. This would perhaps act better for the business need at hand, and likely result in a stronger model if combined with the other two variables above."
    },
    {
      "metadata": {
        "trusted": true
      },
      "cell_type": "code",
      "source": "",
      "execution_count": null,
      "outputs": []
    }
  ],
  "metadata": {
    "kernelspec": {
      "name": "r",
      "display_name": "R",
      "language": "R"
    },
    "language_info": {
      "mimetype": "text/x-r-source",
      "name": "R",
      "pygments_lexer": "r",
      "version": "3.5.3",
      "file_extension": ".r",
      "codemirror_mode": "r"
    }
  },
  "nbformat": 4,
  "nbformat_minor": 2
}