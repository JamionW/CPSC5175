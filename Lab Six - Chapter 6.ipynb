{
  "cells": [
    {
      "metadata": {
        "collapsed": true
      },
      "cell_type": "markdown",
      "source": "# CPSC5175 Lab 6 - Chapter 6\n#### Jamion Williams"
    },
    {
      "metadata": {},
      "cell_type": "markdown",
      "source": "### Problem 6.2 c.\n##### Upon the Tayko Purchases dataset..."
    },
    {
      "metadata": {},
      "cell_type": "markdown",
      "source": "###### 1) Partition the 2000 records into training and validation sets."
    },
    {
      "metadata": {
        "trusted": true
      },
      "cell_type": "code",
      "source": "# some necessities. Since we're using carat, let's do the carat thing.\n\nlibrary(caret)\n#library(leaps) This won't install \ninstall.packages(\"https://cran.r-project.org/src/contrib/leaps_3.1.tar.gz\", repos = NULL)\nset.seed(420)",
      "execution_count": 8,
      "outputs": [
        {
          "output_type": "stream",
          "text": "Loading required package: lattice\nLoading required package: ggplot2\nInstalling package into ‘/home/nbuser/R’\n(as ‘lib’ is unspecified)\n",
          "name": "stderr"
        }
      ]
    },
    {
      "metadata": {
        "trusted": true
      },
      "cell_type": "code",
      "source": "# Import the dataset and interrogate it.\n\nraw.df <- read.csv(\"Datasets/Tayko.csv\",header = TRUE)\n\ndim(raw.df)\nt(t(names(raw.df)))\nhead(raw.df)\nsummary(raw.df)\ncolnames(raw.df)",
      "execution_count": 9,
      "outputs": [
        {
          "output_type": "display_data",
          "data": {
            "text/plain": "[1] 2000   25",
            "text/latex": "\\begin{enumerate*}\n\\item 2000\n\\item 25\n\\end{enumerate*}\n",
            "text/markdown": "1. 2000\n2. 25\n\n\n",
            "text/html": "<ol class=list-inline>\n\t<li>2000</li>\n\t<li>25</li>\n</ol>\n"
          },
          "metadata": {}
        },
        {
          "output_type": "display_data",
          "data": {
            "text/plain": "      [,1]                \n [1,] sequence_number     \n [2,] US                  \n [3,] source_a            \n [4,] source_c            \n [5,] source_b            \n [6,] source_d            \n [7,] source_e            \n [8,] source_m            \n [9,] source_o            \n[10,] source_h            \n[11,] source_r            \n[12,] source_s            \n[13,] source_t            \n[14,] source_u            \n[15,] source_p            \n[16,] source_x            \n[17,] source_w            \n[18,] Freq                \n[19,] last_update_days_ago\n[20,] X1st_update_days_ago\n[21,] Web.order           \n[22,] Gender.male         \n[23,] Address_is_res      \n[24,] Purchase            \n[25,] Spending            ",
            "text/latex": "A matrix: 25 x 1 of type chr\n\\begin{tabular}{l}\n\t sequence\\_number     \\\\\n\t US                  \\\\\n\t source\\_a            \\\\\n\t source\\_c            \\\\\n\t source\\_b            \\\\\n\t source\\_d            \\\\\n\t source\\_e            \\\\\n\t source\\_m            \\\\\n\t source\\_o            \\\\\n\t source\\_h            \\\\\n\t source\\_r            \\\\\n\t source\\_s            \\\\\n\t source\\_t            \\\\\n\t source\\_u            \\\\\n\t source\\_p            \\\\\n\t source\\_x            \\\\\n\t source\\_w            \\\\\n\t Freq                \\\\\n\t last\\_update\\_days\\_ago\\\\\n\t X1st\\_update\\_days\\_ago\\\\\n\t Web.order           \\\\\n\t Gender.male         \\\\\n\t Address\\_is\\_res      \\\\\n\t Purchase            \\\\\n\t Spending            \\\\\n\\end{tabular}\n",
            "text/markdown": "\nA matrix: 25 x 1 of type chr\n\n| sequence_number      |\n| US                   |\n| source_a             |\n| source_c             |\n| source_b             |\n| source_d             |\n| source_e             |\n| source_m             |\n| source_o             |\n| source_h             |\n| source_r             |\n| source_s             |\n| source_t             |\n| source_u             |\n| source_p             |\n| source_x             |\n| source_w             |\n| Freq                 |\n| last_update_days_ago |\n| X1st_update_days_ago |\n| Web.order            |\n| Gender.male          |\n| Address_is_res       |\n| Purchase             |\n| Spending             |\n\n",
            "text/html": "<table>\n<caption>A matrix: 25 x 1 of type chr</caption>\n<tbody>\n\t<tr><td>sequence_number     </td></tr>\n\t<tr><td>US                  </td></tr>\n\t<tr><td>source_a            </td></tr>\n\t<tr><td>source_c            </td></tr>\n\t<tr><td>source_b            </td></tr>\n\t<tr><td>source_d            </td></tr>\n\t<tr><td>source_e            </td></tr>\n\t<tr><td>source_m            </td></tr>\n\t<tr><td>source_o            </td></tr>\n\t<tr><td>source_h            </td></tr>\n\t<tr><td>source_r            </td></tr>\n\t<tr><td>source_s            </td></tr>\n\t<tr><td>source_t            </td></tr>\n\t<tr><td>source_u            </td></tr>\n\t<tr><td>source_p            </td></tr>\n\t<tr><td>source_x            </td></tr>\n\t<tr><td>source_w            </td></tr>\n\t<tr><td>Freq                </td></tr>\n\t<tr><td>last_update_days_ago</td></tr>\n\t<tr><td>X1st_update_days_ago</td></tr>\n\t<tr><td>Web.order           </td></tr>\n\t<tr><td>Gender.male         </td></tr>\n\t<tr><td>Address_is_res      </td></tr>\n\t<tr><td>Purchase            </td></tr>\n\t<tr><td>Spending            </td></tr>\n</tbody>\n</table>\n"
          },
          "metadata": {}
        },
        {
          "output_type": "display_data",
          "data": {
            "text/plain": "  sequence_number US source_a source_c source_b source_d source_e source_m\n1 1               1  0        0        1        0        0        0       \n2 2               1  0        0        0        0        1        0       \n3 3               1  0        0        0        0        0        0       \n4 4               1  0        1        0        0        0        0       \n5 5               1  0        1        0        0        0        0       \n6 6               1  0        0        0        0        0        0       \n  source_o source_h ... source_x source_w Freq last_update_days_ago\n1 0        0        ... 0        0        2    3662                \n2 0        0        ... 0        0        0    2900                \n3 0        0        ... 0        0        2    3883                \n4 0        0        ... 0        0        1     829                \n5 0        0        ... 0        0        1     869                \n6 0        0        ... 0        0        1    1995                \n  X1st_update_days_ago Web.order Gender.male Address_is_res Purchase Spending\n1 3662                 1         0           1              1        128     \n2 2900                 1         1           0              0          0     \n3 3914                 0         0           0              1        127     \n4  829                 0         1           0              0          0     \n5  869                 0         0           0              0          0     \n6 2002                 0         0           1              0          0     ",
            "text/latex": "A data.frame: 6 x 25\n\\begin{tabular}{r|lllllllllllllllllllllllll}\n sequence\\_number & US & source\\_a & source\\_c & source\\_b & source\\_d & source\\_e & source\\_m & source\\_o & source\\_h & source\\_r & source\\_s & source\\_t & source\\_u & source\\_p & source\\_x & source\\_w & Freq & last\\_update\\_days\\_ago & X1st\\_update\\_days\\_ago & Web.order & Gender.male & Address\\_is\\_res & Purchase & Spending\\\\\n <int> & <int> & <int> & <int> & <int> & <int> & <int> & <int> & <int> & <int> & <int> & <int> & <int> & <int> & <int> & <int> & <int> & <int> & <int> & <int> & <int> & <int> & <int> & <int> & <int>\\\\\n\\hline\n\t 1 & 1 & 0 & 0 & 1 & 0 & 0 & 0 & 0 & 0 & 0 & 0 & 0 & 0 & 0 & 0 & 0 & 2 & 3662 & 3662 & 1 & 0 & 1 & 1 & 128\\\\\n\t 2 & 1 & 0 & 0 & 0 & 0 & 1 & 0 & 0 & 0 & 0 & 0 & 0 & 0 & 0 & 0 & 0 & 0 & 2900 & 2900 & 1 & 1 & 0 & 0 &   0\\\\\n\t 3 & 1 & 0 & 0 & 0 & 0 & 0 & 0 & 0 & 0 & 0 & 0 & 1 & 0 & 0 & 0 & 0 & 2 & 3883 & 3914 & 0 & 0 & 0 & 1 & 127\\\\\n\t 4 & 1 & 0 & 1 & 0 & 0 & 0 & 0 & 0 & 0 & 0 & 0 & 0 & 0 & 0 & 0 & 0 & 1 &  829 &  829 & 0 & 1 & 0 & 0 &   0\\\\\n\t 5 & 1 & 0 & 1 & 0 & 0 & 0 & 0 & 0 & 0 & 0 & 0 & 0 & 0 & 0 & 0 & 0 & 1 &  869 &  869 & 0 & 0 & 0 & 0 &   0\\\\\n\t 6 & 1 & 0 & 0 & 0 & 0 & 0 & 0 & 0 & 0 & 1 & 0 & 0 & 0 & 0 & 0 & 0 & 1 & 1995 & 2002 & 0 & 0 & 1 & 0 &   0\\\\\n\\end{tabular}\n",
            "text/markdown": "\nA data.frame: 6 x 25\n\n| sequence_number &lt;int&gt; | US &lt;int&gt; | source_a &lt;int&gt; | source_c &lt;int&gt; | source_b &lt;int&gt; | source_d &lt;int&gt; | source_e &lt;int&gt; | source_m &lt;int&gt; | source_o &lt;int&gt; | source_h &lt;int&gt; | ... ... | source_x &lt;int&gt; | source_w &lt;int&gt; | Freq &lt;int&gt; | last_update_days_ago &lt;int&gt; | X1st_update_days_ago &lt;int&gt; | Web.order &lt;int&gt; | Gender.male &lt;int&gt; | Address_is_res &lt;int&gt; | Purchase &lt;int&gt; | Spending &lt;int&gt; |\n|---|---|---|---|---|---|---|---|---|---|---|---|---|---|---|---|---|---|---|---|---|\n| 1 | 1 | 0 | 0 | 1 | 0 | 0 | 0 | 0 | 0 | ... | 0 | 0 | 2 | 3662 | 3662 | 1 | 0 | 1 | 1 | 128 |\n| 2 | 1 | 0 | 0 | 0 | 0 | 1 | 0 | 0 | 0 | ... | 0 | 0 | 0 | 2900 | 2900 | 1 | 1 | 0 | 0 |   0 |\n| 3 | 1 | 0 | 0 | 0 | 0 | 0 | 0 | 0 | 0 | ... | 0 | 0 | 2 | 3883 | 3914 | 0 | 0 | 0 | 1 | 127 |\n| 4 | 1 | 0 | 1 | 0 | 0 | 0 | 0 | 0 | 0 | ... | 0 | 0 | 1 |  829 |  829 | 0 | 1 | 0 | 0 |   0 |\n| 5 | 1 | 0 | 1 | 0 | 0 | 0 | 0 | 0 | 0 | ... | 0 | 0 | 1 |  869 |  869 | 0 | 0 | 0 | 0 |   0 |\n| 6 | 1 | 0 | 0 | 0 | 0 | 0 | 0 | 0 | 0 | ... | 0 | 0 | 1 | 1995 | 2002 | 0 | 0 | 1 | 0 |   0 |\n\n",
            "text/html": "<table>\n<caption>A data.frame: 6 x 25</caption>\n<thead>\n\t<tr><th scope=col>sequence_number</th><th scope=col>US</th><th scope=col>source_a</th><th scope=col>source_c</th><th scope=col>source_b</th><th scope=col>source_d</th><th scope=col>source_e</th><th scope=col>source_m</th><th scope=col>source_o</th><th scope=col>source_h</th><th scope=col>...</th><th scope=col>source_x</th><th scope=col>source_w</th><th scope=col>Freq</th><th scope=col>last_update_days_ago</th><th scope=col>X1st_update_days_ago</th><th scope=col>Web.order</th><th scope=col>Gender.male</th><th scope=col>Address_is_res</th><th scope=col>Purchase</th><th scope=col>Spending</th></tr>\n\t<tr><th scope=col>&lt;int&gt;</th><th scope=col>&lt;int&gt;</th><th scope=col>&lt;int&gt;</th><th scope=col>&lt;int&gt;</th><th scope=col>&lt;int&gt;</th><th scope=col>&lt;int&gt;</th><th scope=col>&lt;int&gt;</th><th scope=col>&lt;int&gt;</th><th scope=col>&lt;int&gt;</th><th scope=col>&lt;int&gt;</th><th scope=col>...</th><th scope=col>&lt;int&gt;</th><th scope=col>&lt;int&gt;</th><th scope=col>&lt;int&gt;</th><th scope=col>&lt;int&gt;</th><th scope=col>&lt;int&gt;</th><th scope=col>&lt;int&gt;</th><th scope=col>&lt;int&gt;</th><th scope=col>&lt;int&gt;</th><th scope=col>&lt;int&gt;</th><th scope=col>&lt;int&gt;</th></tr>\n</thead>\n<tbody>\n\t<tr><td>1</td><td>1</td><td>0</td><td>0</td><td>1</td><td>0</td><td>0</td><td>0</td><td>0</td><td>0</td><td>...</td><td>0</td><td>0</td><td>2</td><td>3662</td><td>3662</td><td>1</td><td>0</td><td>1</td><td>1</td><td>128</td></tr>\n\t<tr><td>2</td><td>1</td><td>0</td><td>0</td><td>0</td><td>0</td><td>1</td><td>0</td><td>0</td><td>0</td><td>...</td><td>0</td><td>0</td><td>0</td><td>2900</td><td>2900</td><td>1</td><td>1</td><td>0</td><td>0</td><td>  0</td></tr>\n\t<tr><td>3</td><td>1</td><td>0</td><td>0</td><td>0</td><td>0</td><td>0</td><td>0</td><td>0</td><td>0</td><td>...</td><td>0</td><td>0</td><td>2</td><td>3883</td><td>3914</td><td>0</td><td>0</td><td>0</td><td>1</td><td>127</td></tr>\n\t<tr><td>4</td><td>1</td><td>0</td><td>1</td><td>0</td><td>0</td><td>0</td><td>0</td><td>0</td><td>0</td><td>...</td><td>0</td><td>0</td><td>1</td><td> 829</td><td> 829</td><td>0</td><td>1</td><td>0</td><td>0</td><td>  0</td></tr>\n\t<tr><td>5</td><td>1</td><td>0</td><td>1</td><td>0</td><td>0</td><td>0</td><td>0</td><td>0</td><td>0</td><td>...</td><td>0</td><td>0</td><td>1</td><td> 869</td><td> 869</td><td>0</td><td>0</td><td>0</td><td>0</td><td>  0</td></tr>\n\t<tr><td>6</td><td>1</td><td>0</td><td>0</td><td>0</td><td>0</td><td>0</td><td>0</td><td>0</td><td>0</td><td>...</td><td>0</td><td>0</td><td>1</td><td>1995</td><td>2002</td><td>0</td><td>0</td><td>1</td><td>0</td><td>  0</td></tr>\n</tbody>\n</table>\n"
          },
          "metadata": {}
        },
        {
          "output_type": "display_data",
          "data": {
            "text/plain": " sequence_number        US            source_a         source_c    \n Min.   :   1.0   Min.   :0.0000   Min.   :0.0000   Min.   :0.000  \n 1st Qu.: 500.8   1st Qu.:1.0000   1st Qu.:0.0000   1st Qu.:0.000  \n Median :1000.5   Median :1.0000   Median :0.0000   Median :0.000  \n Mean   :1000.5   Mean   :0.8245   Mean   :0.1265   Mean   :0.056  \n 3rd Qu.:1500.2   3rd Qu.:1.0000   3rd Qu.:0.0000   3rd Qu.:0.000  \n Max.   :2000.0   Max.   :1.0000   Max.   :1.0000   Max.   :1.000  \n    source_b       source_d         source_e        source_m     \n Min.   :0.00   Min.   :0.0000   Min.   :0.000   Min.   :0.0000  \n 1st Qu.:0.00   1st Qu.:0.0000   1st Qu.:0.000   1st Qu.:0.0000  \n Median :0.00   Median :0.0000   Median :0.000   Median :0.0000  \n Mean   :0.06   Mean   :0.0415   Mean   :0.151   Mean   :0.0165  \n 3rd Qu.:0.00   3rd Qu.:0.0000   3rd Qu.:0.000   3rd Qu.:0.0000  \n Max.   :1.00   Max.   :1.0000   Max.   :1.000   Max.   :1.0000  \n    source_o         source_h         source_r         source_s    \n Min.   :0.0000   Min.   :0.0000   Min.   :0.0000   Min.   :0.000  \n 1st Qu.:0.0000   1st Qu.:0.0000   1st Qu.:0.0000   1st Qu.:0.000  \n Median :0.0000   Median :0.0000   Median :0.0000   Median :0.000  \n Mean   :0.0335   Mean   :0.0525   Mean   :0.0685   Mean   :0.047  \n 3rd Qu.:0.0000   3rd Qu.:0.0000   3rd Qu.:0.0000   3rd Qu.:0.000  \n Max.   :1.0000   Max.   :1.0000   Max.   :1.0000   Max.   :1.000  \n    source_t         source_u        source_p        source_x    \n Min.   :0.0000   Min.   :0.000   Min.   :0.000   Min.   :0.000  \n 1st Qu.:0.0000   1st Qu.:0.000   1st Qu.:0.000   1st Qu.:0.000  \n Median :0.0000   Median :0.000   Median :0.000   Median :0.000  \n Mean   :0.0215   Mean   :0.119   Mean   :0.006   Mean   :0.018  \n 3rd Qu.:0.0000   3rd Qu.:0.000   3rd Qu.:0.000   3rd Qu.:0.000  \n Max.   :1.0000   Max.   :1.000   Max.   :1.000   Max.   :1.000  \n    source_w           Freq        last_update_days_ago X1st_update_days_ago\n Min.   :0.0000   Min.   : 0.000   Min.   :   1         Min.   :   1        \n 1st Qu.:0.0000   1st Qu.: 1.000   1st Qu.:1133         1st Qu.:1671        \n Median :0.0000   Median : 1.000   Median :2280         Median :2721        \n Mean   :0.1375   Mean   : 1.417   Mean   :2155         Mean   :2436        \n 3rd Qu.:0.0000   3rd Qu.: 2.000   3rd Qu.:3139         3rd Qu.:3353        \n Max.   :1.0000   Max.   :15.000   Max.   :4188         Max.   :4188        \n   Web.order      Gender.male     Address_is_res     Purchase  \n Min.   :0.000   Min.   :0.0000   Min.   :0.000   Min.   :0.0  \n 1st Qu.:0.000   1st Qu.:0.0000   1st Qu.:0.000   1st Qu.:0.0  \n Median :0.000   Median :1.0000   Median :0.000   Median :0.5  \n Mean   :0.426   Mean   :0.5245   Mean   :0.221   Mean   :0.5  \n 3rd Qu.:1.000   3rd Qu.:1.0000   3rd Qu.:0.000   3rd Qu.:1.0  \n Max.   :1.000   Max.   :1.0000   Max.   :1.000   Max.   :1.0  \n    Spending     \n Min.   :   0.0  \n 1st Qu.:   0.0  \n Median :   2.0  \n Mean   : 102.6  \n 3rd Qu.: 153.0  \n Max.   :1500.0  "
          },
          "metadata": {}
        },
        {
          "output_type": "display_data",
          "data": {
            "text/plain": " [1] \"sequence_number\"      \"US\"                   \"source_a\"            \n [4] \"source_c\"             \"source_b\"             \"source_d\"            \n [7] \"source_e\"             \"source_m\"             \"source_o\"            \n[10] \"source_h\"             \"source_r\"             \"source_s\"            \n[13] \"source_t\"             \"source_u\"             \"source_p\"            \n[16] \"source_x\"             \"source_w\"             \"Freq\"                \n[19] \"last_update_days_ago\" \"X1st_update_days_ago\" \"Web.order\"           \n[22] \"Gender.male\"          \"Address_is_res\"       \"Purchase\"            \n[25] \"Spending\"            ",
            "text/latex": "\\begin{enumerate*}\n\\item 'sequence\\_number'\n\\item 'US'\n\\item 'source\\_a'\n\\item 'source\\_c'\n\\item 'source\\_b'\n\\item 'source\\_d'\n\\item 'source\\_e'\n\\item 'source\\_m'\n\\item 'source\\_o'\n\\item 'source\\_h'\n\\item 'source\\_r'\n\\item 'source\\_s'\n\\item 'source\\_t'\n\\item 'source\\_u'\n\\item 'source\\_p'\n\\item 'source\\_x'\n\\item 'source\\_w'\n\\item 'Freq'\n\\item 'last\\_update\\_days\\_ago'\n\\item 'X1st\\_update\\_days\\_ago'\n\\item 'Web.order'\n\\item 'Gender.male'\n\\item 'Address\\_is\\_res'\n\\item 'Purchase'\n\\item 'Spending'\n\\end{enumerate*}\n",
            "text/markdown": "1. 'sequence_number'\n2. 'US'\n3. 'source_a'\n4. 'source_c'\n5. 'source_b'\n6. 'source_d'\n7. 'source_e'\n8. 'source_m'\n9. 'source_o'\n10. 'source_h'\n11. 'source_r'\n12. 'source_s'\n13. 'source_t'\n14. 'source_u'\n15. 'source_p'\n16. 'source_x'\n17. 'source_w'\n18. 'Freq'\n19. 'last_update_days_ago'\n20. 'X1st_update_days_ago'\n21. 'Web.order'\n22. 'Gender.male'\n23. 'Address_is_res'\n24. 'Purchase'\n25. 'Spending'\n\n\n",
            "text/html": "<ol class=list-inline>\n\t<li>'sequence_number'</li>\n\t<li>'US'</li>\n\t<li>'source_a'</li>\n\t<li>'source_c'</li>\n\t<li>'source_b'</li>\n\t<li>'source_d'</li>\n\t<li>'source_e'</li>\n\t<li>'source_m'</li>\n\t<li>'source_o'</li>\n\t<li>'source_h'</li>\n\t<li>'source_r'</li>\n\t<li>'source_s'</li>\n\t<li>'source_t'</li>\n\t<li>'source_u'</li>\n\t<li>'source_p'</li>\n\t<li>'source_x'</li>\n\t<li>'source_w'</li>\n\t<li>'Freq'</li>\n\t<li>'last_update_days_ago'</li>\n\t<li>'X1st_update_days_ago'</li>\n\t<li>'Web.order'</li>\n\t<li>'Gender.male'</li>\n\t<li>'Address_is_res'</li>\n\t<li>'Purchase'</li>\n\t<li>'Spending'</li>\n</ol>\n"
          },
          "metadata": {}
        }
      ]
    },
    {
      "metadata": {
        "trusted": true
      },
      "cell_type": "code",
      "source": "# Since everything in this dataset is a predictible variable (i.e. no dummies here bud) we can go ahead and split into training and validation.\n\ntrainingList <- createDataPartition(raw.df$sequence_number, p = 0.6, list = FALSE, times = 1)\ntrain.df <- raw.df[trainingList,]\ntest.df <- raw.df[-trainingList,]\n\ndim(train.df)\n\ndim(test.df)",
      "execution_count": 10,
      "outputs": [
        {
          "output_type": "display_data",
          "data": {
            "text/plain": "[1] 1200   25",
            "text/latex": "\\begin{enumerate*}\n\\item 1200\n\\item 25\n\\end{enumerate*}\n",
            "text/markdown": "1. 1200\n2. 25\n\n\n",
            "text/html": "<ol class=list-inline>\n\t<li>1200</li>\n\t<li>25</li>\n</ol>\n"
          },
          "metadata": {}
        },
        {
          "output_type": "display_data",
          "data": {
            "text/plain": "[1] 800  25",
            "text/latex": "\\begin{enumerate*}\n\\item 800\n\\item 25\n\\end{enumerate*}\n",
            "text/markdown": "1. 800\n2. 25\n\n\n",
            "text/html": "<ol class=list-inline>\n\t<li>800</li>\n\t<li>25</li>\n</ol>\n"
          },
          "metadata": {}
        }
      ]
    },
    {
      "metadata": {},
      "cell_type": "markdown",
      "source": "###### 2) Run a multiple linear regression model for Spending vs. all six predictors. Give the estimated predictive equation."
    },
    {
      "metadata": {
        "trusted": true
      },
      "cell_type": "code",
      "source": "linear <- train(\n    Spending ~ .,\n    data = train.df,\n    method = \"lm\",\n)\n\nlinear",
      "execution_count": 11,
      "outputs": [
        {
          "output_type": "display_data",
          "data": {
            "text/plain": "Linear Regression \n\n1200 samples\n  24 predictor\n\nNo pre-processing\nResampling: Bootstrapped (25 reps) \nSummary of sample sizes: 1200, 1200, 1200, 1200, 1200, 1200, ... \nResampling results:\n\n  RMSE      Rsquared  MAE     \n  131.0789  0.537976  74.65003\n\nTuning parameter 'intercept' was held constant at a value of TRUE"
          },
          "metadata": {}
        }
      ]
    },
    {
      "metadata": {
        "trusted": true
      },
      "cell_type": "code",
      "source": "options(scipen=999)  # Avoid scientific notation - STOLEN FROM TEACHER LOL\n\ncoef(linear$finalModel)",
      "execution_count": 12,
      "outputs": [
        {
          "output_type": "display_data",
          "data": {
            "text/plain": "         (Intercept)      sequence_number                   US \n        14.476155534         -0.002144057        -10.162363738 \n            source_a             source_c             source_b \n       -13.343583919        -57.889032121        -15.309849675 \n            source_d             source_e             source_m \n       -42.726344610        -26.417045864        -54.797832304 \n            source_o             source_h             source_r \n        11.286984958        -69.821407956          6.531406853 \n            source_s             source_t             source_u \n       -32.421574599        -39.771174570         -5.768656049 \n            source_p             source_x             source_w \n       -63.959526699        -19.764792673        -33.128731957 \n                Freq last_update_days_ago X1st_update_days_ago \n        76.035735525         -0.021081092          0.009141680 \n           Web.order          Gender.male       Address_is_res \n        -1.627645969          9.315576305        -69.339485337 \n            Purchase \n        96.798863597 ",
            "text/latex": "\\begin{description*}\n\\item[(Intercept)] 14.4761555340142\n\\item[sequence\\textbackslash{}\\_number] -0.0021440566304814\n\\item[US] -10.1623637379983\n\\item[source\\textbackslash{}\\_a] -13.3435839188828\n\\item[source\\textbackslash{}\\_c] -57.8890321206921\n\\item[source\\textbackslash{}\\_b] -15.3098496752229\n\\item[source\\textbackslash{}\\_d] -42.7263446097628\n\\item[source\\textbackslash{}\\_e] -26.4170458639864\n\\item[source\\textbackslash{}\\_m] -54.7978323036768\n\\item[source\\textbackslash{}\\_o] 11.2869849580429\n\\item[source\\textbackslash{}\\_h] -69.821407955719\n\\item[source\\textbackslash{}\\_r] 6.53140685296437\n\\item[source\\textbackslash{}\\_s] -32.4215745989918\n\\item[source\\textbackslash{}\\_t] -39.7711745697743\n\\item[source\\textbackslash{}\\_u] -5.76865604908312\n\\item[source\\textbackslash{}\\_p] -63.9595266985494\n\\item[source\\textbackslash{}\\_x] -19.7647926733236\n\\item[source\\textbackslash{}\\_w] -33.1287319569089\n\\item[Freq] 76.0357355250041\n\\item[last\\textbackslash{}\\_update\\textbackslash{}\\_days\\textbackslash{}\\_ago] -0.0210810915146061\n\\item[X1st\\textbackslash{}\\_update\\textbackslash{}\\_days\\textbackslash{}\\_ago] 0.00914167956151043\n\\item[Web.order] -1.6276459688597\n\\item[Gender.male] 9.3155763046541\n\\item[Address\\textbackslash{}\\_is\\textbackslash{}\\_res] -69.3394853372527\n\\item[Purchase] 96.7988635970087\n\\end{description*}\n",
            "text/markdown": "(Intercept)\n:   14.4761555340142sequence_number\n:   -0.0021440566304814US\n:   -10.1623637379983source_a\n:   -13.3435839188828source_c\n:   -57.8890321206921source_b\n:   -15.3098496752229source_d\n:   -42.7263446097628source_e\n:   -26.4170458639864source_m\n:   -54.7978323036768source_o\n:   11.2869849580429source_h\n:   -69.821407955719source_r\n:   6.53140685296437source_s\n:   -32.4215745989918source_t\n:   -39.7711745697743source_u\n:   -5.76865604908312source_p\n:   -63.9595266985494source_x\n:   -19.7647926733236source_w\n:   -33.1287319569089Freq\n:   76.0357355250041last_update_days_ago\n:   -0.0210810915146061X1st_update_days_ago\n:   0.00914167956151043Web.order\n:   -1.6276459688597Gender.male\n:   9.3155763046541Address_is_res\n:   -69.3394853372527Purchase\n:   96.7988635970087\n\n",
            "text/html": "<dl class=dl-horizontal>\n\t<dt>(Intercept)</dt>\n\t\t<dd>14.4761555340142</dd>\n\t<dt>sequence_number</dt>\n\t\t<dd>-0.0021440566304814</dd>\n\t<dt>US</dt>\n\t\t<dd>-10.1623637379983</dd>\n\t<dt>source_a</dt>\n\t\t<dd>-13.3435839188828</dd>\n\t<dt>source_c</dt>\n\t\t<dd>-57.8890321206921</dd>\n\t<dt>source_b</dt>\n\t\t<dd>-15.3098496752229</dd>\n\t<dt>source_d</dt>\n\t\t<dd>-42.7263446097628</dd>\n\t<dt>source_e</dt>\n\t\t<dd>-26.4170458639864</dd>\n\t<dt>source_m</dt>\n\t\t<dd>-54.7978323036768</dd>\n\t<dt>source_o</dt>\n\t\t<dd>11.2869849580429</dd>\n\t<dt>source_h</dt>\n\t\t<dd>-69.821407955719</dd>\n\t<dt>source_r</dt>\n\t\t<dd>6.53140685296437</dd>\n\t<dt>source_s</dt>\n\t\t<dd>-32.4215745989918</dd>\n\t<dt>source_t</dt>\n\t\t<dd>-39.7711745697743</dd>\n\t<dt>source_u</dt>\n\t\t<dd>-5.76865604908312</dd>\n\t<dt>source_p</dt>\n\t\t<dd>-63.9595266985494</dd>\n\t<dt>source_x</dt>\n\t\t<dd>-19.7647926733236</dd>\n\t<dt>source_w</dt>\n\t\t<dd>-33.1287319569089</dd>\n\t<dt>Freq</dt>\n\t\t<dd>76.0357355250041</dd>\n\t<dt>last_update_days_ago</dt>\n\t\t<dd>-0.0210810915146061</dd>\n\t<dt>X1st_update_days_ago</dt>\n\t\t<dd>0.00914167956151043</dd>\n\t<dt>Web.order</dt>\n\t\t<dd>-1.6276459688597</dd>\n\t<dt>Gender.male</dt>\n\t\t<dd>9.3155763046541</dd>\n\t<dt>Address_is_res</dt>\n\t\t<dd>-69.3394853372527</dd>\n\t<dt>Purchase</dt>\n\t\t<dd>96.7988635970087</dd>\n</dl>\n"
          },
          "metadata": {}
        }
      ]
    },
    {
      "metadata": {
        "trusted": true
      },
      "cell_type": "code",
      "source": "testModel <- predict(linear, test.df)\n\npostResample(testModel, test.df$Spending)",
      "execution_count": 13,
      "outputs": [
        {
          "output_type": "display_data",
          "data": {
            "text/plain": "       RMSE    Rsquared         MAE \n110.0062844   0.6345498  67.5919695 ",
            "text/latex": "\\begin{description*}\n\\item[RMSE] 110.006284435279\n\\item[Rsquared] 0.634549763023201\n\\item[MAE] 67.5919695101863\n\\end{description*}\n",
            "text/markdown": "RMSE\n:   110.006284435279Rsquared\n:   0.634549763023201MAE\n:   67.5919695101863\n\n",
            "text/html": "<dl class=dl-horizontal>\n\t<dt>RMSE</dt>\n\t\t<dd>110.006284435279</dd>\n\t<dt>Rsquared</dt>\n\t\t<dd>0.634549763023201</dd>\n\t<dt>MAE</dt>\n\t\t<dd>67.5919695101863</dd>\n</dl>\n"
          },
          "metadata": {}
        }
      ]
    },
    {
      "metadata": {},
      "cell_type": "markdown",
      "source": "###### 3) Based on this, what purchaser is likely to spend lots of money?"
    },
    {
      "metadata": {},
      "cell_type": "markdown",
      "source": "**Answer:** Dismissing frequency (as perhaps directly corrolated), web orders from sources r and o, from the U.S., seem to be the highest purchasers."
    },
    {
      "metadata": {},
      "cell_type": "markdown",
      "source": "###### 4) Which predictor would be dropped first here in a backwards elimination model?"
    },
    {
      "metadata": {
        "trusted": true
      },
      "cell_type": "code",
      "source": "set.seed(420)\n\nbackwards <- train(\n    Spending ~ .,\n    data = train.df,\n    method = \"leapBackward\"\n)\n\n#backwards2 <- regsubsets(\n#    Spending ~., \n#    data = train.df,\n#    method=\"backward\", \n#    nvmax=ncol(train.df)\n#)\n\n#backwards2",
      "execution_count": null,
      "outputs": []
    },
    {
      "metadata": {
        "trusted": true
      },
      "cell_type": "code",
      "source": "summary(backwards)",
      "execution_count": 33,
      "outputs": [
        {
          "output_type": "display_data",
          "data": {
            "text/plain": "Subset selection object\n24 Variables  (and intercept)\n                     Forced in Forced out\nsequence_number          FALSE      FALSE\nUS                       FALSE      FALSE\nsource_a                 FALSE      FALSE\nsource_c                 FALSE      FALSE\nsource_b                 FALSE      FALSE\nsource_d                 FALSE      FALSE\nsource_e                 FALSE      FALSE\nsource_m                 FALSE      FALSE\nsource_o                 FALSE      FALSE\nsource_h                 FALSE      FALSE\nsource_r                 FALSE      FALSE\nsource_s                 FALSE      FALSE\nsource_t                 FALSE      FALSE\nsource_u                 FALSE      FALSE\nsource_p                 FALSE      FALSE\nsource_x                 FALSE      FALSE\nsource_w                 FALSE      FALSE\nFreq                     FALSE      FALSE\nlast_update_days_ago     FALSE      FALSE\nX1st_update_days_ago     FALSE      FALSE\nWeb.order                FALSE      FALSE\nGender.male              FALSE      FALSE\nAddress_is_res           FALSE      FALSE\nPurchase                 FALSE      FALSE\n1 subsets of each size up to 3\nSelection Algorithm: backward\n         sequence_number US  source_a source_c source_b source_d source_e\n1  ( 1 ) \" \"             \" \" \" \"      \" \"      \" \"      \" \"      \" \"     \n2  ( 1 ) \" \"             \" \" \" \"      \" \"      \" \"      \" \"      \" \"     \n3  ( 1 ) \" \"             \" \" \" \"      \" \"      \" \"      \" \"      \" \"     \n         source_m source_o source_h source_r source_s source_t source_u\n1  ( 1 ) \" \"      \" \"      \" \"      \" \"      \" \"      \" \"      \" \"     \n2  ( 1 ) \" \"      \" \"      \" \"      \" \"      \" \"      \" \"      \" \"     \n3  ( 1 ) \" \"      \" \"      \" \"      \" \"      \" \"      \" \"      \" \"     \n         source_p source_x source_w Freq last_update_days_ago\n1  ( 1 ) \" \"      \" \"      \" \"      \"*\"  \" \"                 \n2  ( 1 ) \" \"      \" \"      \" \"      \"*\"  \" \"                 \n3  ( 1 ) \" \"      \" \"      \" \"      \"*\"  \" \"                 \n         X1st_update_days_ago Web.order Gender.male Address_is_res Purchase\n1  ( 1 ) \" \"                  \" \"       \" \"         \" \"            \" \"     \n2  ( 1 ) \" \"                  \" \"       \" \"         \" \"            \"*\"     \n3  ( 1 ) \" \"                  \" \"       \" \"         \"*\"            \"*\"     "
          },
          "metadata": {}
        }
      ]
    },
    {
      "metadata": {
        "trusted": true
      },
      "cell_type": "code",
      "source": "backInfo <- summary(backwards)\n\nbackInfo\n\n#?regsubsets\n\ncoef(backwards$finalModel, id = 3)\n\n#\n# But how do you find out the order of removal?\n#",
      "execution_count": 15,
      "outputs": [
        {
          "output_type": "display_data",
          "data": {
            "text/plain": "Subset selection object\n24 Variables  (and intercept)\n                     Forced in Forced out\nsequence_number          FALSE      FALSE\nUS                       FALSE      FALSE\nsource_a                 FALSE      FALSE\nsource_c                 FALSE      FALSE\nsource_b                 FALSE      FALSE\nsource_d                 FALSE      FALSE\nsource_e                 FALSE      FALSE\nsource_m                 FALSE      FALSE\nsource_o                 FALSE      FALSE\nsource_h                 FALSE      FALSE\nsource_r                 FALSE      FALSE\nsource_s                 FALSE      FALSE\nsource_t                 FALSE      FALSE\nsource_u                 FALSE      FALSE\nsource_p                 FALSE      FALSE\nsource_x                 FALSE      FALSE\nsource_w                 FALSE      FALSE\nFreq                     FALSE      FALSE\nlast_update_days_ago     FALSE      FALSE\nX1st_update_days_ago     FALSE      FALSE\nWeb.order                FALSE      FALSE\nGender.male              FALSE      FALSE\nAddress_is_res           FALSE      FALSE\nPurchase                 FALSE      FALSE\n1 subsets of each size up to 3\nSelection Algorithm: backward\n         sequence_number US  source_a source_c source_b source_d source_e\n1  ( 1 ) \" \"             \" \" \" \"      \" \"      \" \"      \" \"      \" \"     \n2  ( 1 ) \" \"             \" \" \" \"      \" \"      \" \"      \" \"      \" \"     \n3  ( 1 ) \" \"             \" \" \" \"      \" \"      \" \"      \" \"      \" \"     \n         source_m source_o source_h source_r source_s source_t source_u\n1  ( 1 ) \" \"      \" \"      \" \"      \" \"      \" \"      \" \"      \" \"     \n2  ( 1 ) \" \"      \" \"      \" \"      \" \"      \" \"      \" \"      \" \"     \n3  ( 1 ) \" \"      \" \"      \" \"      \" \"      \" \"      \" \"      \" \"     \n         source_p source_x source_w Freq last_update_days_ago\n1  ( 1 ) \" \"      \" \"      \" \"      \"*\"  \" \"                 \n2  ( 1 ) \" \"      \" \"      \" \"      \"*\"  \" \"                 \n3  ( 1 ) \" \"      \" \"      \" \"      \"*\"  \" \"                 \n         X1st_update_days_ago Web.order Gender.male Address_is_res Purchase\n1  ( 1 ) \" \"                  \" \"       \" \"         \" \"            \" \"     \n2  ( 1 ) \" \"                  \" \"       \" \"         \" \"            \"*\"     \n3  ( 1 ) \" \"                  \" \"       \" \"         \"*\"            \"*\"     "
          },
          "metadata": {}
        },
        {
          "output_type": "display_data",
          "data": {
            "text/plain": "   (Intercept)           Freq Address_is_res       Purchase \n     -46.92621       79.96275      -72.43445      102.98072 ",
            "text/latex": "\\begin{description*}\n\\item[(Intercept)] -46.9262119678829\n\\item[Freq] 79.9627459727426\n\\item[Address\\textbackslash{}\\_is\\textbackslash{}\\_res] -72.4344514396671\n\\item[Purchase] 102.980724371667\n\\end{description*}\n",
            "text/markdown": "(Intercept)\n:   -46.9262119678829Freq\n:   79.9627459727426Address_is_res\n:   -72.4344514396671Purchase\n:   102.980724371667\n\n",
            "text/html": "<dl class=dl-horizontal>\n\t<dt>(Intercept)</dt>\n\t\t<dd>-46.9262119678829</dd>\n\t<dt>Freq</dt>\n\t\t<dd>79.9627459727426</dd>\n\t<dt>Address_is_res</dt>\n\t\t<dd>-72.4344514396671</dd>\n\t<dt>Purchase</dt>\n\t\t<dd>102.980724371667</dd>\n</dl>\n"
          },
          "metadata": {}
        }
      ]
    },
    {
      "metadata": {
        "trusted": true
      },
      "cell_type": "markdown",
      "source": "### Problem 6.3 c.\n##### Upon the Airfares dataset..."
    },
    {
      "metadata": {},
      "cell_type": "markdown",
      "source": "###### 1) Convert categorical variables into dummy variables, split into training and validation sets"
    },
    {
      "metadata": {
        "trusted": true
      },
      "cell_type": "code",
      "source": "# As always, import the dataset and interrogate it.\n\nraw.df <- read.csv(\"Datasets/Airfares.csv\",header = TRUE)\n\ndim(raw.df)\nt(t(names(raw.df)))\nhead(raw.df)\nsummary(raw.df)\ncolnames(raw.df)",
      "execution_count": 16,
      "outputs": [
        {
          "output_type": "display_data",
          "data": {
            "text/plain": "[1] 638  18",
            "text/latex": "\\begin{enumerate*}\n\\item 638\n\\item 18\n\\end{enumerate*}\n",
            "text/markdown": "1. 638\n2. 18\n\n\n",
            "text/html": "<ol class=list-inline>\n\t<li>638</li>\n\t<li>18</li>\n</ol>\n"
          },
          "metadata": {}
        },
        {
          "output_type": "display_data",
          "data": {
            "text/plain": "      [,1]    \n [1,] S_CODE  \n [2,] S_CITY  \n [3,] E_CODE  \n [4,] E_CITY  \n [5,] COUPON  \n [6,] NEW     \n [7,] VACATION\n [8,] SW      \n [9,] HI      \n[10,] S_INCOME\n[11,] E_INCOME\n[12,] S_POP   \n[13,] E_POP   \n[14,] SLOT    \n[15,] GATE    \n[16,] DISTANCE\n[17,] PAX     \n[18,] FARE    ",
            "text/latex": "A matrix: 18 x 1 of type chr\n\\begin{tabular}{l}\n\t S\\_CODE  \\\\\n\t S\\_CITY  \\\\\n\t E\\_CODE  \\\\\n\t E\\_CITY  \\\\\n\t COUPON  \\\\\n\t NEW     \\\\\n\t VACATION\\\\\n\t SW      \\\\\n\t HI      \\\\\n\t S\\_INCOME\\\\\n\t E\\_INCOME\\\\\n\t S\\_POP   \\\\\n\t E\\_POP   \\\\\n\t SLOT    \\\\\n\t GATE    \\\\\n\t DISTANCE\\\\\n\t PAX     \\\\\n\t FARE    \\\\\n\\end{tabular}\n",
            "text/markdown": "\nA matrix: 18 x 1 of type chr\n\n| S_CODE   |\n| S_CITY   |\n| E_CODE   |\n| E_CITY   |\n| COUPON   |\n| NEW      |\n| VACATION |\n| SW       |\n| HI       |\n| S_INCOME |\n| E_INCOME |\n| S_POP    |\n| E_POP    |\n| SLOT     |\n| GATE     |\n| DISTANCE |\n| PAX      |\n| FARE     |\n\n",
            "text/html": "<table>\n<caption>A matrix: 18 x 1 of type chr</caption>\n<tbody>\n\t<tr><td>S_CODE  </td></tr>\n\t<tr><td>S_CITY  </td></tr>\n\t<tr><td>E_CODE  </td></tr>\n\t<tr><td>E_CITY  </td></tr>\n\t<tr><td>COUPON  </td></tr>\n\t<tr><td>NEW     </td></tr>\n\t<tr><td>VACATION</td></tr>\n\t<tr><td>SW      </td></tr>\n\t<tr><td>HI      </td></tr>\n\t<tr><td>S_INCOME</td></tr>\n\t<tr><td>E_INCOME</td></tr>\n\t<tr><td>S_POP   </td></tr>\n\t<tr><td>E_POP   </td></tr>\n\t<tr><td>SLOT    </td></tr>\n\t<tr><td>GATE    </td></tr>\n\t<tr><td>DISTANCE</td></tr>\n\t<tr><td>PAX     </td></tr>\n\t<tr><td>FARE    </td></tr>\n</tbody>\n</table>\n"
          },
          "metadata": {}
        },
        {
          "output_type": "display_data",
          "data": {
            "text/plain": "  S_CODE S_CITY                 E_CODE E_CITY                 COUPON NEW\n1 *      Dallas/Fort Worth   TX *      Amarillo            TX 1.00   3  \n2 *      Atlanta             GA *      Baltimore/Wash Intl MD 1.06   3  \n3 *      Boston              MA *      Baltimore/Wash Intl MD 1.06   3  \n4 ORD    Chicago             IL *      Baltimore/Wash Intl MD 1.06   3  \n5 MDW    Chicago             IL *      Baltimore/Wash Intl MD 1.06   3  \n6 *      Cleveland           OH *      Baltimore/Wash Intl MD 1.01   3  \n  VACATION SW  HI      S_INCOME E_INCOME S_POP   E_POP   SLOT       GATE\n1 No       Yes 5291.99 28637    21112    3036732  205711 Free       Free\n2 No       No  5419.16 26993    29838    3532657 7145897 Free       Free\n3 No       No  9185.28 30124    29838    5787293 7145897 Free       Free\n4 No       Yes 2657.35 29260    29838    7830332 7145897 Controlled Free\n5 No       Yes 2657.35 29260    29838    7830332 7145897 Free       Free\n6 No       Yes 3408.11 26046    29838    2230955 7145897 Free       Free\n  DISTANCE PAX   FARE  \n1 312       7864  64.11\n2 576       8820 174.47\n3 364       6452 207.76\n4 612      25144  85.47\n5 612      25144  85.47\n6 309      13386  56.76",
            "text/latex": "A data.frame: 6 x 18\n\\begin{tabular}{r|llllllllllllllllll}\n S\\_CODE & S\\_CITY & E\\_CODE & E\\_CITY & COUPON & NEW & VACATION & SW & HI & S\\_INCOME & E\\_INCOME & S\\_POP & E\\_POP & SLOT & GATE & DISTANCE & PAX & FARE\\\\\n <fct> & <fct> & <fct> & <fct> & <dbl> & <int> & <fct> & <fct> & <dbl> & <dbl> & <dbl> & <int> & <int> & <fct> & <fct> & <int> & <int> & <dbl>\\\\\n\\hline\n\t *   & Dallas/Fort Worth   TX & * & Amarillo            TX & 1.00 & 3 & No & Yes & 5291.99 & 28637 & 21112 & 3036732 &  205711 & Free       & Free & 312 &  7864 &  64.11\\\\\n\t *   & Atlanta             GA & * & Baltimore/Wash Intl MD & 1.06 & 3 & No & No  & 5419.16 & 26993 & 29838 & 3532657 & 7145897 & Free       & Free & 576 &  8820 & 174.47\\\\\n\t *   & Boston              MA & * & Baltimore/Wash Intl MD & 1.06 & 3 & No & No  & 9185.28 & 30124 & 29838 & 5787293 & 7145897 & Free       & Free & 364 &  6452 & 207.76\\\\\n\t ORD & Chicago             IL & * & Baltimore/Wash Intl MD & 1.06 & 3 & No & Yes & 2657.35 & 29260 & 29838 & 7830332 & 7145897 & Controlled & Free & 612 & 25144 &  85.47\\\\\n\t MDW & Chicago             IL & * & Baltimore/Wash Intl MD & 1.06 & 3 & No & Yes & 2657.35 & 29260 & 29838 & 7830332 & 7145897 & Free       & Free & 612 & 25144 &  85.47\\\\\n\t *   & Cleveland           OH & * & Baltimore/Wash Intl MD & 1.01 & 3 & No & Yes & 3408.11 & 26046 & 29838 & 2230955 & 7145897 & Free       & Free & 309 & 13386 &  56.76\\\\\n\\end{tabular}\n",
            "text/markdown": "\nA data.frame: 6 x 18\n\n| S_CODE &lt;fct&gt; | S_CITY &lt;fct&gt; | E_CODE &lt;fct&gt; | E_CITY &lt;fct&gt; | COUPON &lt;dbl&gt; | NEW &lt;int&gt; | VACATION &lt;fct&gt; | SW &lt;fct&gt; | HI &lt;dbl&gt; | S_INCOME &lt;dbl&gt; | E_INCOME &lt;dbl&gt; | S_POP &lt;int&gt; | E_POP &lt;int&gt; | SLOT &lt;fct&gt; | GATE &lt;fct&gt; | DISTANCE &lt;int&gt; | PAX &lt;int&gt; | FARE &lt;dbl&gt; |\n|---|---|---|---|---|---|---|---|---|---|---|---|---|---|---|---|---|---|\n| *   | Dallas/Fort Worth   TX | * | Amarillo            TX | 1.00 | 3 | No | Yes | 5291.99 | 28637 | 21112 | 3036732 |  205711 | Free       | Free | 312 |  7864 |  64.11 |\n| *   | Atlanta             GA | * | Baltimore/Wash Intl MD | 1.06 | 3 | No | No  | 5419.16 | 26993 | 29838 | 3532657 | 7145897 | Free       | Free | 576 |  8820 | 174.47 |\n| *   | Boston              MA | * | Baltimore/Wash Intl MD | 1.06 | 3 | No | No  | 9185.28 | 30124 | 29838 | 5787293 | 7145897 | Free       | Free | 364 |  6452 | 207.76 |\n| ORD | Chicago             IL | * | Baltimore/Wash Intl MD | 1.06 | 3 | No | Yes | 2657.35 | 29260 | 29838 | 7830332 | 7145897 | Controlled | Free | 612 | 25144 |  85.47 |\n| MDW | Chicago             IL | * | Baltimore/Wash Intl MD | 1.06 | 3 | No | Yes | 2657.35 | 29260 | 29838 | 7830332 | 7145897 | Free       | Free | 612 | 25144 |  85.47 |\n| *   | Cleveland           OH | * | Baltimore/Wash Intl MD | 1.01 | 3 | No | Yes | 3408.11 | 26046 | 29838 | 2230955 | 7145897 | Free       | Free | 309 | 13386 |  56.76 |\n\n",
            "text/html": "<table>\n<caption>A data.frame: 6 x 18</caption>\n<thead>\n\t<tr><th scope=col>S_CODE</th><th scope=col>S_CITY</th><th scope=col>E_CODE</th><th scope=col>E_CITY</th><th scope=col>COUPON</th><th scope=col>NEW</th><th scope=col>VACATION</th><th scope=col>SW</th><th scope=col>HI</th><th scope=col>S_INCOME</th><th scope=col>E_INCOME</th><th scope=col>S_POP</th><th scope=col>E_POP</th><th scope=col>SLOT</th><th scope=col>GATE</th><th scope=col>DISTANCE</th><th scope=col>PAX</th><th scope=col>FARE</th></tr>\n\t<tr><th scope=col>&lt;fct&gt;</th><th scope=col>&lt;fct&gt;</th><th scope=col>&lt;fct&gt;</th><th scope=col>&lt;fct&gt;</th><th scope=col>&lt;dbl&gt;</th><th scope=col>&lt;int&gt;</th><th scope=col>&lt;fct&gt;</th><th scope=col>&lt;fct&gt;</th><th scope=col>&lt;dbl&gt;</th><th scope=col>&lt;dbl&gt;</th><th scope=col>&lt;dbl&gt;</th><th scope=col>&lt;int&gt;</th><th scope=col>&lt;int&gt;</th><th scope=col>&lt;fct&gt;</th><th scope=col>&lt;fct&gt;</th><th scope=col>&lt;int&gt;</th><th scope=col>&lt;int&gt;</th><th scope=col>&lt;dbl&gt;</th></tr>\n</thead>\n<tbody>\n\t<tr><td>*  </td><td>Dallas/Fort Worth   TX</td><td>*</td><td>Amarillo            TX</td><td>1.00</td><td>3</td><td>No</td><td>Yes</td><td>5291.99</td><td>28637</td><td>21112</td><td>3036732</td><td> 205711</td><td>Free      </td><td>Free</td><td>312</td><td> 7864</td><td> 64.11</td></tr>\n\t<tr><td>*  </td><td>Atlanta             GA</td><td>*</td><td>Baltimore/Wash Intl MD</td><td>1.06</td><td>3</td><td>No</td><td>No </td><td>5419.16</td><td>26993</td><td>29838</td><td>3532657</td><td>7145897</td><td>Free      </td><td>Free</td><td>576</td><td> 8820</td><td>174.47</td></tr>\n\t<tr><td>*  </td><td>Boston              MA</td><td>*</td><td>Baltimore/Wash Intl MD</td><td>1.06</td><td>3</td><td>No</td><td>No </td><td>9185.28</td><td>30124</td><td>29838</td><td>5787293</td><td>7145897</td><td>Free      </td><td>Free</td><td>364</td><td> 6452</td><td>207.76</td></tr>\n\t<tr><td>ORD</td><td>Chicago             IL</td><td>*</td><td>Baltimore/Wash Intl MD</td><td>1.06</td><td>3</td><td>No</td><td>Yes</td><td>2657.35</td><td>29260</td><td>29838</td><td>7830332</td><td>7145897</td><td>Controlled</td><td>Free</td><td>612</td><td>25144</td><td> 85.47</td></tr>\n\t<tr><td>MDW</td><td>Chicago             IL</td><td>*</td><td>Baltimore/Wash Intl MD</td><td>1.06</td><td>3</td><td>No</td><td>Yes</td><td>2657.35</td><td>29260</td><td>29838</td><td>7830332</td><td>7145897</td><td>Free      </td><td>Free</td><td>612</td><td>25144</td><td> 85.47</td></tr>\n\t<tr><td>*  </td><td>Cleveland           OH</td><td>*</td><td>Baltimore/Wash Intl MD</td><td>1.01</td><td>3</td><td>No</td><td>Yes</td><td>3408.11</td><td>26046</td><td>29838</td><td>2230955</td><td>7145897</td><td>Free      </td><td>Free</td><td>309</td><td>13386</td><td> 56.76</td></tr>\n</tbody>\n</table>\n"
          },
          "metadata": {}
        },
        {
          "output_type": "display_data",
          "data": {
            "text/plain": "     S_CODE                       S_CITY        E_CODE   \n *      :454   Chicago             IL: 90   *      :501  \n MDW    : 45   New York/Newark     NY: 88   DCA    : 27  \n ORD    : 45   Atlanta             GA: 41   IAD    : 27  \n EWR    : 30   Dallas/Fort Worth   TX: 36   EWR    : 25  \n JFK    : 29   Los Angeles         CA: 33   JFK    : 25  \n LGA    : 29   Boston              MA: 31   LGA    : 25  \n (Other):  6   (Other)               :319   (Other):  8  \n                    E_CITY        COUPON           NEW        VACATION \n New York/Newark     NY: 75   Min.   :1.000   Min.   :0.000   No :468  \n Washington          DC: 54   1st Qu.:1.040   1st Qu.:3.000   Yes:170  \n Phoenix             AZ: 25   Median :1.150   Median :3.000            \n Baltimore/Wash Intl MD: 23   Mean   :1.202   Mean   :2.754            \n Orlando             FL: 23   3rd Qu.:1.298   3rd Qu.:3.000            \n San Francisco       CA: 21   Max.   :1.940   Max.   :3.000            \n (Other)               :417                                            \n   SW            HI           S_INCOME        E_INCOME         S_POP        \n No :444   Min.   : 1230   Min.   :14600   Min.   :14600   Min.   :  29838  \n Yes:194   1st Qu.: 3090   1st Qu.:24706   1st Qu.:23903   1st Qu.:1862106  \n           Median : 4208   Median :28637   Median :26409   Median :3532657  \n           Mean   : 4442   Mean   :27760   Mean   :27664   Mean   :4557004  \n           3rd Qu.: 5481   3rd Qu.:29694   3rd Qu.:31981   3rd Qu.:7830332  \n           Max.   :10000   Max.   :38813   Max.   :38813   Max.   :9056076  \n                                                                            \n     E_POP                 SLOT              GATE        DISTANCE     \n Min.   : 111745   Controlled:182   Constrained:124   Min.   : 114.0  \n 1st Qu.:1228816   Free      :456   Free       :514   1st Qu.: 455.0  \n Median :2195215                                      Median : 850.0  \n Mean   :3194503                                      Mean   : 975.7  \n 3rd Qu.:4549784                                      3rd Qu.:1306.2  \n Max.   :9056076                                      Max.   :2764.0  \n                                                                      \n      PAX             FARE       \n Min.   : 1504   Min.   : 42.47  \n 1st Qu.: 5328   1st Qu.:106.29  \n Median : 7792   Median :144.60  \n Mean   :12782   Mean   :160.88  \n 3rd Qu.:14090   3rd Qu.:209.35  \n Max.   :73892   Max.   :402.02  \n                                 "
          },
          "metadata": {}
        },
        {
          "output_type": "display_data",
          "data": {
            "text/plain": " [1] \"S_CODE\"   \"S_CITY\"   \"E_CODE\"   \"E_CITY\"   \"COUPON\"   \"NEW\"     \n [7] \"VACATION\" \"SW\"       \"HI\"       \"S_INCOME\" \"E_INCOME\" \"S_POP\"   \n[13] \"E_POP\"    \"SLOT\"     \"GATE\"     \"DISTANCE\" \"PAX\"      \"FARE\"    ",
            "text/latex": "\\begin{enumerate*}\n\\item 'S\\_CODE'\n\\item 'S\\_CITY'\n\\item 'E\\_CODE'\n\\item 'E\\_CITY'\n\\item 'COUPON'\n\\item 'NEW'\n\\item 'VACATION'\n\\item 'SW'\n\\item 'HI'\n\\item 'S\\_INCOME'\n\\item 'E\\_INCOME'\n\\item 'S\\_POP'\n\\item 'E\\_POP'\n\\item 'SLOT'\n\\item 'GATE'\n\\item 'DISTANCE'\n\\item 'PAX'\n\\item 'FARE'\n\\end{enumerate*}\n",
            "text/markdown": "1. 'S_CODE'\n2. 'S_CITY'\n3. 'E_CODE'\n4. 'E_CITY'\n5. 'COUPON'\n6. 'NEW'\n7. 'VACATION'\n8. 'SW'\n9. 'HI'\n10. 'S_INCOME'\n11. 'E_INCOME'\n12. 'S_POP'\n13. 'E_POP'\n14. 'SLOT'\n15. 'GATE'\n16. 'DISTANCE'\n17. 'PAX'\n18. 'FARE'\n\n\n",
            "text/html": "<ol class=list-inline>\n\t<li>'S_CODE'</li>\n\t<li>'S_CITY'</li>\n\t<li>'E_CODE'</li>\n\t<li>'E_CITY'</li>\n\t<li>'COUPON'</li>\n\t<li>'NEW'</li>\n\t<li>'VACATION'</li>\n\t<li>'SW'</li>\n\t<li>'HI'</li>\n\t<li>'S_INCOME'</li>\n\t<li>'E_INCOME'</li>\n\t<li>'S_POP'</li>\n\t<li>'E_POP'</li>\n\t<li>'SLOT'</li>\n\t<li>'GATE'</li>\n\t<li>'DISTANCE'</li>\n\t<li>'PAX'</li>\n\t<li>'FARE'</li>\n</ol>\n"
          },
          "metadata": {}
        }
      ]
    },
    {
      "metadata": {
        "trusted": true
      },
      "cell_type": "code",
      "source": "# do like teacher does and make some dummies\n\nnobad.df <- na.omit(raw.df)\n\ndummies <- dummyVars(FARE ~ ., data = nobad.df)  ",
      "execution_count": 19,
      "outputs": []
    },
    {
      "metadata": {
        "trusted": true
      },
      "cell_type": "code",
      "source": "dummy.set <- data.frame(predict(dummies, newdata = raw.df))\ndummy.set$FARE <- raw.df$FARE\nhead(dummy.set)",
      "execution_count": 20,
      "outputs": [
        {
          "output_type": "display_data",
          "data": {
            "text/plain": "  S_CODE.. S_CODE.DCA S_CODE.EWR S_CODE.IAD S_CODE.JFK S_CODE.LGA S_CODE.MDW\n1 1        0          0          0          0          0          0         \n2 1        0          0          0          0          0          0         \n3 1        0          0          0          0          0          0         \n4 0        0          0          0          0          0          0         \n5 0        0          0          0          0          0          1         \n6 1        0          0          0          0          0          0         \n  S_CODE.ORD S_CITY.Albuquerque.........NM S_CITY.Anchorage...........AK ...\n1 0          0                             0                             ...\n2 0          0                             0                             ...\n3 0          0                             0                             ...\n4 1          0                             0                             ...\n5 0          0                             0                             ...\n6 0          0                             0                             ...\n  E_INCOME S_POP   E_POP   SLOT.Controlled SLOT.Free GATE.Constrained GATE.Free\n1 21112    3036732  205711 0               1         0                1        \n2 29838    3532657 7145897 0               1         0                1        \n3 29838    5787293 7145897 0               1         0                1        \n4 29838    7830332 7145897 1               0         0                1        \n5 29838    7830332 7145897 0               1         0                1        \n6 29838    2230955 7145897 0               1         0                1        \n  DISTANCE PAX   FARE  \n1 312       7864  64.11\n2 576       8820 174.47\n3 364       6452 207.76\n4 612      25144  85.47\n5 612      25144  85.47\n6 309      13386  56.76",
            "text/latex": "A data.frame: 6 x 153\n\\begin{tabular}{r|lllllllllllllllllllllllllllllllllllllllllllllllllllllllllllllllllllllllllllllllllllllllllllllllllllllllllllllllllllllllllllllllllllllllllllllllllllllllll}\n S\\_CODE.. & S\\_CODE.DCA & S\\_CODE.EWR & S\\_CODE.IAD & S\\_CODE.JFK & S\\_CODE.LGA & S\\_CODE.MDW & S\\_CODE.ORD & S\\_CITY.Albuquerque.........NM & S\\_CITY.Anchorage...........AK & S\\_CITY.Atlanta.............GA & S\\_CITY.Austin..............TX & S\\_CITY.Baltimore.Wash.Intl.MD & S\\_CITY.Boise...............ID & S\\_CITY.Boston..............MA & S\\_CITY.Burbank.............CA & S\\_CITY.Chicago.............IL & S\\_CITY.Cincinnati..........OH & S\\_CITY.Cleveland...........OH & S\\_CITY.Columbus............OH & S\\_CITY.Corpus.Christi......TX & S\\_CITY.Dallas.Fort.Worth...TX & S\\_CITY.Denver..............CO & S\\_CITY.Detroit.............MI & S\\_CITY.El.Paso.............TX & S\\_CITY.Fort.Lauderdale.....FL & S\\_CITY.Fort.Meyers.........FL & S\\_CITY.Greenville.Sprtnbg..SC & S\\_CITY.Hartford............CT & S\\_CITY.Honolulu..Intl......HI & S\\_CITY.Houston.............TX & S\\_CITY.Jacksonville........FL & S\\_CITY.Kansas.City.........MO & S\\_CITY.Las.Vegas...........NV & S\\_CITY.Los.Angeles.........CA & S\\_CITY.Memphis.............TN & S\\_CITY.Miami...............FL & S\\_CITY.Minneapolis.St.Paul.MN & S\\_CITY.Nashville...........TN & S\\_CITY.New.Orleans.........LA & S\\_CITY.New.York.Newark.....NY & S\\_CITY.Norfolk.Va.B.Pt.Ch..VA & S\\_CITY.Oakland.............CA & S\\_CITY.Omaha...............NE & S\\_CITY.Orlando.............FL & S\\_CITY.Philadelphia.Camden.PA & S\\_CITY.Phoenix.............AZ & S\\_CITY.Pittsburgh..........PA & S\\_CITY.Portland............OR & S\\_CITY.Sacramento..........CA & S\\_CITY.Salt.Lake.City......UT & S\\_CITY.San.Diego...........CA & S\\_CITY.San.Francisco.......CA & S\\_CITY.San.Jose............CA & S\\_CITY.Seattle.Tacoma......WA & S\\_CITY.Spokane.............WA & S\\_CITY.St.Louis............MO & S\\_CITY.Tampa...............FL & S\\_CITY.Washington..........DC & E\\_CODE.. & E\\_CODE.DCA & E\\_CODE.EWR & E\\_CODE.IAD & E\\_CODE.JFK & E\\_CODE.LGA & E\\_CODE.MDW & E\\_CODE.ORD & E\\_CITY.Amarillo............TX & E\\_CITY.Baltimore.Wash.Intl.MD & E\\_CITY.Birmingham..........AL & E\\_CITY.Boise...............ID & E\\_CITY.Boston..............MA & E\\_CITY.Buffalo.............NY & E\\_CITY.Charleston..........SC & E\\_CITY.Charlotte...........NC & E\\_CITY.Chicago.............IL & E\\_CITY.Cincinnati..........OH & E\\_CITY.Cleveland...........OH & E\\_CITY.Colorado.Springs....CO & E\\_CITY.Columbus............OH & E\\_CITY.Dallas.Fort.Worth...TX & E\\_CITY.Denver..............CO & E\\_CITY.Detroit.............MI & E\\_CITY.El.Paso.............TX & E\\_CITY.Fort.Lauderdale.....FL & E\\_CITY.Fort.Meyers.........FL & E\\_CITY.Greensboro.High.Pt..NC & E\\_CITY.Hartford............CT & E\\_CITY.Honolulu..Intl......HI & E\\_CITY.Houston.............TX & E\\_CITY.Indianapolis........IN & E\\_CITY.Jacksonville........FL & E\\_CITY.Kansas.City.........MO & E\\_CITY.Las.Vegas...........NV & E\\_CITY.Little.Rock.........AR & E\\_CITY.Los.Angeles.........CA & E\\_CITY.Louisville..........KY & E\\_CITY.Lubbock.............TX & E\\_CITY.Memphis.............TN & E\\_CITY.Miami...............FL & E\\_CITY.Milwaukee...........WI & E\\_CITY.Minneapolis.St.Paul.MN & E\\_CITY.Nashville...........TN & E\\_CITY.New.Orleans.........LA & E\\_CITY.New.York.Newark.....NY & E\\_CITY.Oakland.............CA & E\\_CITY.Oklahoma.City.......OK & E\\_CITY.Omaha...............NE & E\\_CITY.Orlando.............FL & E\\_CITY.Philadelphia.Camden.PA & E\\_CITY.Phoenix.............AZ & E\\_CITY.Pittsburgh..........PA & E\\_CITY.Portland............OR & E\\_CITY.Providence..........RI & E\\_CITY.Raleigh.Durham......NC & E\\_CITY.Reno................NV & E\\_CITY.Richmond..Intl......VA & E\\_CITY.Rochester...........NY & E\\_CITY.Sacramento..........CA & E\\_CITY.Salt.Lake.City......UT & E\\_CITY.San.Antonio.........TX & E\\_CITY.San.Diego...........CA & E\\_CITY.San.Francisco.......CA & E\\_CITY.San.Jose............CA & E\\_CITY.Sarasota.Bradenton..FL & E\\_CITY.Seattle.Tacoma......WA & E\\_CITY.Spokane.............WA & E\\_CITY.St.Louis............MO & E\\_CITY.Syracuse............NY & E\\_CITY.Tallahassee.........FL & E\\_CITY.Tampa...............FL & E\\_CITY.Tucson..............AZ & E\\_CITY.Tulsa...............OK & E\\_CITY.Washington..........DC & E\\_CITY.West.Palm.Beach.....FL & COUPON & NEW & VACATION.No & VACATION.Yes & SW.No & SW.Yes & HI & S\\_INCOME & E\\_INCOME & S\\_POP & E\\_POP & SLOT.Controlled & SLOT.Free & GATE.Constrained & GATE.Free & DISTANCE & PAX & FARE\\\\\n <dbl> & <dbl> & <dbl> & <dbl> & <dbl> & <dbl> & <dbl> & <dbl> & <dbl> & <dbl> & <dbl> & <dbl> & <dbl> & <dbl> & <dbl> & <dbl> & <dbl> & <dbl> & <dbl> & <dbl> & <dbl> & <dbl> & <dbl> & <dbl> & <dbl> & <dbl> & <dbl> & <dbl> & <dbl> & <dbl> & <dbl> & <dbl> & <dbl> & <dbl> & <dbl> & <dbl> & <dbl> & <dbl> & <dbl> & <dbl> & <dbl> & <dbl> & <dbl> & <dbl> & <dbl> & <dbl> & <dbl> & <dbl> & <dbl> & <dbl> & <dbl> & <dbl> & <dbl> & <dbl> & <dbl> & <dbl> & <dbl> & <dbl> & <dbl> & <dbl> & <dbl> & <dbl> & <dbl> & <dbl> & <dbl> & <dbl> & <dbl> & <dbl> & <dbl> & <dbl> & <dbl> & <dbl> & <dbl> & <dbl> & <dbl> & <dbl> & <dbl> & <dbl> & <dbl> & <dbl> & <dbl> & <dbl> & <dbl> & <dbl> & <dbl> & <dbl> & <dbl> & <dbl> & <dbl> & <dbl> & <dbl> & <dbl> & <dbl> & <dbl> & <dbl> & <dbl> & <dbl> & <dbl> & <dbl> & <dbl> & <dbl> & <dbl> & <dbl> & <dbl> & <dbl> & <dbl> & <dbl> & <dbl> & <dbl> & <dbl> & <dbl> & <dbl> & <dbl> & <dbl> & <dbl> & <dbl> & <dbl> & <dbl> & <dbl> & <dbl> & <dbl> & <dbl> & <dbl> & <dbl> & <dbl> & <dbl> & <dbl> & <dbl> & <dbl> & <dbl> & <dbl> & <dbl> & <dbl> & <dbl> & <dbl> & <dbl> & <dbl> & <dbl> & <dbl> & <dbl> & <dbl> & <dbl> & <dbl> & <dbl> & <dbl> & <dbl> & <dbl> & <dbl> & <dbl> & <dbl> & <dbl> & <dbl> & <dbl>\\\\\n\\hline\n\t 1 & 0 & 0 & 0 & 0 & 0 & 0 & 0 & 0 & 0 & 0 & 0 & 0 & 0 & 0 & 0 & 0 & 0 & 0 & 0 & 0 & 1 & 0 & 0 & 0 & 0 & 0 & 0 & 0 & 0 & 0 & 0 & 0 & 0 & 0 & 0 & 0 & 0 & 0 & 0 & 0 & 0 & 0 & 0 & 0 & 0 & 0 & 0 & 0 & 0 & 0 & 0 & 0 & 0 & 0 & 0 & 0 & 0 & 0 & 1 & 0 & 0 & 0 & 0 & 0 & 0 & 0 & 1 & 0 & 0 & 0 & 0 & 0 & 0 & 0 & 0 & 0 & 0 & 0 & 0 & 0 & 0 & 0 & 0 & 0 & 0 & 0 & 0 & 0 & 0 & 0 & 0 & 0 & 0 & 0 & 0 & 0 & 0 & 0 & 0 & 0 & 0 & 0 & 0 & 0 & 0 & 0 & 0 & 0 & 0 & 0 & 0 & 0 & 0 & 0 & 0 & 0 & 0 & 0 & 0 & 0 & 0 & 0 & 0 & 0 & 0 & 0 & 0 & 0 & 0 & 0 & 0 & 0 & 0 & 0 & 1.00 & 3 & 1 & 0 & 0 & 1 & 5291.99 & 28637 & 21112 & 3036732 &  205711 & 0 & 1 & 0 & 1 & 312 &  7864 &  64.11\\\\\n\t 1 & 0 & 0 & 0 & 0 & 0 & 0 & 0 & 0 & 0 & 1 & 0 & 0 & 0 & 0 & 0 & 0 & 0 & 0 & 0 & 0 & 0 & 0 & 0 & 0 & 0 & 0 & 0 & 0 & 0 & 0 & 0 & 0 & 0 & 0 & 0 & 0 & 0 & 0 & 0 & 0 & 0 & 0 & 0 & 0 & 0 & 0 & 0 & 0 & 0 & 0 & 0 & 0 & 0 & 0 & 0 & 0 & 0 & 0 & 1 & 0 & 0 & 0 & 0 & 0 & 0 & 0 & 0 & 1 & 0 & 0 & 0 & 0 & 0 & 0 & 0 & 0 & 0 & 0 & 0 & 0 & 0 & 0 & 0 & 0 & 0 & 0 & 0 & 0 & 0 & 0 & 0 & 0 & 0 & 0 & 0 & 0 & 0 & 0 & 0 & 0 & 0 & 0 & 0 & 0 & 0 & 0 & 0 & 0 & 0 & 0 & 0 & 0 & 0 & 0 & 0 & 0 & 0 & 0 & 0 & 0 & 0 & 0 & 0 & 0 & 0 & 0 & 0 & 0 & 0 & 0 & 0 & 0 & 0 & 0 & 1.06 & 3 & 1 & 0 & 1 & 0 & 5419.16 & 26993 & 29838 & 3532657 & 7145897 & 0 & 1 & 0 & 1 & 576 &  8820 & 174.47\\\\\n\t 1 & 0 & 0 & 0 & 0 & 0 & 0 & 0 & 0 & 0 & 0 & 0 & 0 & 0 & 1 & 0 & 0 & 0 & 0 & 0 & 0 & 0 & 0 & 0 & 0 & 0 & 0 & 0 & 0 & 0 & 0 & 0 & 0 & 0 & 0 & 0 & 0 & 0 & 0 & 0 & 0 & 0 & 0 & 0 & 0 & 0 & 0 & 0 & 0 & 0 & 0 & 0 & 0 & 0 & 0 & 0 & 0 & 0 & 0 & 1 & 0 & 0 & 0 & 0 & 0 & 0 & 0 & 0 & 1 & 0 & 0 & 0 & 0 & 0 & 0 & 0 & 0 & 0 & 0 & 0 & 0 & 0 & 0 & 0 & 0 & 0 & 0 & 0 & 0 & 0 & 0 & 0 & 0 & 0 & 0 & 0 & 0 & 0 & 0 & 0 & 0 & 0 & 0 & 0 & 0 & 0 & 0 & 0 & 0 & 0 & 0 & 0 & 0 & 0 & 0 & 0 & 0 & 0 & 0 & 0 & 0 & 0 & 0 & 0 & 0 & 0 & 0 & 0 & 0 & 0 & 0 & 0 & 0 & 0 & 0 & 1.06 & 3 & 1 & 0 & 1 & 0 & 9185.28 & 30124 & 29838 & 5787293 & 7145897 & 0 & 1 & 0 & 1 & 364 &  6452 & 207.76\\\\\n\t 0 & 0 & 0 & 0 & 0 & 0 & 0 & 1 & 0 & 0 & 0 & 0 & 0 & 0 & 0 & 0 & 1 & 0 & 0 & 0 & 0 & 0 & 0 & 0 & 0 & 0 & 0 & 0 & 0 & 0 & 0 & 0 & 0 & 0 & 0 & 0 & 0 & 0 & 0 & 0 & 0 & 0 & 0 & 0 & 0 & 0 & 0 & 0 & 0 & 0 & 0 & 0 & 0 & 0 & 0 & 0 & 0 & 0 & 0 & 1 & 0 & 0 & 0 & 0 & 0 & 0 & 0 & 0 & 1 & 0 & 0 & 0 & 0 & 0 & 0 & 0 & 0 & 0 & 0 & 0 & 0 & 0 & 0 & 0 & 0 & 0 & 0 & 0 & 0 & 0 & 0 & 0 & 0 & 0 & 0 & 0 & 0 & 0 & 0 & 0 & 0 & 0 & 0 & 0 & 0 & 0 & 0 & 0 & 0 & 0 & 0 & 0 & 0 & 0 & 0 & 0 & 0 & 0 & 0 & 0 & 0 & 0 & 0 & 0 & 0 & 0 & 0 & 0 & 0 & 0 & 0 & 0 & 0 & 0 & 0 & 1.06 & 3 & 1 & 0 & 0 & 1 & 2657.35 & 29260 & 29838 & 7830332 & 7145897 & 1 & 0 & 0 & 1 & 612 & 25144 &  85.47\\\\\n\t 0 & 0 & 0 & 0 & 0 & 0 & 1 & 0 & 0 & 0 & 0 & 0 & 0 & 0 & 0 & 0 & 1 & 0 & 0 & 0 & 0 & 0 & 0 & 0 & 0 & 0 & 0 & 0 & 0 & 0 & 0 & 0 & 0 & 0 & 0 & 0 & 0 & 0 & 0 & 0 & 0 & 0 & 0 & 0 & 0 & 0 & 0 & 0 & 0 & 0 & 0 & 0 & 0 & 0 & 0 & 0 & 0 & 0 & 0 & 1 & 0 & 0 & 0 & 0 & 0 & 0 & 0 & 0 & 1 & 0 & 0 & 0 & 0 & 0 & 0 & 0 & 0 & 0 & 0 & 0 & 0 & 0 & 0 & 0 & 0 & 0 & 0 & 0 & 0 & 0 & 0 & 0 & 0 & 0 & 0 & 0 & 0 & 0 & 0 & 0 & 0 & 0 & 0 & 0 & 0 & 0 & 0 & 0 & 0 & 0 & 0 & 0 & 0 & 0 & 0 & 0 & 0 & 0 & 0 & 0 & 0 & 0 & 0 & 0 & 0 & 0 & 0 & 0 & 0 & 0 & 0 & 0 & 0 & 0 & 0 & 1.06 & 3 & 1 & 0 & 0 & 1 & 2657.35 & 29260 & 29838 & 7830332 & 7145897 & 0 & 1 & 0 & 1 & 612 & 25144 &  85.47\\\\\n\t 1 & 0 & 0 & 0 & 0 & 0 & 0 & 0 & 0 & 0 & 0 & 0 & 0 & 0 & 0 & 0 & 0 & 0 & 1 & 0 & 0 & 0 & 0 & 0 & 0 & 0 & 0 & 0 & 0 & 0 & 0 & 0 & 0 & 0 & 0 & 0 & 0 & 0 & 0 & 0 & 0 & 0 & 0 & 0 & 0 & 0 & 0 & 0 & 0 & 0 & 0 & 0 & 0 & 0 & 0 & 0 & 0 & 0 & 0 & 1 & 0 & 0 & 0 & 0 & 0 & 0 & 0 & 0 & 1 & 0 & 0 & 0 & 0 & 0 & 0 & 0 & 0 & 0 & 0 & 0 & 0 & 0 & 0 & 0 & 0 & 0 & 0 & 0 & 0 & 0 & 0 & 0 & 0 & 0 & 0 & 0 & 0 & 0 & 0 & 0 & 0 & 0 & 0 & 0 & 0 & 0 & 0 & 0 & 0 & 0 & 0 & 0 & 0 & 0 & 0 & 0 & 0 & 0 & 0 & 0 & 0 & 0 & 0 & 0 & 0 & 0 & 0 & 0 & 0 & 0 & 0 & 0 & 0 & 0 & 0 & 1.01 & 3 & 1 & 0 & 0 & 1 & 3408.11 & 26046 & 29838 & 2230955 & 7145897 & 0 & 1 & 0 & 1 & 309 & 13386 &  56.76\\\\\n\\end{tabular}\n",
            "text/markdown": "\nA data.frame: 6 x 153\n\n| S_CODE.. &lt;dbl&gt; | S_CODE.DCA &lt;dbl&gt; | S_CODE.EWR &lt;dbl&gt; | S_CODE.IAD &lt;dbl&gt; | S_CODE.JFK &lt;dbl&gt; | S_CODE.LGA &lt;dbl&gt; | S_CODE.MDW &lt;dbl&gt; | S_CODE.ORD &lt;dbl&gt; | S_CITY.Albuquerque.........NM &lt;dbl&gt; | S_CITY.Anchorage...........AK &lt;dbl&gt; | ... ... | E_INCOME &lt;dbl&gt; | S_POP &lt;dbl&gt; | E_POP &lt;dbl&gt; | SLOT.Controlled &lt;dbl&gt; | SLOT.Free &lt;dbl&gt; | GATE.Constrained &lt;dbl&gt; | GATE.Free &lt;dbl&gt; | DISTANCE &lt;dbl&gt; | PAX &lt;dbl&gt; | FARE &lt;dbl&gt; |\n|---|---|---|---|---|---|---|---|---|---|---|---|---|---|---|---|---|---|---|---|---|\n| 1 | 0 | 0 | 0 | 0 | 0 | 0 | 0 | 0 | 0 | ... | 21112 | 3036732 |  205711 | 0 | 1 | 0 | 1 | 312 |  7864 |  64.11 |\n| 1 | 0 | 0 | 0 | 0 | 0 | 0 | 0 | 0 | 0 | ... | 29838 | 3532657 | 7145897 | 0 | 1 | 0 | 1 | 576 |  8820 | 174.47 |\n| 1 | 0 | 0 | 0 | 0 | 0 | 0 | 0 | 0 | 0 | ... | 29838 | 5787293 | 7145897 | 0 | 1 | 0 | 1 | 364 |  6452 | 207.76 |\n| 0 | 0 | 0 | 0 | 0 | 0 | 0 | 1 | 0 | 0 | ... | 29838 | 7830332 | 7145897 | 1 | 0 | 0 | 1 | 612 | 25144 |  85.47 |\n| 0 | 0 | 0 | 0 | 0 | 0 | 1 | 0 | 0 | 0 | ... | 29838 | 7830332 | 7145897 | 0 | 1 | 0 | 1 | 612 | 25144 |  85.47 |\n| 1 | 0 | 0 | 0 | 0 | 0 | 0 | 0 | 0 | 0 | ... | 29838 | 2230955 | 7145897 | 0 | 1 | 0 | 1 | 309 | 13386 |  56.76 |\n\n",
            "text/html": "<table>\n<caption>A data.frame: 6 x 153</caption>\n<thead>\n\t<tr><th scope=col>S_CODE..</th><th scope=col>S_CODE.DCA</th><th scope=col>S_CODE.EWR</th><th scope=col>S_CODE.IAD</th><th scope=col>S_CODE.JFK</th><th scope=col>S_CODE.LGA</th><th scope=col>S_CODE.MDW</th><th scope=col>S_CODE.ORD</th><th scope=col>S_CITY.Albuquerque.........NM</th><th scope=col>S_CITY.Anchorage...........AK</th><th scope=col>...</th><th scope=col>E_INCOME</th><th scope=col>S_POP</th><th scope=col>E_POP</th><th scope=col>SLOT.Controlled</th><th scope=col>SLOT.Free</th><th scope=col>GATE.Constrained</th><th scope=col>GATE.Free</th><th scope=col>DISTANCE</th><th scope=col>PAX</th><th scope=col>FARE</th></tr>\n\t<tr><th scope=col>&lt;dbl&gt;</th><th scope=col>&lt;dbl&gt;</th><th scope=col>&lt;dbl&gt;</th><th scope=col>&lt;dbl&gt;</th><th scope=col>&lt;dbl&gt;</th><th scope=col>&lt;dbl&gt;</th><th scope=col>&lt;dbl&gt;</th><th scope=col>&lt;dbl&gt;</th><th scope=col>&lt;dbl&gt;</th><th scope=col>&lt;dbl&gt;</th><th scope=col>...</th><th scope=col>&lt;dbl&gt;</th><th scope=col>&lt;dbl&gt;</th><th scope=col>&lt;dbl&gt;</th><th scope=col>&lt;dbl&gt;</th><th scope=col>&lt;dbl&gt;</th><th scope=col>&lt;dbl&gt;</th><th scope=col>&lt;dbl&gt;</th><th scope=col>&lt;dbl&gt;</th><th scope=col>&lt;dbl&gt;</th><th scope=col>&lt;dbl&gt;</th></tr>\n</thead>\n<tbody>\n\t<tr><td>1</td><td>0</td><td>0</td><td>0</td><td>0</td><td>0</td><td>0</td><td>0</td><td>0</td><td>0</td><td>...</td><td>21112</td><td>3036732</td><td> 205711</td><td>0</td><td>1</td><td>0</td><td>1</td><td>312</td><td> 7864</td><td> 64.11</td></tr>\n\t<tr><td>1</td><td>0</td><td>0</td><td>0</td><td>0</td><td>0</td><td>0</td><td>0</td><td>0</td><td>0</td><td>...</td><td>29838</td><td>3532657</td><td>7145897</td><td>0</td><td>1</td><td>0</td><td>1</td><td>576</td><td> 8820</td><td>174.47</td></tr>\n\t<tr><td>1</td><td>0</td><td>0</td><td>0</td><td>0</td><td>0</td><td>0</td><td>0</td><td>0</td><td>0</td><td>...</td><td>29838</td><td>5787293</td><td>7145897</td><td>0</td><td>1</td><td>0</td><td>1</td><td>364</td><td> 6452</td><td>207.76</td></tr>\n\t<tr><td>0</td><td>0</td><td>0</td><td>0</td><td>0</td><td>0</td><td>0</td><td>1</td><td>0</td><td>0</td><td>...</td><td>29838</td><td>7830332</td><td>7145897</td><td>1</td><td>0</td><td>0</td><td>1</td><td>612</td><td>25144</td><td> 85.47</td></tr>\n\t<tr><td>0</td><td>0</td><td>0</td><td>0</td><td>0</td><td>0</td><td>1</td><td>0</td><td>0</td><td>0</td><td>...</td><td>29838</td><td>7830332</td><td>7145897</td><td>0</td><td>1</td><td>0</td><td>1</td><td>612</td><td>25144</td><td> 85.47</td></tr>\n\t<tr><td>1</td><td>0</td><td>0</td><td>0</td><td>0</td><td>0</td><td>0</td><td>0</td><td>0</td><td>0</td><td>...</td><td>29838</td><td>2230955</td><td>7145897</td><td>0</td><td>1</td><td>0</td><td>1</td><td>309</td><td>13386</td><td> 56.76</td></tr>\n</tbody>\n</table>\n"
          },
          "metadata": {}
        }
      ]
    },
    {
      "metadata": {
        "trusted": true
      },
      "cell_type": "code",
      "source": "# Add an index so we can use the createDataPartition function\ndummy.set$ID <- seq.int(nrow(nobad.df))\n\n# split into train and test\nAirtrainingList <- createDataPartition(dummy.set$ID, p = 0.6, list = FALSE, times = 1)\nAirtrain.df <- dummy.set[trainingList,]\nAirtest.df <- dummy.set[-trainingList,]\n\n# prove myself\ndim(Airtrain.df)\n\ndim(Airtest.df)",
      "execution_count": 21,
      "outputs": [
        {
          "output_type": "display_data",
          "data": {
            "text/plain": "[1] 1200  154",
            "text/latex": "\\begin{enumerate*}\n\\item 1200\n\\item 154\n\\end{enumerate*}\n",
            "text/markdown": "1. 1200\n2. 154\n\n\n",
            "text/html": "<ol class=list-inline>\n\t<li>1200</li>\n\t<li>154</li>\n</ol>\n"
          },
          "metadata": {}
        },
        {
          "output_type": "display_data",
          "data": {
            "text/plain": "[1] 251 154",
            "text/latex": "\\begin{enumerate*}\n\\item 251\n\\item 154\n\\end{enumerate*}\n",
            "text/markdown": "1. 251\n2. 154\n\n\n",
            "text/html": "<ol class=list-inline>\n\t<li>251</li>\n\t<li>154</li>\n</ol>\n"
          },
          "metadata": {}
        }
      ]
    },
    {
      "metadata": {},
      "cell_type": "markdown",
      "source": "###### 2) Use stepwise regression to reduce predictors. Ignore the first four vars. "
    },
    {
      "metadata": {
        "trusted": true
      },
      "cell_type": "code",
      "source": "# Not sure what to do here since the book itself wants me to ignore the first four predictors.\n#  I'm going to try and just remove them from the dataset altogether, repeating the above.\n\npre.df <- raw.df[,-c(1:4)]\n\n# do better this time with the dummies\ndummies <- dummyVars(FARE ~ ., data = pre.df)  \ndummy.dum <- data.frame(predict(dummies, newdata = pre.df))\ndummy.dum$FARE <- pre.df$FARE\ndummy.dum$ID <- seq.int(nrow(pre.df))\n\n# check?\nhead(dummy.dum)\n\n# split into train and test... again\nlolAirtrainingList <- createDataPartition(dummy.dum$ID, p = 0.6, list = FALSE, times = 1)\nlolAirtrain.df <- dummy.dum[lolAirtrainingList,]\nlolAirtest.df <- dummy.dum[-lolAirtrainingList,]\n\n# prove myself\ndim(lolAirtrain.df)\n\ndim(lolAirtest.df)",
      "execution_count": 30,
      "outputs": [
        {
          "output_type": "display_data",
          "data": {
            "text/plain": "  COUPON NEW VACATION.No VACATION.Yes SW.No SW.Yes HI      S_INCOME E_INCOME\n1 1.00   3   1           0            0     1      5291.99 28637    21112   \n2 1.06   3   1           0            1     0      5419.16 26993    29838   \n3 1.06   3   1           0            1     0      9185.28 30124    29838   \n4 1.06   3   1           0            0     1      2657.35 29260    29838   \n5 1.06   3   1           0            0     1      2657.35 29260    29838   \n6 1.01   3   1           0            0     1      3408.11 26046    29838   \n  S_POP   E_POP   SLOT.Controlled SLOT.Free GATE.Constrained GATE.Free DISTANCE\n1 3036732  205711 0               1         0                1         312     \n2 3532657 7145897 0               1         0                1         576     \n3 5787293 7145897 0               1         0                1         364     \n4 7830332 7145897 1               0         0                1         612     \n5 7830332 7145897 0               1         0                1         612     \n6 2230955 7145897 0               1         0                1         309     \n  PAX   FARE   ID\n1  7864  64.11 1 \n2  8820 174.47 2 \n3  6452 207.76 3 \n4 25144  85.47 4 \n5 25144  85.47 5 \n6 13386  56.76 6 ",
            "text/latex": "A data.frame: 6 x 19\n\\begin{tabular}{r|lllllllllllllllllll}\n COUPON & NEW & VACATION.No & VACATION.Yes & SW.No & SW.Yes & HI & S\\_INCOME & E\\_INCOME & S\\_POP & E\\_POP & SLOT.Controlled & SLOT.Free & GATE.Constrained & GATE.Free & DISTANCE & PAX & FARE & ID\\\\\n <dbl> & <dbl> & <dbl> & <dbl> & <dbl> & <dbl> & <dbl> & <dbl> & <dbl> & <dbl> & <dbl> & <dbl> & <dbl> & <dbl> & <dbl> & <dbl> & <dbl> & <dbl> & <int>\\\\\n\\hline\n\t 1.00 & 3 & 1 & 0 & 0 & 1 & 5291.99 & 28637 & 21112 & 3036732 &  205711 & 0 & 1 & 0 & 1 & 312 &  7864 &  64.11 & 1\\\\\n\t 1.06 & 3 & 1 & 0 & 1 & 0 & 5419.16 & 26993 & 29838 & 3532657 & 7145897 & 0 & 1 & 0 & 1 & 576 &  8820 & 174.47 & 2\\\\\n\t 1.06 & 3 & 1 & 0 & 1 & 0 & 9185.28 & 30124 & 29838 & 5787293 & 7145897 & 0 & 1 & 0 & 1 & 364 &  6452 & 207.76 & 3\\\\\n\t 1.06 & 3 & 1 & 0 & 0 & 1 & 2657.35 & 29260 & 29838 & 7830332 & 7145897 & 1 & 0 & 0 & 1 & 612 & 25144 &  85.47 & 4\\\\\n\t 1.06 & 3 & 1 & 0 & 0 & 1 & 2657.35 & 29260 & 29838 & 7830332 & 7145897 & 0 & 1 & 0 & 1 & 612 & 25144 &  85.47 & 5\\\\\n\t 1.01 & 3 & 1 & 0 & 0 & 1 & 3408.11 & 26046 & 29838 & 2230955 & 7145897 & 0 & 1 & 0 & 1 & 309 & 13386 &  56.76 & 6\\\\\n\\end{tabular}\n",
            "text/markdown": "\nA data.frame: 6 x 19\n\n| COUPON &lt;dbl&gt; | NEW &lt;dbl&gt; | VACATION.No &lt;dbl&gt; | VACATION.Yes &lt;dbl&gt; | SW.No &lt;dbl&gt; | SW.Yes &lt;dbl&gt; | HI &lt;dbl&gt; | S_INCOME &lt;dbl&gt; | E_INCOME &lt;dbl&gt; | S_POP &lt;dbl&gt; | E_POP &lt;dbl&gt; | SLOT.Controlled &lt;dbl&gt; | SLOT.Free &lt;dbl&gt; | GATE.Constrained &lt;dbl&gt; | GATE.Free &lt;dbl&gt; | DISTANCE &lt;dbl&gt; | PAX &lt;dbl&gt; | FARE &lt;dbl&gt; | ID &lt;int&gt; |\n|---|---|---|---|---|---|---|---|---|---|---|---|---|---|---|---|---|---|---|\n| 1.00 | 3 | 1 | 0 | 0 | 1 | 5291.99 | 28637 | 21112 | 3036732 |  205711 | 0 | 1 | 0 | 1 | 312 |  7864 |  64.11 | 1 |\n| 1.06 | 3 | 1 | 0 | 1 | 0 | 5419.16 | 26993 | 29838 | 3532657 | 7145897 | 0 | 1 | 0 | 1 | 576 |  8820 | 174.47 | 2 |\n| 1.06 | 3 | 1 | 0 | 1 | 0 | 9185.28 | 30124 | 29838 | 5787293 | 7145897 | 0 | 1 | 0 | 1 | 364 |  6452 | 207.76 | 3 |\n| 1.06 | 3 | 1 | 0 | 0 | 1 | 2657.35 | 29260 | 29838 | 7830332 | 7145897 | 1 | 0 | 0 | 1 | 612 | 25144 |  85.47 | 4 |\n| 1.06 | 3 | 1 | 0 | 0 | 1 | 2657.35 | 29260 | 29838 | 7830332 | 7145897 | 0 | 1 | 0 | 1 | 612 | 25144 |  85.47 | 5 |\n| 1.01 | 3 | 1 | 0 | 0 | 1 | 3408.11 | 26046 | 29838 | 2230955 | 7145897 | 0 | 1 | 0 | 1 | 309 | 13386 |  56.76 | 6 |\n\n",
            "text/html": "<table>\n<caption>A data.frame: 6 x 19</caption>\n<thead>\n\t<tr><th scope=col>COUPON</th><th scope=col>NEW</th><th scope=col>VACATION.No</th><th scope=col>VACATION.Yes</th><th scope=col>SW.No</th><th scope=col>SW.Yes</th><th scope=col>HI</th><th scope=col>S_INCOME</th><th scope=col>E_INCOME</th><th scope=col>S_POP</th><th scope=col>E_POP</th><th scope=col>SLOT.Controlled</th><th scope=col>SLOT.Free</th><th scope=col>GATE.Constrained</th><th scope=col>GATE.Free</th><th scope=col>DISTANCE</th><th scope=col>PAX</th><th scope=col>FARE</th><th scope=col>ID</th></tr>\n\t<tr><th scope=col>&lt;dbl&gt;</th><th scope=col>&lt;dbl&gt;</th><th scope=col>&lt;dbl&gt;</th><th scope=col>&lt;dbl&gt;</th><th scope=col>&lt;dbl&gt;</th><th scope=col>&lt;dbl&gt;</th><th scope=col>&lt;dbl&gt;</th><th scope=col>&lt;dbl&gt;</th><th scope=col>&lt;dbl&gt;</th><th scope=col>&lt;dbl&gt;</th><th scope=col>&lt;dbl&gt;</th><th scope=col>&lt;dbl&gt;</th><th scope=col>&lt;dbl&gt;</th><th scope=col>&lt;dbl&gt;</th><th scope=col>&lt;dbl&gt;</th><th scope=col>&lt;dbl&gt;</th><th scope=col>&lt;dbl&gt;</th><th scope=col>&lt;dbl&gt;</th><th scope=col>&lt;int&gt;</th></tr>\n</thead>\n<tbody>\n\t<tr><td>1.00</td><td>3</td><td>1</td><td>0</td><td>0</td><td>1</td><td>5291.99</td><td>28637</td><td>21112</td><td>3036732</td><td> 205711</td><td>0</td><td>1</td><td>0</td><td>1</td><td>312</td><td> 7864</td><td> 64.11</td><td>1</td></tr>\n\t<tr><td>1.06</td><td>3</td><td>1</td><td>0</td><td>1</td><td>0</td><td>5419.16</td><td>26993</td><td>29838</td><td>3532657</td><td>7145897</td><td>0</td><td>1</td><td>0</td><td>1</td><td>576</td><td> 8820</td><td>174.47</td><td>2</td></tr>\n\t<tr><td>1.06</td><td>3</td><td>1</td><td>0</td><td>1</td><td>0</td><td>9185.28</td><td>30124</td><td>29838</td><td>5787293</td><td>7145897</td><td>0</td><td>1</td><td>0</td><td>1</td><td>364</td><td> 6452</td><td>207.76</td><td>3</td></tr>\n\t<tr><td>1.06</td><td>3</td><td>1</td><td>0</td><td>0</td><td>1</td><td>2657.35</td><td>29260</td><td>29838</td><td>7830332</td><td>7145897</td><td>1</td><td>0</td><td>0</td><td>1</td><td>612</td><td>25144</td><td> 85.47</td><td>4</td></tr>\n\t<tr><td>1.06</td><td>3</td><td>1</td><td>0</td><td>0</td><td>1</td><td>2657.35</td><td>29260</td><td>29838</td><td>7830332</td><td>7145897</td><td>0</td><td>1</td><td>0</td><td>1</td><td>612</td><td>25144</td><td> 85.47</td><td>5</td></tr>\n\t<tr><td>1.01</td><td>3</td><td>1</td><td>0</td><td>0</td><td>1</td><td>3408.11</td><td>26046</td><td>29838</td><td>2230955</td><td>7145897</td><td>0</td><td>1</td><td>0</td><td>1</td><td>309</td><td>13386</td><td> 56.76</td><td>6</td></tr>\n</tbody>\n</table>\n"
          },
          "metadata": {}
        },
        {
          "output_type": "display_data",
          "data": {
            "text/plain": "[1] 384  19",
            "text/latex": "\\begin{enumerate*}\n\\item 384\n\\item 19\n\\end{enumerate*}\n",
            "text/markdown": "1. 384\n2. 19\n\n\n",
            "text/html": "<ol class=list-inline>\n\t<li>384</li>\n\t<li>19</li>\n</ol>\n"
          },
          "metadata": {}
        },
        {
          "output_type": "display_data",
          "data": {
            "text/plain": "[1] 254  19",
            "text/latex": "\\begin{enumerate*}\n\\item 254\n\\item 19\n\\end{enumerate*}\n",
            "text/markdown": "1. 254\n2. 19\n\n\n",
            "text/html": "<ol class=list-inline>\n\t<li>254</li>\n\t<li>19</li>\n</ol>\n"
          },
          "metadata": {}
        }
      ]
    },
    {
      "metadata": {
        "trusted": true
      },
      "cell_type": "code",
      "source": "# now we can model\n\nAirmodelUnattended <- train(\n    FARE ~ .,\n    data = lolAirtrain.df,\n    # found this cool thing on the \"internet\"\n    na.action=na.exclude\n)\n\nAirmodelUnattended",
      "execution_count": 23,
      "outputs": [
        {
          "output_type": "display_data",
          "data": {
            "text/plain": "Random Forest \n\n1200 samples\n  18 predictor\n\nNo pre-processing\nResampling: Bootstrapped (25 reps) \nSummary of sample sizes: 387, 387, 387, 387, 387, 387, ... \nResampling results across tuning parameters:\n\n  mtry  RMSE      Rsquared   MAE     \n   2    35.60822  0.8298762  27.79662\n  10    29.51476  0.8516960  20.96286\n  18    30.57747  0.8372857  21.57737\n\nRMSE was used to select the optimal model using the smallest value.\nThe final value used for the model was mtry = 10."
          },
          "metadata": {}
        }
      ]
    },
    {
      "metadata": {
        "trusted": true
      },
      "cell_type": "code",
      "source": "# When left methodless, the Random Forest was selected... but I'm not sure this was stepwise.\n\n#coef(AirmodelUnattended$finalModel, id = 10)\nAirmodelUnattended$results\nAirmodelUnattended$finalModel",
      "execution_count": 27,
      "outputs": [
        {
          "output_type": "display_data",
          "data": {
            "text/plain": "  mtry RMSE     Rsquared  MAE      RMSESD   RsquaredSD MAESD   \n1  2   35.60822 0.8298762 27.79662 2.695633 0.02794413 1.648508\n2 10   29.51476 0.8516960 20.96286 2.074506 0.02640339 1.592073\n3 18   30.57747 0.8372857 21.57737 2.289325 0.03281278 1.783621",
            "text/latex": "A data.frame: 3 x 7\n\\begin{tabular}{r|lllllll}\n mtry & RMSE & Rsquared & MAE & RMSESD & RsquaredSD & MAESD\\\\\n <dbl> & <dbl> & <dbl> & <dbl> & <dbl> & <dbl> & <dbl>\\\\\n\\hline\n\t  2 & 35.60822 & 0.8298762 & 27.79662 & 2.695633 & 0.02794413 & 1.648508\\\\\n\t 10 & 29.51476 & 0.8516960 & 20.96286 & 2.074506 & 0.02640339 & 1.592073\\\\\n\t 18 & 30.57747 & 0.8372857 & 21.57737 & 2.289325 & 0.03281278 & 1.783621\\\\\n\\end{tabular}\n",
            "text/markdown": "\nA data.frame: 3 x 7\n\n| mtry &lt;dbl&gt; | RMSE &lt;dbl&gt; | Rsquared &lt;dbl&gt; | MAE &lt;dbl&gt; | RMSESD &lt;dbl&gt; | RsquaredSD &lt;dbl&gt; | MAESD &lt;dbl&gt; |\n|---|---|---|---|---|---|---|\n|  2 | 35.60822 | 0.8298762 | 27.79662 | 2.695633 | 0.02794413 | 1.648508 |\n| 10 | 29.51476 | 0.8516960 | 20.96286 | 2.074506 | 0.02640339 | 1.592073 |\n| 18 | 30.57747 | 0.8372857 | 21.57737 | 2.289325 | 0.03281278 | 1.783621 |\n\n",
            "text/html": "<table>\n<caption>A data.frame: 3 x 7</caption>\n<thead>\n\t<tr><th scope=col>mtry</th><th scope=col>RMSE</th><th scope=col>Rsquared</th><th scope=col>MAE</th><th scope=col>RMSESD</th><th scope=col>RsquaredSD</th><th scope=col>MAESD</th></tr>\n\t<tr><th scope=col>&lt;dbl&gt;</th><th scope=col>&lt;dbl&gt;</th><th scope=col>&lt;dbl&gt;</th><th scope=col>&lt;dbl&gt;</th><th scope=col>&lt;dbl&gt;</th><th scope=col>&lt;dbl&gt;</th><th scope=col>&lt;dbl&gt;</th></tr>\n</thead>\n<tbody>\n\t<tr><td> 2</td><td>35.60822</td><td>0.8298762</td><td>27.79662</td><td>2.695633</td><td>0.02794413</td><td>1.648508</td></tr>\n\t<tr><td>10</td><td>29.51476</td><td>0.8516960</td><td>20.96286</td><td>2.074506</td><td>0.02640339</td><td>1.592073</td></tr>\n\t<tr><td>18</td><td>30.57747</td><td>0.8372857</td><td>21.57737</td><td>2.289325</td><td>0.03281278</td><td>1.783621</td></tr>\n</tbody>\n</table>\n"
          },
          "metadata": {}
        },
        {
          "output_type": "display_data",
          "data": {
            "text/plain": "\nCall:\n randomForest(x = x, y = y, mtry = param$mtry) \n               Type of random forest: regression\n                     Number of trees: 500\nNo. of variables tried at each split: 10\n\n          Mean of squared residuals: 724.7583\n                    % Var explained: 86.98"
          },
          "metadata": {}
        }
      ]
    },
    {
      "metadata": {
        "trusted": true
      },
      "cell_type": "code",
      "source": "# so, I'll force stepwise\n\nAirmodelStep <- train(\n    FARE ~ .,\n    data = lolAirtrain.df,\n    # found this cool thing on the \"internet\"\n    na.action=na.exclude,\n    method = \"leapSeq\"\n)\n\nAirmodelStep",
      "execution_count": 32,
      "outputs": [
        {
          "output_type": "stream",
          "text": "Warning message in leaps.setup(x, y, wt = weights, nbest = nbest, nvmax = nvmax, :\n“4  linear dependencies found”",
          "name": "stderr"
        },
        {
          "output_type": "stream",
          "text": "Reordering variables and trying again:\n",
          "name": "stdout"
        },
        {
          "output_type": "stream",
          "text": "Warning message in leaps.setup(x, y, wt = weights, nbest = nbest, nvmax = nvmax, :\n“4  linear dependencies found”",
          "name": "stderr"
        },
        {
          "output_type": "stream",
          "text": "Reordering variables and trying again:\n",
          "name": "stdout"
        },
        {
          "output_type": "stream",
          "text": "Warning message in leaps.setup(x, y, wt = weights, nbest = nbest, nvmax = nvmax, :\n“4  linear dependencies found”",
          "name": "stderr"
        },
        {
          "output_type": "stream",
          "text": "Reordering variables and trying again:\n",
          "name": "stdout"
        },
        {
          "output_type": "stream",
          "text": "Warning message in leaps.setup(x, y, wt = weights, nbest = nbest, nvmax = nvmax, :\n“4  linear dependencies found”",
          "name": "stderr"
        },
        {
          "output_type": "stream",
          "text": "Reordering variables and trying again:\n",
          "name": "stdout"
        },
        {
          "output_type": "stream",
          "text": "Warning message in leaps.setup(x, y, wt = weights, nbest = nbest, nvmax = nvmax, :\n“4  linear dependencies found”",
          "name": "stderr"
        },
        {
          "output_type": "stream",
          "text": "Reordering variables and trying again:\n",
          "name": "stdout"
        },
        {
          "output_type": "stream",
          "text": "Warning message in leaps.setup(x, y, wt = weights, nbest = nbest, nvmax = nvmax, :\n“4  linear dependencies found”",
          "name": "stderr"
        },
        {
          "output_type": "stream",
          "text": "Reordering variables and trying again:\n",
          "name": "stdout"
        },
        {
          "output_type": "stream",
          "text": "Warning message in leaps.setup(x, y, wt = weights, nbest = nbest, nvmax = nvmax, :\n“4  linear dependencies found”",
          "name": "stderr"
        },
        {
          "output_type": "stream",
          "text": "Reordering variables and trying again:\n",
          "name": "stdout"
        },
        {
          "output_type": "stream",
          "text": "Warning message in leaps.setup(x, y, wt = weights, nbest = nbest, nvmax = nvmax, :\n“4  linear dependencies found”",
          "name": "stderr"
        },
        {
          "output_type": "stream",
          "text": "Reordering variables and trying again:\n",
          "name": "stdout"
        },
        {
          "output_type": "stream",
          "text": "Warning message in leaps.setup(x, y, wt = weights, nbest = nbest, nvmax = nvmax, :\n“4  linear dependencies found”",
          "name": "stderr"
        },
        {
          "output_type": "stream",
          "text": "Reordering variables and trying again:\n",
          "name": "stdout"
        },
        {
          "output_type": "stream",
          "text": "Warning message in leaps.setup(x, y, wt = weights, nbest = nbest, nvmax = nvmax, :\n“4  linear dependencies found”",
          "name": "stderr"
        },
        {
          "output_type": "stream",
          "text": "Reordering variables and trying again:\n",
          "name": "stdout"
        },
        {
          "output_type": "stream",
          "text": "Warning message in leaps.setup(x, y, wt = weights, nbest = nbest, nvmax = nvmax, :\n“4  linear dependencies found”",
          "name": "stderr"
        },
        {
          "output_type": "stream",
          "text": "Reordering variables and trying again:\n",
          "name": "stdout"
        },
        {
          "output_type": "stream",
          "text": "Warning message in leaps.setup(x, y, wt = weights, nbest = nbest, nvmax = nvmax, :\n“4  linear dependencies found”",
          "name": "stderr"
        },
        {
          "output_type": "stream",
          "text": "Reordering variables and trying again:\n",
          "name": "stdout"
        },
        {
          "output_type": "stream",
          "text": "Warning message in leaps.setup(x, y, wt = weights, nbest = nbest, nvmax = nvmax, :\n“4  linear dependencies found”",
          "name": "stderr"
        },
        {
          "output_type": "stream",
          "text": "Reordering variables and trying again:\n",
          "name": "stdout"
        },
        {
          "output_type": "stream",
          "text": "Warning message in leaps.setup(x, y, wt = weights, nbest = nbest, nvmax = nvmax, :\n“4  linear dependencies found”",
          "name": "stderr"
        },
        {
          "output_type": "stream",
          "text": "Reordering variables and trying again:\n",
          "name": "stdout"
        },
        {
          "output_type": "stream",
          "text": "Warning message in leaps.setup(x, y, wt = weights, nbest = nbest, nvmax = nvmax, :\n“4  linear dependencies found”",
          "name": "stderr"
        },
        {
          "output_type": "stream",
          "text": "Reordering variables and trying again:\n",
          "name": "stdout"
        },
        {
          "output_type": "stream",
          "text": "Warning message in leaps.setup(x, y, wt = weights, nbest = nbest, nvmax = nvmax, :\n“4  linear dependencies found”",
          "name": "stderr"
        },
        {
          "output_type": "stream",
          "text": "Reordering variables and trying again:\n",
          "name": "stdout"
        },
        {
          "output_type": "stream",
          "text": "Warning message in leaps.setup(x, y, wt = weights, nbest = nbest, nvmax = nvmax, :\n“4  linear dependencies found”",
          "name": "stderr"
        },
        {
          "output_type": "stream",
          "text": "Reordering variables and trying again:\n",
          "name": "stdout"
        },
        {
          "output_type": "stream",
          "text": "Warning message in leaps.setup(x, y, wt = weights, nbest = nbest, nvmax = nvmax, :\n“4  linear dependencies found”",
          "name": "stderr"
        },
        {
          "output_type": "stream",
          "text": "Reordering variables and trying again:\n",
          "name": "stdout"
        },
        {
          "output_type": "stream",
          "text": "Warning message in leaps.setup(x, y, wt = weights, nbest = nbest, nvmax = nvmax, :\n“4  linear dependencies found”",
          "name": "stderr"
        },
        {
          "output_type": "stream",
          "text": "Reordering variables and trying again:\n",
          "name": "stdout"
        },
        {
          "output_type": "stream",
          "text": "Warning message in leaps.setup(x, y, wt = weights, nbest = nbest, nvmax = nvmax, :\n“4  linear dependencies found”",
          "name": "stderr"
        },
        {
          "output_type": "stream",
          "text": "Reordering variables and trying again:\n",
          "name": "stdout"
        },
        {
          "output_type": "stream",
          "text": "Warning message in leaps.setup(x, y, wt = weights, nbest = nbest, nvmax = nvmax, :\n“4  linear dependencies found”",
          "name": "stderr"
        },
        {
          "output_type": "stream",
          "text": "Reordering variables and trying again:\n",
          "name": "stdout"
        },
        {
          "output_type": "stream",
          "text": "Warning message in leaps.setup(x, y, wt = weights, nbest = nbest, nvmax = nvmax, :\n“4  linear dependencies found”",
          "name": "stderr"
        },
        {
          "output_type": "stream",
          "text": "Reordering variables and trying again:\n",
          "name": "stdout"
        },
        {
          "output_type": "stream",
          "text": "Warning message in leaps.setup(x, y, wt = weights, nbest = nbest, nvmax = nvmax, :\n“4  linear dependencies found”",
          "name": "stderr"
        },
        {
          "output_type": "stream",
          "text": "Reordering variables and trying again:\n",
          "name": "stdout"
        },
        {
          "output_type": "stream",
          "text": "Warning message in leaps.setup(x, y, wt = weights, nbest = nbest, nvmax = nvmax, :\n“4  linear dependencies found”",
          "name": "stderr"
        },
        {
          "output_type": "stream",
          "text": "Reordering variables and trying again:\n",
          "name": "stdout"
        },
        {
          "output_type": "stream",
          "text": "Warning message in leaps.setup(x, y, wt = weights, nbest = nbest, nvmax = nvmax, :\n“4  linear dependencies found”",
          "name": "stderr"
        },
        {
          "output_type": "stream",
          "text": "Reordering variables and trying again:\n",
          "name": "stdout"
        },
        {
          "output_type": "stream",
          "text": "Warning message in leaps.setup(x, y, wt = weights, nbest = nbest, nvmax = nvmax, :\n“4  linear dependencies found”",
          "name": "stderr"
        },
        {
          "output_type": "stream",
          "text": "Reordering variables and trying again:\n",
          "name": "stdout"
        },
        {
          "output_type": "display_data",
          "data": {
            "text/plain": "Linear Regression with Stepwise Selection \n\n384 samples\n 18 predictor\n\nNo pre-processing\nResampling: Bootstrapped (25 reps) \nSummary of sample sizes: 384, 384, 384, 384, 384, 384, ... \nResampling results across tuning parameters:\n\n  nvmax  RMSE      Rsquared   MAE     \n  2      62.48024  0.3262668  51.30203\n  3      59.85922  0.3819293  48.74770\n  4      58.60762  0.4048798  47.82548\n\nRMSE was used to select the optimal model using the smallest value.\nThe final value used for the model was nvmax = 4."
          },
          "metadata": {}
        }
      ]
    },
    {
      "metadata": {
        "trusted": true
      },
      "cell_type": "code",
      "source": "# the above doesn't *look* right but I'm rolling with it for now.\n\n# ask in class:\n#  - what's up with the NA thing above\n#  - should I remove the first four vars from the dataset or just model without them?\n#  - how to get the first dropped predictor in a backwards leap?",
      "execution_count": null,
      "outputs": []
    }
  ],
  "metadata": {
    "kernelspec": {
      "name": "r",
      "display_name": "R",
      "language": "R"
    },
    "language_info": {
      "mimetype": "text/x-r-source",
      "name": "R",
      "pygments_lexer": "r",
      "version": "3.5.3",
      "file_extension": ".r",
      "codemirror_mode": "r"
    }
  },
  "nbformat": 4,
  "nbformat_minor": 2
}