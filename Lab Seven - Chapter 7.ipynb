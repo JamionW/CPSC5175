{
  "cells": [
    {
      "metadata": {
        "collapsed": true
      },
      "cell_type": "markdown",
      "source": "# CPSC5175 Lab 7 - Chapter 7\n#### Jamion Williams"
    },
    {
      "metadata": {},
      "cell_type": "markdown",
      "source": "### Problem 7.2 \n##### Upon the Universal Bank dataset..."
    },
    {
      "metadata": {},
      "cell_type": "markdown",
      "source": "###### c) Show the confusion matrix for the validation data that results from using the best __k__"
    },
    {
      "metadata": {
        "trusted": true
      },
      "cell_type": "code",
      "source": "# the usual suspects\n\nlibrary(caret)\nset.seed(420)",
      "execution_count": 24,
      "outputs": []
    },
    {
      "metadata": {
        "trusted": true
      },
      "cell_type": "code",
      "source": "# Import the dataset and interrogate it.\n\nraw.df <- read.csv(\"Datasets/UniversalBank.csv\",header = TRUE)\n\ndim(raw.df)\nt(t(names(raw.df)))\nhead(raw.df)\nsummary(raw.df)\ncolnames(raw.df)",
      "execution_count": 25,
      "outputs": [
        {
          "output_type": "display_data",
          "data": {
            "text/plain": "[1] 5000   14",
            "text/latex": "\\begin{enumerate*}\n\\item 5000\n\\item 14\n\\end{enumerate*}\n",
            "text/markdown": "1. 5000\n2. 14\n\n\n",
            "text/html": "<ol class=list-inline>\n\t<li>5000</li>\n\t<li>14</li>\n</ol>\n"
          },
          "metadata": {}
        },
        {
          "output_type": "display_data",
          "data": {
            "text/plain": "      [,1]              \n [1,] ID                \n [2,] Age               \n [3,] Experience        \n [4,] Income            \n [5,] ZIP.Code          \n [6,] Family            \n [7,] CCAvg             \n [8,] Education         \n [9,] Mortgage          \n[10,] Personal.Loan     \n[11,] Securities.Account\n[12,] CD.Account        \n[13,] Online            \n[14,] CreditCard        ",
            "text/latex": "A matrix: 14 x 1 of type chr\n\\begin{tabular}{l}\n\t ID                \\\\\n\t Age               \\\\\n\t Experience        \\\\\n\t Income            \\\\\n\t ZIP.Code          \\\\\n\t Family            \\\\\n\t CCAvg             \\\\\n\t Education         \\\\\n\t Mortgage          \\\\\n\t Personal.Loan     \\\\\n\t Securities.Account\\\\\n\t CD.Account        \\\\\n\t Online            \\\\\n\t CreditCard        \\\\\n\\end{tabular}\n",
            "text/markdown": "\nA matrix: 14 x 1 of type chr\n\n| ID                 |\n| Age                |\n| Experience         |\n| Income             |\n| ZIP.Code           |\n| Family             |\n| CCAvg              |\n| Education          |\n| Mortgage           |\n| Personal.Loan      |\n| Securities.Account |\n| CD.Account         |\n| Online             |\n| CreditCard         |\n\n",
            "text/html": "<table>\n<caption>A matrix: 14 x 1 of type chr</caption>\n<tbody>\n\t<tr><td>ID                </td></tr>\n\t<tr><td>Age               </td></tr>\n\t<tr><td>Experience        </td></tr>\n\t<tr><td>Income            </td></tr>\n\t<tr><td>ZIP.Code          </td></tr>\n\t<tr><td>Family            </td></tr>\n\t<tr><td>CCAvg             </td></tr>\n\t<tr><td>Education         </td></tr>\n\t<tr><td>Mortgage          </td></tr>\n\t<tr><td>Personal.Loan     </td></tr>\n\t<tr><td>Securities.Account</td></tr>\n\t<tr><td>CD.Account        </td></tr>\n\t<tr><td>Online            </td></tr>\n\t<tr><td>CreditCard        </td></tr>\n</tbody>\n</table>\n"
          },
          "metadata": {}
        },
        {
          "output_type": "display_data",
          "data": {
            "text/plain": "  ID Age Experience Income ZIP.Code Family CCAvg Education Mortgage\n1 1  25   1          49    91107    4      1.6   1           0     \n2 2  45  19          34    90089    3      1.5   1           0     \n3 3  39  15          11    94720    1      1.0   1           0     \n4 4  35   9         100    94112    1      2.7   2           0     \n5 5  35   8          45    91330    4      1.0   2           0     \n6 6  37  13          29    92121    4      0.4   2         155     \n  Personal.Loan Securities.Account CD.Account Online CreditCard\n1 0             1                  0          0      0         \n2 0             1                  0          0      0         \n3 0             0                  0          0      0         \n4 0             0                  0          0      0         \n5 0             0                  0          0      1         \n6 0             0                  0          1      0         ",
            "text/latex": "A data.frame: 6 x 14\n\\begin{tabular}{r|llllllllllllll}\n ID & Age & Experience & Income & ZIP.Code & Family & CCAvg & Education & Mortgage & Personal.Loan & Securities.Account & CD.Account & Online & CreditCard\\\\\n <int> & <int> & <int> & <int> & <int> & <int> & <dbl> & <int> & <int> & <int> & <int> & <int> & <int> & <int>\\\\\n\\hline\n\t 1 & 25 &  1 &  49 & 91107 & 4 & 1.6 & 1 &   0 & 0 & 1 & 0 & 0 & 0\\\\\n\t 2 & 45 & 19 &  34 & 90089 & 3 & 1.5 & 1 &   0 & 0 & 1 & 0 & 0 & 0\\\\\n\t 3 & 39 & 15 &  11 & 94720 & 1 & 1.0 & 1 &   0 & 0 & 0 & 0 & 0 & 0\\\\\n\t 4 & 35 &  9 & 100 & 94112 & 1 & 2.7 & 2 &   0 & 0 & 0 & 0 & 0 & 0\\\\\n\t 5 & 35 &  8 &  45 & 91330 & 4 & 1.0 & 2 &   0 & 0 & 0 & 0 & 0 & 1\\\\\n\t 6 & 37 & 13 &  29 & 92121 & 4 & 0.4 & 2 & 155 & 0 & 0 & 0 & 1 & 0\\\\\n\\end{tabular}\n",
            "text/markdown": "\nA data.frame: 6 x 14\n\n| ID &lt;int&gt; | Age &lt;int&gt; | Experience &lt;int&gt; | Income &lt;int&gt; | ZIP.Code &lt;int&gt; | Family &lt;int&gt; | CCAvg &lt;dbl&gt; | Education &lt;int&gt; | Mortgage &lt;int&gt; | Personal.Loan &lt;int&gt; | Securities.Account &lt;int&gt; | CD.Account &lt;int&gt; | Online &lt;int&gt; | CreditCard &lt;int&gt; |\n|---|---|---|---|---|---|---|---|---|---|---|---|---|---|\n| 1 | 25 |  1 |  49 | 91107 | 4 | 1.6 | 1 |   0 | 0 | 1 | 0 | 0 | 0 |\n| 2 | 45 | 19 |  34 | 90089 | 3 | 1.5 | 1 |   0 | 0 | 1 | 0 | 0 | 0 |\n| 3 | 39 | 15 |  11 | 94720 | 1 | 1.0 | 1 |   0 | 0 | 0 | 0 | 0 | 0 |\n| 4 | 35 |  9 | 100 | 94112 | 1 | 2.7 | 2 |   0 | 0 | 0 | 0 | 0 | 0 |\n| 5 | 35 |  8 |  45 | 91330 | 4 | 1.0 | 2 |   0 | 0 | 0 | 0 | 0 | 1 |\n| 6 | 37 | 13 |  29 | 92121 | 4 | 0.4 | 2 | 155 | 0 | 0 | 0 | 1 | 0 |\n\n",
            "text/html": "<table>\n<caption>A data.frame: 6 x 14</caption>\n<thead>\n\t<tr><th scope=col>ID</th><th scope=col>Age</th><th scope=col>Experience</th><th scope=col>Income</th><th scope=col>ZIP.Code</th><th scope=col>Family</th><th scope=col>CCAvg</th><th scope=col>Education</th><th scope=col>Mortgage</th><th scope=col>Personal.Loan</th><th scope=col>Securities.Account</th><th scope=col>CD.Account</th><th scope=col>Online</th><th scope=col>CreditCard</th></tr>\n\t<tr><th scope=col>&lt;int&gt;</th><th scope=col>&lt;int&gt;</th><th scope=col>&lt;int&gt;</th><th scope=col>&lt;int&gt;</th><th scope=col>&lt;int&gt;</th><th scope=col>&lt;int&gt;</th><th scope=col>&lt;dbl&gt;</th><th scope=col>&lt;int&gt;</th><th scope=col>&lt;int&gt;</th><th scope=col>&lt;int&gt;</th><th scope=col>&lt;int&gt;</th><th scope=col>&lt;int&gt;</th><th scope=col>&lt;int&gt;</th><th scope=col>&lt;int&gt;</th></tr>\n</thead>\n<tbody>\n\t<tr><td>1</td><td>25</td><td> 1</td><td> 49</td><td>91107</td><td>4</td><td>1.6</td><td>1</td><td>  0</td><td>0</td><td>1</td><td>0</td><td>0</td><td>0</td></tr>\n\t<tr><td>2</td><td>45</td><td>19</td><td> 34</td><td>90089</td><td>3</td><td>1.5</td><td>1</td><td>  0</td><td>0</td><td>1</td><td>0</td><td>0</td><td>0</td></tr>\n\t<tr><td>3</td><td>39</td><td>15</td><td> 11</td><td>94720</td><td>1</td><td>1.0</td><td>1</td><td>  0</td><td>0</td><td>0</td><td>0</td><td>0</td><td>0</td></tr>\n\t<tr><td>4</td><td>35</td><td> 9</td><td>100</td><td>94112</td><td>1</td><td>2.7</td><td>2</td><td>  0</td><td>0</td><td>0</td><td>0</td><td>0</td><td>0</td></tr>\n\t<tr><td>5</td><td>35</td><td> 8</td><td> 45</td><td>91330</td><td>4</td><td>1.0</td><td>2</td><td>  0</td><td>0</td><td>0</td><td>0</td><td>0</td><td>1</td></tr>\n\t<tr><td>6</td><td>37</td><td>13</td><td> 29</td><td>92121</td><td>4</td><td>0.4</td><td>2</td><td>155</td><td>0</td><td>0</td><td>0</td><td>1</td><td>0</td></tr>\n</tbody>\n</table>\n"
          },
          "metadata": {}
        },
        {
          "output_type": "display_data",
          "data": {
            "text/plain": "       ID            Age          Experience       Income          ZIP.Code    \n Min.   :   1   Min.   :23.00   Min.   :-3.0   Min.   :  8.00   Min.   : 9307  \n 1st Qu.:1251   1st Qu.:35.00   1st Qu.:10.0   1st Qu.: 39.00   1st Qu.:91911  \n Median :2500   Median :45.00   Median :20.0   Median : 64.00   Median :93437  \n Mean   :2500   Mean   :45.34   Mean   :20.1   Mean   : 73.77   Mean   :93152  \n 3rd Qu.:3750   3rd Qu.:55.00   3rd Qu.:30.0   3rd Qu.: 98.00   3rd Qu.:94608  \n Max.   :5000   Max.   :67.00   Max.   :43.0   Max.   :224.00   Max.   :96651  \n     Family          CCAvg          Education        Mortgage    \n Min.   :1.000   Min.   : 0.000   Min.   :1.000   Min.   :  0.0  \n 1st Qu.:1.000   1st Qu.: 0.700   1st Qu.:1.000   1st Qu.:  0.0  \n Median :2.000   Median : 1.500   Median :2.000   Median :  0.0  \n Mean   :2.396   Mean   : 1.938   Mean   :1.881   Mean   : 56.5  \n 3rd Qu.:3.000   3rd Qu.: 2.500   3rd Qu.:3.000   3rd Qu.:101.0  \n Max.   :4.000   Max.   :10.000   Max.   :3.000   Max.   :635.0  \n Personal.Loan   Securities.Account   CD.Account         Online      \n Min.   :0.000   Min.   :0.0000     Min.   :0.0000   Min.   :0.0000  \n 1st Qu.:0.000   1st Qu.:0.0000     1st Qu.:0.0000   1st Qu.:0.0000  \n Median :0.000   Median :0.0000     Median :0.0000   Median :1.0000  \n Mean   :0.096   Mean   :0.1044     Mean   :0.0604   Mean   :0.5968  \n 3rd Qu.:0.000   3rd Qu.:0.0000     3rd Qu.:0.0000   3rd Qu.:1.0000  \n Max.   :1.000   Max.   :1.0000     Max.   :1.0000   Max.   :1.0000  \n   CreditCard   \n Min.   :0.000  \n 1st Qu.:0.000  \n Median :0.000  \n Mean   :0.294  \n 3rd Qu.:1.000  \n Max.   :1.000  "
          },
          "metadata": {}
        },
        {
          "output_type": "display_data",
          "data": {
            "text/plain": " [1] \"ID\"                 \"Age\"                \"Experience\"        \n [4] \"Income\"             \"ZIP.Code\"           \"Family\"            \n [7] \"CCAvg\"              \"Education\"          \"Mortgage\"          \n[10] \"Personal.Loan\"      \"Securities.Account\" \"CD.Account\"        \n[13] \"Online\"             \"CreditCard\"        ",
            "text/latex": "\\begin{enumerate*}\n\\item 'ID'\n\\item 'Age'\n\\item 'Experience'\n\\item 'Income'\n\\item 'ZIP.Code'\n\\item 'Family'\n\\item 'CCAvg'\n\\item 'Education'\n\\item 'Mortgage'\n\\item 'Personal.Loan'\n\\item 'Securities.Account'\n\\item 'CD.Account'\n\\item 'Online'\n\\item 'CreditCard'\n\\end{enumerate*}\n",
            "text/markdown": "1. 'ID'\n2. 'Age'\n3. 'Experience'\n4. 'Income'\n5. 'ZIP.Code'\n6. 'Family'\n7. 'CCAvg'\n8. 'Education'\n9. 'Mortgage'\n10. 'Personal.Loan'\n11. 'Securities.Account'\n12. 'CD.Account'\n13. 'Online'\n14. 'CreditCard'\n\n\n",
            "text/html": "<ol class=list-inline>\n\t<li>'ID'</li>\n\t<li>'Age'</li>\n\t<li>'Experience'</li>\n\t<li>'Income'</li>\n\t<li>'ZIP.Code'</li>\n\t<li>'Family'</li>\n\t<li>'CCAvg'</li>\n\t<li>'Education'</li>\n\t<li>'Mortgage'</li>\n\t<li>'Personal.Loan'</li>\n\t<li>'Securities.Account'</li>\n\t<li>'CD.Account'</li>\n\t<li>'Online'</li>\n\t<li>'CreditCard'</li>\n</ol>\n"
          },
          "metadata": {}
        }
      ]
    },
    {
      "metadata": {
        "trusted": true
      },
      "cell_type": "code",
      "source": "anyNA(raw.df)",
      "execution_count": 26,
      "outputs": [
        {
          "output_type": "display_data",
          "data": {
            "text/plain": "[1] FALSE",
            "text/latex": "FALSE",
            "text/markdown": "FALSE",
            "text/html": "FALSE"
          },
          "metadata": {}
        }
      ]
    },
    {
      "metadata": {
        "trusted": true
      },
      "cell_type": "code",
      "source": "dummies <- dummyVars(Personal.Loan ~ ., data = raw.df)  \n\ndummy.set <- data.frame(predict(dummies, newdata = raw.df))\ndummy.set$Personal.Loan <- as.factor(raw.df$Personal.Loan)\nhead(dummy.set)",
      "execution_count": 33,
      "outputs": [
        {
          "output_type": "display_data",
          "data": {
            "text/plain": "  ID Age Experience Income ZIP.Code Family CCAvg Education Mortgage\n1 1  25   1          49    91107    4      1.6   1           0     \n2 2  45  19          34    90089    3      1.5   1           0     \n3 3  39  15          11    94720    1      1.0   1           0     \n4 4  35   9         100    94112    1      2.7   2           0     \n5 5  35   8          45    91330    4      1.0   2           0     \n6 6  37  13          29    92121    4      0.4   2         155     \n  Securities.Account CD.Account Online CreditCard Personal.Loan\n1 1                  0          0      0          0            \n2 1                  0          0      0          0            \n3 0                  0          0      0          0            \n4 0                  0          0      0          0            \n5 0                  0          0      1          0            \n6 0                  0          1      0          0            ",
            "text/latex": "A data.frame: 6 x 14\n\\begin{tabular}{r|llllllllllllll}\n ID & Age & Experience & Income & ZIP.Code & Family & CCAvg & Education & Mortgage & Securities.Account & CD.Account & Online & CreditCard & Personal.Loan\\\\\n <dbl> & <dbl> & <dbl> & <dbl> & <dbl> & <dbl> & <dbl> & <dbl> & <dbl> & <dbl> & <dbl> & <dbl> & <dbl> & <fct>\\\\\n\\hline\n\t 1 & 25 &  1 &  49 & 91107 & 4 & 1.6 & 1 &   0 & 1 & 0 & 0 & 0 & 0\\\\\n\t 2 & 45 & 19 &  34 & 90089 & 3 & 1.5 & 1 &   0 & 1 & 0 & 0 & 0 & 0\\\\\n\t 3 & 39 & 15 &  11 & 94720 & 1 & 1.0 & 1 &   0 & 0 & 0 & 0 & 0 & 0\\\\\n\t 4 & 35 &  9 & 100 & 94112 & 1 & 2.7 & 2 &   0 & 0 & 0 & 0 & 0 & 0\\\\\n\t 5 & 35 &  8 &  45 & 91330 & 4 & 1.0 & 2 &   0 & 0 & 0 & 0 & 1 & 0\\\\\n\t 6 & 37 & 13 &  29 & 92121 & 4 & 0.4 & 2 & 155 & 0 & 0 & 1 & 0 & 0\\\\\n\\end{tabular}\n",
            "text/markdown": "\nA data.frame: 6 x 14\n\n| ID &lt;dbl&gt; | Age &lt;dbl&gt; | Experience &lt;dbl&gt; | Income &lt;dbl&gt; | ZIP.Code &lt;dbl&gt; | Family &lt;dbl&gt; | CCAvg &lt;dbl&gt; | Education &lt;dbl&gt; | Mortgage &lt;dbl&gt; | Securities.Account &lt;dbl&gt; | CD.Account &lt;dbl&gt; | Online &lt;dbl&gt; | CreditCard &lt;dbl&gt; | Personal.Loan &lt;fct&gt; |\n|---|---|---|---|---|---|---|---|---|---|---|---|---|---|\n| 1 | 25 |  1 |  49 | 91107 | 4 | 1.6 | 1 |   0 | 1 | 0 | 0 | 0 | 0 |\n| 2 | 45 | 19 |  34 | 90089 | 3 | 1.5 | 1 |   0 | 1 | 0 | 0 | 0 | 0 |\n| 3 | 39 | 15 |  11 | 94720 | 1 | 1.0 | 1 |   0 | 0 | 0 | 0 | 0 | 0 |\n| 4 | 35 |  9 | 100 | 94112 | 1 | 2.7 | 2 |   0 | 0 | 0 | 0 | 0 | 0 |\n| 5 | 35 |  8 |  45 | 91330 | 4 | 1.0 | 2 |   0 | 0 | 0 | 0 | 1 | 0 |\n| 6 | 37 | 13 |  29 | 92121 | 4 | 0.4 | 2 | 155 | 0 | 0 | 1 | 0 | 0 |\n\n",
            "text/html": "<table>\n<caption>A data.frame: 6 x 14</caption>\n<thead>\n\t<tr><th scope=col>ID</th><th scope=col>Age</th><th scope=col>Experience</th><th scope=col>Income</th><th scope=col>ZIP.Code</th><th scope=col>Family</th><th scope=col>CCAvg</th><th scope=col>Education</th><th scope=col>Mortgage</th><th scope=col>Securities.Account</th><th scope=col>CD.Account</th><th scope=col>Online</th><th scope=col>CreditCard</th><th scope=col>Personal.Loan</th></tr>\n\t<tr><th scope=col>&lt;dbl&gt;</th><th scope=col>&lt;dbl&gt;</th><th scope=col>&lt;dbl&gt;</th><th scope=col>&lt;dbl&gt;</th><th scope=col>&lt;dbl&gt;</th><th scope=col>&lt;dbl&gt;</th><th scope=col>&lt;dbl&gt;</th><th scope=col>&lt;dbl&gt;</th><th scope=col>&lt;dbl&gt;</th><th scope=col>&lt;dbl&gt;</th><th scope=col>&lt;dbl&gt;</th><th scope=col>&lt;dbl&gt;</th><th scope=col>&lt;dbl&gt;</th><th scope=col>&lt;fct&gt;</th></tr>\n</thead>\n<tbody>\n\t<tr><td>1</td><td>25</td><td> 1</td><td> 49</td><td>91107</td><td>4</td><td>1.6</td><td>1</td><td>  0</td><td>1</td><td>0</td><td>0</td><td>0</td><td>0</td></tr>\n\t<tr><td>2</td><td>45</td><td>19</td><td> 34</td><td>90089</td><td>3</td><td>1.5</td><td>1</td><td>  0</td><td>1</td><td>0</td><td>0</td><td>0</td><td>0</td></tr>\n\t<tr><td>3</td><td>39</td><td>15</td><td> 11</td><td>94720</td><td>1</td><td>1.0</td><td>1</td><td>  0</td><td>0</td><td>0</td><td>0</td><td>0</td><td>0</td></tr>\n\t<tr><td>4</td><td>35</td><td> 9</td><td>100</td><td>94112</td><td>1</td><td>2.7</td><td>2</td><td>  0</td><td>0</td><td>0</td><td>0</td><td>0</td><td>0</td></tr>\n\t<tr><td>5</td><td>35</td><td> 8</td><td> 45</td><td>91330</td><td>4</td><td>1.0</td><td>2</td><td>  0</td><td>0</td><td>0</td><td>0</td><td>1</td><td>0</td></tr>\n\t<tr><td>6</td><td>37</td><td>13</td><td> 29</td><td>92121</td><td>4</td><td>0.4</td><td>2</td><td>155</td><td>0</td><td>0</td><td>1</td><td>0</td><td>0</td></tr>\n</tbody>\n</table>\n"
          },
          "metadata": {}
        }
      ]
    },
    {
      "metadata": {
        "trusted": true
      },
      "cell_type": "code",
      "source": "trainingList <- createDataPartition(dummy.set$ID, p = 0.6, list = FALSE, times = 1)\ntrain.df <- dummy.set[trainingList,]\ntest.df <- dummy.set[-trainingList,]\n\ndim(train.df)\n\ndim(test.df)",
      "execution_count": 34,
      "outputs": [
        {
          "output_type": "display_data",
          "data": {
            "text/plain": "[1] 3000   14",
            "text/latex": "\\begin{enumerate*}\n\\item 3000\n\\item 14\n\\end{enumerate*}\n",
            "text/markdown": "1. 3000\n2. 14\n\n\n",
            "text/html": "<ol class=list-inline>\n\t<li>3000</li>\n\t<li>14</li>\n</ol>\n"
          },
          "metadata": {}
        },
        {
          "output_type": "display_data",
          "data": {
            "text/plain": "[1] 2000   14",
            "text/latex": "\\begin{enumerate*}\n\\item 2000\n\\item 14\n\\end{enumerate*}\n",
            "text/markdown": "1. 2000\n2. 14\n\n\n",
            "text/html": "<ol class=list-inline>\n\t<li>2000</li>\n\t<li>14</li>\n</ol>\n"
          },
          "metadata": {}
        }
      ]
    },
    {
      "metadata": {
        "trusted": true
      },
      "cell_type": "code",
      "source": "knnTrain <- train(\n    Personal.Loan ~ .,\n    data = train.df,\n    method = \"knn\",\n    preProcess = c(\"center\", \"scale\"),\n    #trControl = ctrl,\n    tuneLength = 25\n)\n\nknnTrain",
      "execution_count": 35,
      "outputs": [
        {
          "output_type": "display_data",
          "data": {
            "text/plain": "k-Nearest Neighbors \n\n3000 samples\n  13 predictor\n   2 classes: '0', '1' \n\nPre-processing: centered (13), scaled (13) \nResampling: Bootstrapped (25 reps) \nSummary of sample sizes: 3000, 3000, 3000, 3000, 3000, 3000, ... \nResampling results across tuning parameters:\n\n  k   Accuracy   Kappa    \n   5  0.9404425  0.6095489\n   7  0.9415071  0.6050385\n   9  0.9410747  0.5972047\n  11  0.9407970  0.5883116\n  13  0.9403852  0.5809467\n  15  0.9397032  0.5736897\n  17  0.9380664  0.5575229\n  19  0.9367223  0.5450007\n  21  0.9355600  0.5340258\n  23  0.9346633  0.5249124\n  25  0.9339650  0.5183057\n  27  0.9335272  0.5131442\n  29  0.9321869  0.4991946\n  31  0.9317433  0.4945485\n  33  0.9313103  0.4894350\n  35  0.9306948  0.4819233\n  37  0.9302280  0.4770336\n  39  0.9295738  0.4695254\n  41  0.9285543  0.4595414\n  43  0.9279693  0.4521188\n  45  0.9277862  0.4503580\n  47  0.9270561  0.4411678\n  49  0.9265437  0.4345830\n  51  0.9259256  0.4283833\n  53  0.9254228  0.4219029\n\nAccuracy was used to select the optimal model using the largest value.\nThe final value used for the model was k = 7."
          },
          "metadata": {}
        }
      ]
    },
    {
      "metadata": {
        "trusted": true
      },
      "cell_type": "code",
      "source": "test.results <- predict(knnTrain, test.df)\npostResample(test.results, test.df$Personal.Loan)\nconfusionMatrix(test.results, test.df$Personal.Loan)",
      "execution_count": 40,
      "outputs": [
        {
          "output_type": "display_data",
          "data": {
            "text/plain": " Accuracy     Kappa \n0.9505000 0.6213164 ",
            "text/latex": "\\begin{description*}\n\\item[Accuracy] 0.9505\n\\item[Kappa] 0.621316441751584\n\\end{description*}\n",
            "text/markdown": "Accuracy\n:   0.9505Kappa\n:   0.621316441751584\n\n",
            "text/html": "<dl class=dl-horizontal>\n\t<dt>Accuracy</dt>\n\t\t<dd>0.9505</dd>\n\t<dt>Kappa</dt>\n\t\t<dd>0.621316441751584</dd>\n</dl>\n"
          },
          "metadata": {}
        },
        {
          "output_type": "display_data",
          "data": {
            "text/plain": "Confusion Matrix and Statistics\n\n          Reference\nPrediction    0    1\n         0 1811   93\n         1    6   90\n                                          \n               Accuracy : 0.9505          \n                 95% CI : (0.9401, 0.9596)\n    No Information Rate : 0.9085          \n    P-Value [Acc > NIR] : 1.067e-12       \n                                          \n                  Kappa : 0.6213          \n                                          \n Mcnemar's Test P-Value : < 2.2e-16       \n                                          \n            Sensitivity : 0.9967          \n            Specificity : 0.4918          \n         Pos Pred Value : 0.9512          \n         Neg Pred Value : 0.9375          \n             Prevalence : 0.9085          \n         Detection Rate : 0.9055          \n   Detection Prevalence : 0.9520          \n      Balanced Accuracy : 0.7443          \n                                          \n       'Positive' Class : 0               \n                                          "
          },
          "metadata": {}
        }
      ]
    },
    {
      "metadata": {},
      "cell_type": "markdown",
      "source": "###### d) Classify the given customer using the best k above."
    },
    {
      "metadata": {
        "trusted": true
      },
      "cell_type": "code",
      "source": "# create an empty dataframe like the above\n\nnew.df = dummy.set[FALSE,]\nhead(new.df)",
      "execution_count": 48,
      "outputs": [
        {
          "output_type": "display_data",
          "data": {
            "text/plain": "     ID Age Experience Income ZIP.Code Family CCAvg Education Mortgage\n     Securities.Account CD.Account Online CreditCard Personal.Loan",
            "text/latex": "A data.frame: 0 x 14\n\\begin{tabular}{r|llllllllllllll}\n ID & Age & Experience & Income & ZIP.Code & Family & CCAvg & Education & Mortgage & Securities.Account & CD.Account & Online & CreditCard & Personal.Loan\\\\\n <dbl> & <dbl> & <dbl> & <dbl> & <dbl> & <dbl> & <dbl> & <dbl> & <dbl> & <dbl> & <dbl> & <dbl> & <dbl> & <fct>\\\\\n\\hline\n\\end{tabular}\n",
            "text/markdown": "\nA data.frame: 0 x 14\n\n| ID &lt;dbl&gt; | Age &lt;dbl&gt; | Experience &lt;dbl&gt; | Income &lt;dbl&gt; | ZIP.Code &lt;dbl&gt; | Family &lt;dbl&gt; | CCAvg &lt;dbl&gt; | Education &lt;dbl&gt; | Mortgage &lt;dbl&gt; | Securities.Account &lt;dbl&gt; | CD.Account &lt;dbl&gt; | Online &lt;dbl&gt; | CreditCard &lt;dbl&gt; | Personal.Loan &lt;fct&gt; |\n|---|---|---|---|---|---|---|---|---|---|---|---|---|---|\n\n",
            "text/html": "<table>\n<caption>A data.frame: 0 x 14</caption>\n<thead>\n\t<tr><th scope=col>ID</th><th scope=col>Age</th><th scope=col>Experience</th><th scope=col>Income</th><th scope=col>ZIP.Code</th><th scope=col>Family</th><th scope=col>CCAvg</th><th scope=col>Education</th><th scope=col>Mortgage</th><th scope=col>Securities.Account</th><th scope=col>CD.Account</th><th scope=col>Online</th><th scope=col>CreditCard</th><th scope=col>Personal.Loan</th></tr>\n\t<tr><th scope=col>&lt;dbl&gt;</th><th scope=col>&lt;dbl&gt;</th><th scope=col>&lt;dbl&gt;</th><th scope=col>&lt;dbl&gt;</th><th scope=col>&lt;dbl&gt;</th><th scope=col>&lt;dbl&gt;</th><th scope=col>&lt;dbl&gt;</th><th scope=col>&lt;dbl&gt;</th><th scope=col>&lt;dbl&gt;</th><th scope=col>&lt;dbl&gt;</th><th scope=col>&lt;dbl&gt;</th><th scope=col>&lt;dbl&gt;</th><th scope=col>&lt;dbl&gt;</th><th scope=col>&lt;fct&gt;</th></tr>\n</thead>\n<tbody>\n</tbody>\n</table>\n"
          },
          "metadata": {}
        }
      ]
    },
    {
      "metadata": {
        "trusted": true
      },
      "cell_type": "code",
      "source": "new.df <- rbind(new.df,list(ID=5001,\n                  Age=40,\n                  Experience=10,\n                  Income=84,\n                  ZIP.Code=37405,\n                  Family=2,\n                  CCAvg=2,\n                  Education=0,\n                  Mortgage=0,\n                  Securities.Account=0,\n                  CD.Account=0,\n                  Online=1,\n                  CreditCard=1,\n                  Personal.Loan=0\n))\n\nhead(new.df)",
      "execution_count": 55,
      "outputs": [
        {
          "output_type": "display_data",
          "data": {
            "text/plain": "  ID   Age Experience Income ZIP.Code Family CCAvg Education Mortgage\n1 5001 40  10         84     37405    2      2     0         0       \n  Securities.Account CD.Account Online CreditCard Personal.Loan\n1 0                  0          1      1          0            ",
            "text/latex": "A data.frame: 1 x 14\n\\begin{tabular}{r|llllllllllllll}\n ID & Age & Experience & Income & ZIP.Code & Family & CCAvg & Education & Mortgage & Securities.Account & CD.Account & Online & CreditCard & Personal.Loan\\\\\n <dbl> & <dbl> & <dbl> & <dbl> & <dbl> & <dbl> & <dbl> & <dbl> & <dbl> & <dbl> & <dbl> & <dbl> & <dbl> & <dbl>\\\\\n\\hline\n\t 5001 & 40 & 10 & 84 & 37405 & 2 & 2 & 0 & 0 & 0 & 0 & 1 & 1 & 0\\\\\n\\end{tabular}\n",
            "text/markdown": "\nA data.frame: 1 x 14\n\n| ID &lt;dbl&gt; | Age &lt;dbl&gt; | Experience &lt;dbl&gt; | Income &lt;dbl&gt; | ZIP.Code &lt;dbl&gt; | Family &lt;dbl&gt; | CCAvg &lt;dbl&gt; | Education &lt;dbl&gt; | Mortgage &lt;dbl&gt; | Securities.Account &lt;dbl&gt; | CD.Account &lt;dbl&gt; | Online &lt;dbl&gt; | CreditCard &lt;dbl&gt; | Personal.Loan &lt;dbl&gt; |\n|---|---|---|---|---|---|---|---|---|---|---|---|---|---|\n| 5001 | 40 | 10 | 84 | 37405 | 2 | 2 | 0 | 0 | 0 | 0 | 1 | 1 | 0 |\n\n",
            "text/html": "<table>\n<caption>A data.frame: 1 x 14</caption>\n<thead>\n\t<tr><th scope=col>ID</th><th scope=col>Age</th><th scope=col>Experience</th><th scope=col>Income</th><th scope=col>ZIP.Code</th><th scope=col>Family</th><th scope=col>CCAvg</th><th scope=col>Education</th><th scope=col>Mortgage</th><th scope=col>Securities.Account</th><th scope=col>CD.Account</th><th scope=col>Online</th><th scope=col>CreditCard</th><th scope=col>Personal.Loan</th></tr>\n\t<tr><th scope=col>&lt;dbl&gt;</th><th scope=col>&lt;dbl&gt;</th><th scope=col>&lt;dbl&gt;</th><th scope=col>&lt;dbl&gt;</th><th scope=col>&lt;dbl&gt;</th><th scope=col>&lt;dbl&gt;</th><th scope=col>&lt;dbl&gt;</th><th scope=col>&lt;dbl&gt;</th><th scope=col>&lt;dbl&gt;</th><th scope=col>&lt;dbl&gt;</th><th scope=col>&lt;dbl&gt;</th><th scope=col>&lt;dbl&gt;</th><th scope=col>&lt;dbl&gt;</th><th scope=col>&lt;dbl&gt;</th></tr>\n</thead>\n<tbody>\n\t<tr><td>5001</td><td>40</td><td>10</td><td>84</td><td>37405</td><td>2</td><td>2</td><td>0</td><td>0</td><td>0</td><td>0</td><td>1</td><td>1</td><td>0</td></tr>\n</tbody>\n</table>\n"
          },
          "metadata": {}
        }
      ]
    },
    {
      "metadata": {
        "trusted": true
      },
      "cell_type": "code",
      "source": "predict(knnTrain, newdata = new.df)",
      "execution_count": 56,
      "outputs": [
        {
          "output_type": "display_data",
          "data": {
            "text/plain": "[1] 0\nLevels: 0 1",
            "text/latex": "0\n\\emph{Levels}: \\begin{enumerate*}\n\\item '0'\n\\item '1'\n\\end{enumerate*}\n",
            "text/markdown": "0\n**Levels**: 1. '0'\n2. '1'\n\n\n",
            "text/html": "0\n<details>\n\t<summary style=display:list-item;cursor:pointer>\n\t\t<strong>Levels</strong>:\n\t</summary>\n\t<ol class=list-inline>\n\t\t<li>'0'</li>\n\t\t<li>'1'</li>\n\t</ol>\n</details>"
          },
          "metadata": {}
        }
      ]
    },
    {
      "metadata": {},
      "cell_type": "markdown",
      "source": "### Problem 7.3\n##### Upon the Boston Housing dataset..."
    },
    {
      "metadata": {},
      "cell_type": "markdown",
      "source": "###### a) Perform knn with all 12 predictors"
    },
    {
      "metadata": {
        "trusted": true
      },
      "cell_type": "code",
      "source": "# Import the dataset and interrogate it.\n\nraw.df <- read.csv(\"Datasets/BostonHousing.csv\",header = TRUE)\n\ndim(raw.df)\nt(t(names(raw.df)))\nhead(raw.df)\nsummary(raw.df)\ncolnames(raw.df)",
      "execution_count": 62,
      "outputs": [
        {
          "output_type": "display_data",
          "data": {
            "text/plain": "[1] 506  14",
            "text/latex": "\\begin{enumerate*}\n\\item 506\n\\item 14\n\\end{enumerate*}\n",
            "text/markdown": "1. 506\n2. 14\n\n\n",
            "text/html": "<ol class=list-inline>\n\t<li>506</li>\n\t<li>14</li>\n</ol>\n"
          },
          "metadata": {}
        },
        {
          "output_type": "display_data",
          "data": {
            "text/plain": "      [,1]     \n [1,] CRIM     \n [2,] ZN       \n [3,] INDUS    \n [4,] CHAS     \n [5,] NOX      \n [6,] RM       \n [7,] AGE      \n [8,] DIS      \n [9,] RAD      \n[10,] TAX      \n[11,] PTRATIO  \n[12,] LSTAT    \n[13,] MEDV     \n[14,] CAT..MEDV",
            "text/latex": "A matrix: 14 x 1 of type chr\n\\begin{tabular}{l}\n\t CRIM     \\\\\n\t ZN       \\\\\n\t INDUS    \\\\\n\t CHAS     \\\\\n\t NOX      \\\\\n\t RM       \\\\\n\t AGE      \\\\\n\t DIS      \\\\\n\t RAD      \\\\\n\t TAX      \\\\\n\t PTRATIO  \\\\\n\t LSTAT    \\\\\n\t MEDV     \\\\\n\t CAT..MEDV\\\\\n\\end{tabular}\n",
            "text/markdown": "\nA matrix: 14 x 1 of type chr\n\n| CRIM      |\n| ZN        |\n| INDUS     |\n| CHAS      |\n| NOX       |\n| RM        |\n| AGE       |\n| DIS       |\n| RAD       |\n| TAX       |\n| PTRATIO   |\n| LSTAT     |\n| MEDV      |\n| CAT..MEDV |\n\n",
            "text/html": "<table>\n<caption>A matrix: 14 x 1 of type chr</caption>\n<tbody>\n\t<tr><td>CRIM     </td></tr>\n\t<tr><td>ZN       </td></tr>\n\t<tr><td>INDUS    </td></tr>\n\t<tr><td>CHAS     </td></tr>\n\t<tr><td>NOX      </td></tr>\n\t<tr><td>RM       </td></tr>\n\t<tr><td>AGE      </td></tr>\n\t<tr><td>DIS      </td></tr>\n\t<tr><td>RAD      </td></tr>\n\t<tr><td>TAX      </td></tr>\n\t<tr><td>PTRATIO  </td></tr>\n\t<tr><td>LSTAT    </td></tr>\n\t<tr><td>MEDV     </td></tr>\n\t<tr><td>CAT..MEDV</td></tr>\n</tbody>\n</table>\n"
          },
          "metadata": {}
        },
        {
          "output_type": "display_data",
          "data": {
            "text/plain": "  CRIM    ZN INDUS CHAS NOX   RM    AGE  DIS    RAD TAX PTRATIO LSTAT MEDV\n1 0.00632 18 2.31  0    0.538 6.575 65.2 4.0900 1   296 15.3    4.98  24.0\n2 0.02731  0 7.07  0    0.469 6.421 78.9 4.9671 2   242 17.8    9.14  21.6\n3 0.02729  0 7.07  0    0.469 7.185 61.1 4.9671 2   242 17.8    4.03  34.7\n4 0.03237  0 2.18  0    0.458 6.998 45.8 6.0622 3   222 18.7    2.94  33.4\n5 0.06905  0 2.18  0    0.458 7.147 54.2 6.0622 3   222 18.7    5.33  36.2\n6 0.02985  0 2.18  0    0.458 6.430 58.7 6.0622 3   222 18.7    5.21  28.7\n  CAT..MEDV\n1 0        \n2 0        \n3 1        \n4 1        \n5 1        \n6 0        ",
            "text/latex": "A data.frame: 6 x 14\n\\begin{tabular}{r|llllllllllllll}\n CRIM & ZN & INDUS & CHAS & NOX & RM & AGE & DIS & RAD & TAX & PTRATIO & LSTAT & MEDV & CAT..MEDV\\\\\n <dbl> & <dbl> & <dbl> & <int> & <dbl> & <dbl> & <dbl> & <dbl> & <int> & <int> & <dbl> & <dbl> & <dbl> & <int>\\\\\n\\hline\n\t 0.00632 & 18 & 2.31 & 0 & 0.538 & 6.575 & 65.2 & 4.0900 & 1 & 296 & 15.3 & 4.98 & 24.0 & 0\\\\\n\t 0.02731 &  0 & 7.07 & 0 & 0.469 & 6.421 & 78.9 & 4.9671 & 2 & 242 & 17.8 & 9.14 & 21.6 & 0\\\\\n\t 0.02729 &  0 & 7.07 & 0 & 0.469 & 7.185 & 61.1 & 4.9671 & 2 & 242 & 17.8 & 4.03 & 34.7 & 1\\\\\n\t 0.03237 &  0 & 2.18 & 0 & 0.458 & 6.998 & 45.8 & 6.0622 & 3 & 222 & 18.7 & 2.94 & 33.4 & 1\\\\\n\t 0.06905 &  0 & 2.18 & 0 & 0.458 & 7.147 & 54.2 & 6.0622 & 3 & 222 & 18.7 & 5.33 & 36.2 & 1\\\\\n\t 0.02985 &  0 & 2.18 & 0 & 0.458 & 6.430 & 58.7 & 6.0622 & 3 & 222 & 18.7 & 5.21 & 28.7 & 0\\\\\n\\end{tabular}\n",
            "text/markdown": "\nA data.frame: 6 x 14\n\n| CRIM &lt;dbl&gt; | ZN &lt;dbl&gt; | INDUS &lt;dbl&gt; | CHAS &lt;int&gt; | NOX &lt;dbl&gt; | RM &lt;dbl&gt; | AGE &lt;dbl&gt; | DIS &lt;dbl&gt; | RAD &lt;int&gt; | TAX &lt;int&gt; | PTRATIO &lt;dbl&gt; | LSTAT &lt;dbl&gt; | MEDV &lt;dbl&gt; | CAT..MEDV &lt;int&gt; |\n|---|---|---|---|---|---|---|---|---|---|---|---|---|---|\n| 0.00632 | 18 | 2.31 | 0 | 0.538 | 6.575 | 65.2 | 4.0900 | 1 | 296 | 15.3 | 4.98 | 24.0 | 0 |\n| 0.02731 |  0 | 7.07 | 0 | 0.469 | 6.421 | 78.9 | 4.9671 | 2 | 242 | 17.8 | 9.14 | 21.6 | 0 |\n| 0.02729 |  0 | 7.07 | 0 | 0.469 | 7.185 | 61.1 | 4.9671 | 2 | 242 | 17.8 | 4.03 | 34.7 | 1 |\n| 0.03237 |  0 | 2.18 | 0 | 0.458 | 6.998 | 45.8 | 6.0622 | 3 | 222 | 18.7 | 2.94 | 33.4 | 1 |\n| 0.06905 |  0 | 2.18 | 0 | 0.458 | 7.147 | 54.2 | 6.0622 | 3 | 222 | 18.7 | 5.33 | 36.2 | 1 |\n| 0.02985 |  0 | 2.18 | 0 | 0.458 | 6.430 | 58.7 | 6.0622 | 3 | 222 | 18.7 | 5.21 | 28.7 | 0 |\n\n",
            "text/html": "<table>\n<caption>A data.frame: 6 x 14</caption>\n<thead>\n\t<tr><th scope=col>CRIM</th><th scope=col>ZN</th><th scope=col>INDUS</th><th scope=col>CHAS</th><th scope=col>NOX</th><th scope=col>RM</th><th scope=col>AGE</th><th scope=col>DIS</th><th scope=col>RAD</th><th scope=col>TAX</th><th scope=col>PTRATIO</th><th scope=col>LSTAT</th><th scope=col>MEDV</th><th scope=col>CAT..MEDV</th></tr>\n\t<tr><th scope=col>&lt;dbl&gt;</th><th scope=col>&lt;dbl&gt;</th><th scope=col>&lt;dbl&gt;</th><th scope=col>&lt;int&gt;</th><th scope=col>&lt;dbl&gt;</th><th scope=col>&lt;dbl&gt;</th><th scope=col>&lt;dbl&gt;</th><th scope=col>&lt;dbl&gt;</th><th scope=col>&lt;int&gt;</th><th scope=col>&lt;int&gt;</th><th scope=col>&lt;dbl&gt;</th><th scope=col>&lt;dbl&gt;</th><th scope=col>&lt;dbl&gt;</th><th scope=col>&lt;int&gt;</th></tr>\n</thead>\n<tbody>\n\t<tr><td>0.00632</td><td>18</td><td>2.31</td><td>0</td><td>0.538</td><td>6.575</td><td>65.2</td><td>4.0900</td><td>1</td><td>296</td><td>15.3</td><td>4.98</td><td>24.0</td><td>0</td></tr>\n\t<tr><td>0.02731</td><td> 0</td><td>7.07</td><td>0</td><td>0.469</td><td>6.421</td><td>78.9</td><td>4.9671</td><td>2</td><td>242</td><td>17.8</td><td>9.14</td><td>21.6</td><td>0</td></tr>\n\t<tr><td>0.02729</td><td> 0</td><td>7.07</td><td>0</td><td>0.469</td><td>7.185</td><td>61.1</td><td>4.9671</td><td>2</td><td>242</td><td>17.8</td><td>4.03</td><td>34.7</td><td>1</td></tr>\n\t<tr><td>0.03237</td><td> 0</td><td>2.18</td><td>0</td><td>0.458</td><td>6.998</td><td>45.8</td><td>6.0622</td><td>3</td><td>222</td><td>18.7</td><td>2.94</td><td>33.4</td><td>1</td></tr>\n\t<tr><td>0.06905</td><td> 0</td><td>2.18</td><td>0</td><td>0.458</td><td>7.147</td><td>54.2</td><td>6.0622</td><td>3</td><td>222</td><td>18.7</td><td>5.33</td><td>36.2</td><td>1</td></tr>\n\t<tr><td>0.02985</td><td> 0</td><td>2.18</td><td>0</td><td>0.458</td><td>6.430</td><td>58.7</td><td>6.0622</td><td>3</td><td>222</td><td>18.7</td><td>5.21</td><td>28.7</td><td>0</td></tr>\n</tbody>\n</table>\n"
          },
          "metadata": {}
        },
        {
          "output_type": "display_data",
          "data": {
            "text/plain": "      CRIM                ZN             INDUS            CHAS        \n Min.   : 0.00632   Min.   :  0.00   Min.   : 0.46   Min.   :0.00000  \n 1st Qu.: 0.08204   1st Qu.:  0.00   1st Qu.: 5.19   1st Qu.:0.00000  \n Median : 0.25651   Median :  0.00   Median : 9.69   Median :0.00000  \n Mean   : 3.61352   Mean   : 11.36   Mean   :11.14   Mean   :0.06917  \n 3rd Qu.: 3.67708   3rd Qu.: 12.50   3rd Qu.:18.10   3rd Qu.:0.00000  \n Max.   :88.97620   Max.   :100.00   Max.   :27.74   Max.   :1.00000  \n      NOX               RM             AGE              DIS        \n Min.   :0.3850   Min.   :3.561   Min.   :  2.90   Min.   : 1.130  \n 1st Qu.:0.4490   1st Qu.:5.886   1st Qu.: 45.02   1st Qu.: 2.100  \n Median :0.5380   Median :6.208   Median : 77.50   Median : 3.207  \n Mean   :0.5547   Mean   :6.285   Mean   : 68.57   Mean   : 3.795  \n 3rd Qu.:0.6240   3rd Qu.:6.623   3rd Qu.: 94.08   3rd Qu.: 5.188  \n Max.   :0.8710   Max.   :8.780   Max.   :100.00   Max.   :12.127  \n      RAD              TAX           PTRATIO          LSTAT      \n Min.   : 1.000   Min.   :187.0   Min.   :12.60   Min.   : 1.73  \n 1st Qu.: 4.000   1st Qu.:279.0   1st Qu.:17.40   1st Qu.: 6.95  \n Median : 5.000   Median :330.0   Median :19.05   Median :11.36  \n Mean   : 9.549   Mean   :408.2   Mean   :18.46   Mean   :12.65  \n 3rd Qu.:24.000   3rd Qu.:666.0   3rd Qu.:20.20   3rd Qu.:16.95  \n Max.   :24.000   Max.   :711.0   Max.   :22.00   Max.   :37.97  \n      MEDV         CAT..MEDV    \n Min.   : 5.00   Min.   :0.000  \n 1st Qu.:17.02   1st Qu.:0.000  \n Median :21.20   Median :0.000  \n Mean   :22.53   Mean   :0.166  \n 3rd Qu.:25.00   3rd Qu.:0.000  \n Max.   :50.00   Max.   :1.000  "
          },
          "metadata": {}
        },
        {
          "output_type": "display_data",
          "data": {
            "text/plain": " [1] \"CRIM\"      \"ZN\"        \"INDUS\"     \"CHAS\"      \"NOX\"       \"RM\"       \n [7] \"AGE\"       \"DIS\"       \"RAD\"       \"TAX\"       \"PTRATIO\"   \"LSTAT\"    \n[13] \"MEDV\"      \"CAT..MEDV\"",
            "text/latex": "\\begin{enumerate*}\n\\item 'CRIM'\n\\item 'ZN'\n\\item 'INDUS'\n\\item 'CHAS'\n\\item 'NOX'\n\\item 'RM'\n\\item 'AGE'\n\\item 'DIS'\n\\item 'RAD'\n\\item 'TAX'\n\\item 'PTRATIO'\n\\item 'LSTAT'\n\\item 'MEDV'\n\\item 'CAT..MEDV'\n\\end{enumerate*}\n",
            "text/markdown": "1. 'CRIM'\n2. 'ZN'\n3. 'INDUS'\n4. 'CHAS'\n5. 'NOX'\n6. 'RM'\n7. 'AGE'\n8. 'DIS'\n9. 'RAD'\n10. 'TAX'\n11. 'PTRATIO'\n12. 'LSTAT'\n13. 'MEDV'\n14. 'CAT..MEDV'\n\n\n",
            "text/html": "<ol class=list-inline>\n\t<li>'CRIM'</li>\n\t<li>'ZN'</li>\n\t<li>'INDUS'</li>\n\t<li>'CHAS'</li>\n\t<li>'NOX'</li>\n\t<li>'RM'</li>\n\t<li>'AGE'</li>\n\t<li>'DIS'</li>\n\t<li>'RAD'</li>\n\t<li>'TAX'</li>\n\t<li>'PTRATIO'</li>\n\t<li>'LSTAT'</li>\n\t<li>'MEDV'</li>\n\t<li>'CAT..MEDV'</li>\n</ol>\n"
          },
          "metadata": {}
        }
      ]
    },
    {
      "metadata": {
        "trusted": true
      },
      "cell_type": "code",
      "source": "anyNA(raw.df)",
      "execution_count": 63,
      "outputs": [
        {
          "output_type": "display_data",
          "data": {
            "text/plain": "[1] FALSE",
            "text/latex": "FALSE",
            "text/markdown": "FALSE",
            "text/html": "FALSE"
          },
          "metadata": {}
        }
      ]
    },
    {
      "metadata": {
        "trusted": true
      },
      "cell_type": "code",
      "source": "raw.df$ID <- seq.int(nrow(raw.df))\npre.df <- subset(raw.df, select = -c(CAT..MEDV))\nhead(pre.df)",
      "execution_count": 64,
      "outputs": [
        {
          "output_type": "display_data",
          "data": {
            "text/plain": "  CRIM    ZN INDUS CHAS NOX   RM    AGE  DIS    RAD TAX PTRATIO LSTAT MEDV ID\n1 0.00632 18 2.31  0    0.538 6.575 65.2 4.0900 1   296 15.3    4.98  24.0 1 \n2 0.02731  0 7.07  0    0.469 6.421 78.9 4.9671 2   242 17.8    9.14  21.6 2 \n3 0.02729  0 7.07  0    0.469 7.185 61.1 4.9671 2   242 17.8    4.03  34.7 3 \n4 0.03237  0 2.18  0    0.458 6.998 45.8 6.0622 3   222 18.7    2.94  33.4 4 \n5 0.06905  0 2.18  0    0.458 7.147 54.2 6.0622 3   222 18.7    5.33  36.2 5 \n6 0.02985  0 2.18  0    0.458 6.430 58.7 6.0622 3   222 18.7    5.21  28.7 6 ",
            "text/latex": "A data.frame: 6 x 14\n\\begin{tabular}{r|llllllllllllll}\n CRIM & ZN & INDUS & CHAS & NOX & RM & AGE & DIS & RAD & TAX & PTRATIO & LSTAT & MEDV & ID\\\\\n <dbl> & <dbl> & <dbl> & <int> & <dbl> & <dbl> & <dbl> & <dbl> & <int> & <int> & <dbl> & <dbl> & <dbl> & <int>\\\\\n\\hline\n\t 0.00632 & 18 & 2.31 & 0 & 0.538 & 6.575 & 65.2 & 4.0900 & 1 & 296 & 15.3 & 4.98 & 24.0 & 1\\\\\n\t 0.02731 &  0 & 7.07 & 0 & 0.469 & 6.421 & 78.9 & 4.9671 & 2 & 242 & 17.8 & 9.14 & 21.6 & 2\\\\\n\t 0.02729 &  0 & 7.07 & 0 & 0.469 & 7.185 & 61.1 & 4.9671 & 2 & 242 & 17.8 & 4.03 & 34.7 & 3\\\\\n\t 0.03237 &  0 & 2.18 & 0 & 0.458 & 6.998 & 45.8 & 6.0622 & 3 & 222 & 18.7 & 2.94 & 33.4 & 4\\\\\n\t 0.06905 &  0 & 2.18 & 0 & 0.458 & 7.147 & 54.2 & 6.0622 & 3 & 222 & 18.7 & 5.33 & 36.2 & 5\\\\\n\t 0.02985 &  0 & 2.18 & 0 & 0.458 & 6.430 & 58.7 & 6.0622 & 3 & 222 & 18.7 & 5.21 & 28.7 & 6\\\\\n\\end{tabular}\n",
            "text/markdown": "\nA data.frame: 6 x 14\n\n| CRIM &lt;dbl&gt; | ZN &lt;dbl&gt; | INDUS &lt;dbl&gt; | CHAS &lt;int&gt; | NOX &lt;dbl&gt; | RM &lt;dbl&gt; | AGE &lt;dbl&gt; | DIS &lt;dbl&gt; | RAD &lt;int&gt; | TAX &lt;int&gt; | PTRATIO &lt;dbl&gt; | LSTAT &lt;dbl&gt; | MEDV &lt;dbl&gt; | ID &lt;int&gt; |\n|---|---|---|---|---|---|---|---|---|---|---|---|---|---|\n| 0.00632 | 18 | 2.31 | 0 | 0.538 | 6.575 | 65.2 | 4.0900 | 1 | 296 | 15.3 | 4.98 | 24.0 | 1 |\n| 0.02731 |  0 | 7.07 | 0 | 0.469 | 6.421 | 78.9 | 4.9671 | 2 | 242 | 17.8 | 9.14 | 21.6 | 2 |\n| 0.02729 |  0 | 7.07 | 0 | 0.469 | 7.185 | 61.1 | 4.9671 | 2 | 242 | 17.8 | 4.03 | 34.7 | 3 |\n| 0.03237 |  0 | 2.18 | 0 | 0.458 | 6.998 | 45.8 | 6.0622 | 3 | 222 | 18.7 | 2.94 | 33.4 | 4 |\n| 0.06905 |  0 | 2.18 | 0 | 0.458 | 7.147 | 54.2 | 6.0622 | 3 | 222 | 18.7 | 5.33 | 36.2 | 5 |\n| 0.02985 |  0 | 2.18 | 0 | 0.458 | 6.430 | 58.7 | 6.0622 | 3 | 222 | 18.7 | 5.21 | 28.7 | 6 |\n\n",
            "text/html": "<table>\n<caption>A data.frame: 6 x 14</caption>\n<thead>\n\t<tr><th scope=col>CRIM</th><th scope=col>ZN</th><th scope=col>INDUS</th><th scope=col>CHAS</th><th scope=col>NOX</th><th scope=col>RM</th><th scope=col>AGE</th><th scope=col>DIS</th><th scope=col>RAD</th><th scope=col>TAX</th><th scope=col>PTRATIO</th><th scope=col>LSTAT</th><th scope=col>MEDV</th><th scope=col>ID</th></tr>\n\t<tr><th scope=col>&lt;dbl&gt;</th><th scope=col>&lt;dbl&gt;</th><th scope=col>&lt;dbl&gt;</th><th scope=col>&lt;int&gt;</th><th scope=col>&lt;dbl&gt;</th><th scope=col>&lt;dbl&gt;</th><th scope=col>&lt;dbl&gt;</th><th scope=col>&lt;dbl&gt;</th><th scope=col>&lt;int&gt;</th><th scope=col>&lt;int&gt;</th><th scope=col>&lt;dbl&gt;</th><th scope=col>&lt;dbl&gt;</th><th scope=col>&lt;dbl&gt;</th><th scope=col>&lt;int&gt;</th></tr>\n</thead>\n<tbody>\n\t<tr><td>0.00632</td><td>18</td><td>2.31</td><td>0</td><td>0.538</td><td>6.575</td><td>65.2</td><td>4.0900</td><td>1</td><td>296</td><td>15.3</td><td>4.98</td><td>24.0</td><td>1</td></tr>\n\t<tr><td>0.02731</td><td> 0</td><td>7.07</td><td>0</td><td>0.469</td><td>6.421</td><td>78.9</td><td>4.9671</td><td>2</td><td>242</td><td>17.8</td><td>9.14</td><td>21.6</td><td>2</td></tr>\n\t<tr><td>0.02729</td><td> 0</td><td>7.07</td><td>0</td><td>0.469</td><td>7.185</td><td>61.1</td><td>4.9671</td><td>2</td><td>242</td><td>17.8</td><td>4.03</td><td>34.7</td><td>3</td></tr>\n\t<tr><td>0.03237</td><td> 0</td><td>2.18</td><td>0</td><td>0.458</td><td>6.998</td><td>45.8</td><td>6.0622</td><td>3</td><td>222</td><td>18.7</td><td>2.94</td><td>33.4</td><td>4</td></tr>\n\t<tr><td>0.06905</td><td> 0</td><td>2.18</td><td>0</td><td>0.458</td><td>7.147</td><td>54.2</td><td>6.0622</td><td>3</td><td>222</td><td>18.7</td><td>5.33</td><td>36.2</td><td>5</td></tr>\n\t<tr><td>0.02985</td><td> 0</td><td>2.18</td><td>0</td><td>0.458</td><td>6.430</td><td>58.7</td><td>6.0622</td><td>3</td><td>222</td><td>18.7</td><td>5.21</td><td>28.7</td><td>6</td></tr>\n</tbody>\n</table>\n"
          },
          "metadata": {}
        }
      ]
    },
    {
      "metadata": {
        "trusted": true
      },
      "cell_type": "code",
      "source": "trainingList <- createDataPartition(pre.df$ID, p = 0.6, list = FALSE, times = 1)\ntrain.df <- pre.df[trainingList,]\ntest.df <- pre.df[-trainingList,]\n\ndim(train.df)\n\ndim(test.df)",
      "execution_count": 65,
      "outputs": [
        {
          "output_type": "display_data",
          "data": {
            "text/plain": "[1] 306  14",
            "text/latex": "\\begin{enumerate*}\n\\item 306\n\\item 14\n\\end{enumerate*}\n",
            "text/markdown": "1. 306\n2. 14\n\n\n",
            "text/html": "<ol class=list-inline>\n\t<li>306</li>\n\t<li>14</li>\n</ol>\n"
          },
          "metadata": {}
        },
        {
          "output_type": "display_data",
          "data": {
            "text/plain": "[1] 200  14",
            "text/latex": "\\begin{enumerate*}\n\\item 200\n\\item 14\n\\end{enumerate*}\n",
            "text/markdown": "1. 200\n2. 14\n\n\n",
            "text/html": "<ol class=list-inline>\n\t<li>200</li>\n\t<li>14</li>\n</ol>\n"
          },
          "metadata": {}
        }
      ]
    },
    {
      "metadata": {
        "trusted": true
      },
      "cell_type": "code",
      "source": "knnTrain <- train(\n    MEDV ~ .,\n    data = train.df,\n    method = \"knn\",\n    preProcess = c(\"center\", \"scale\"),\n    #trControl = ctrl,\n    tuneLength = 5,\n    tuneGrid = expand.grid(k = 1:5)\n)\n\nknnTrain",
      "execution_count": 68,
      "outputs": [
        {
          "output_type": "display_data",
          "data": {
            "text/plain": "k-Nearest Neighbors \n\n306 samples\n 13 predictor\n\nPre-processing: centered (13), scaled (13) \nResampling: Bootstrapped (25 reps) \nSummary of sample sizes: 306, 306, 306, 306, 306, 306, ... \nResampling results across tuning parameters:\n\n  k  RMSE      Rsquared   MAE     \n  1  5.026489  0.6688413  3.341710\n  2  4.852901  0.6813433  3.266418\n  3  4.750489  0.6918700  3.176312\n  4  4.707645  0.6960761  3.158792\n  5  4.653763  0.7025724  3.125508\n\nRMSE was used to select the optimal model using the smallest value.\nThe final value used for the model was k = 5."
          },
          "metadata": {}
        }
      ]
    },
    {
      "metadata": {
        "trusted": true
      },
      "cell_type": "code",
      "source": "test.results <- predict(knnTrain, test.df)\npostResample(test.results, test.df$MEDV)",
      "execution_count": 73,
      "outputs": [
        {
          "output_type": "display_data",
          "data": {
            "text/plain": "     RMSE  Rsquared       MAE \n6.0981555 0.6824017 3.8092000 ",
            "text/latex": "\\begin{description*}\n\\item[RMSE] 6.09815545882523\n\\item[Rsquared] 0.682401701255309\n\\item[MAE] 3.8092\n\\end{description*}\n",
            "text/markdown": "RMSE\n:   6.09815545882523Rsquared\n:   0.682401701255309MAE\n:   3.8092\n\n",
            "text/html": "<dl class=dl-horizontal>\n\t<dt>RMSE</dt>\n\t\t<dd>6.09815545882523</dd>\n\t<dt>Rsquared</dt>\n\t\t<dd>0.682401701255309</dd>\n\t<dt>MAE</dt>\n\t\t<dd>3.8092</dd>\n</dl>\n"
          },
          "metadata": {}
        }
      ]
    },
    {
      "metadata": {
        "trusted": true
      },
      "cell_type": "code",
      "source": "# create an empty dataframe like the above\n\nnew.df = pre.df[FALSE,]\nhead(new.df)",
      "execution_count": 75,
      "outputs": [
        {
          "output_type": "display_data",
          "data": {
            "text/plain": "     CRIM ZN INDUS CHAS NOX RM AGE DIS RAD TAX PTRATIO LSTAT MEDV ID",
            "text/latex": "A data.frame: 0 x 14\n\\begin{tabular}{r|llllllllllllll}\n CRIM & ZN & INDUS & CHAS & NOX & RM & AGE & DIS & RAD & TAX & PTRATIO & LSTAT & MEDV & ID\\\\\n <dbl> & <dbl> & <dbl> & <int> & <dbl> & <dbl> & <dbl> & <dbl> & <int> & <int> & <dbl> & <dbl> & <dbl> & <int>\\\\\n\\hline\n\\end{tabular}\n",
            "text/markdown": "\nA data.frame: 0 x 14\n\n| CRIM &lt;dbl&gt; | ZN &lt;dbl&gt; | INDUS &lt;dbl&gt; | CHAS &lt;int&gt; | NOX &lt;dbl&gt; | RM &lt;dbl&gt; | AGE &lt;dbl&gt; | DIS &lt;dbl&gt; | RAD &lt;int&gt; | TAX &lt;int&gt; | PTRATIO &lt;dbl&gt; | LSTAT &lt;dbl&gt; | MEDV &lt;dbl&gt; | ID &lt;int&gt; |\n|---|---|---|---|---|---|---|---|---|---|---|---|---|---|\n\n",
            "text/html": "<table>\n<caption>A data.frame: 0 x 14</caption>\n<thead>\n\t<tr><th scope=col>CRIM</th><th scope=col>ZN</th><th scope=col>INDUS</th><th scope=col>CHAS</th><th scope=col>NOX</th><th scope=col>RM</th><th scope=col>AGE</th><th scope=col>DIS</th><th scope=col>RAD</th><th scope=col>TAX</th><th scope=col>PTRATIO</th><th scope=col>LSTAT</th><th scope=col>MEDV</th><th scope=col>ID</th></tr>\n\t<tr><th scope=col>&lt;dbl&gt;</th><th scope=col>&lt;dbl&gt;</th><th scope=col>&lt;dbl&gt;</th><th scope=col>&lt;int&gt;</th><th scope=col>&lt;dbl&gt;</th><th scope=col>&lt;dbl&gt;</th><th scope=col>&lt;dbl&gt;</th><th scope=col>&lt;dbl&gt;</th><th scope=col>&lt;int&gt;</th><th scope=col>&lt;int&gt;</th><th scope=col>&lt;dbl&gt;</th><th scope=col>&lt;dbl&gt;</th><th scope=col>&lt;dbl&gt;</th><th scope=col>&lt;int&gt;</th></tr>\n</thead>\n<tbody>\n</tbody>\n</table>\n"
          },
          "metadata": {}
        }
      ]
    },
    {
      "metadata": {
        "trusted": true
      },
      "cell_type": "code",
      "source": "new.df <- rbind(new.df,list(CRIM=0.2,\n                            ZN=0,\n                            INDUS=7,\n                            CHAS=0,\n                            NOX=0.538,\n                            RM=6,\n                            AGE=62,\n                            DIS=4.7,\n                            RAD=4,\n                            TAX=307,\n                            PTRATIO=21,\n                            LSTAT=10,\n                            MEDV=0,\n                            ID=9999\n))\n\nhead(new.df)",
      "execution_count": 76,
      "outputs": [
        {
          "output_type": "display_data",
          "data": {
            "text/plain": "  CRIM ZN INDUS CHAS NOX   RM AGE DIS RAD TAX PTRATIO LSTAT MEDV ID  \n1 0.2  0  7     0    0.538 6  62  4.7 4   307 21      10    0    9999",
            "text/latex": "A data.frame: 1 x 14\n\\begin{tabular}{r|llllllllllllll}\n CRIM & ZN & INDUS & CHAS & NOX & RM & AGE & DIS & RAD & TAX & PTRATIO & LSTAT & MEDV & ID\\\\\n <dbl> & <dbl> & <dbl> & <dbl> & <dbl> & <dbl> & <dbl> & <dbl> & <dbl> & <dbl> & <dbl> & <dbl> & <dbl> & <dbl>\\\\\n\\hline\n\t 0.2 & 0 & 7 & 0 & 0.538 & 6 & 62 & 4.7 & 4 & 307 & 21 & 10 & 0 & 9999\\\\\n\\end{tabular}\n",
            "text/markdown": "\nA data.frame: 1 x 14\n\n| CRIM &lt;dbl&gt; | ZN &lt;dbl&gt; | INDUS &lt;dbl&gt; | CHAS &lt;dbl&gt; | NOX &lt;dbl&gt; | RM &lt;dbl&gt; | AGE &lt;dbl&gt; | DIS &lt;dbl&gt; | RAD &lt;dbl&gt; | TAX &lt;dbl&gt; | PTRATIO &lt;dbl&gt; | LSTAT &lt;dbl&gt; | MEDV &lt;dbl&gt; | ID &lt;dbl&gt; |\n|---|---|---|---|---|---|---|---|---|---|---|---|---|---|\n| 0.2 | 0 | 7 | 0 | 0.538 | 6 | 62 | 4.7 | 4 | 307 | 21 | 10 | 0 | 9999 |\n\n",
            "text/html": "<table>\n<caption>A data.frame: 1 x 14</caption>\n<thead>\n\t<tr><th scope=col>CRIM</th><th scope=col>ZN</th><th scope=col>INDUS</th><th scope=col>CHAS</th><th scope=col>NOX</th><th scope=col>RM</th><th scope=col>AGE</th><th scope=col>DIS</th><th scope=col>RAD</th><th scope=col>TAX</th><th scope=col>PTRATIO</th><th scope=col>LSTAT</th><th scope=col>MEDV</th><th scope=col>ID</th></tr>\n\t<tr><th scope=col>&lt;dbl&gt;</th><th scope=col>&lt;dbl&gt;</th><th scope=col>&lt;dbl&gt;</th><th scope=col>&lt;dbl&gt;</th><th scope=col>&lt;dbl&gt;</th><th scope=col>&lt;dbl&gt;</th><th scope=col>&lt;dbl&gt;</th><th scope=col>&lt;dbl&gt;</th><th scope=col>&lt;dbl&gt;</th><th scope=col>&lt;dbl&gt;</th><th scope=col>&lt;dbl&gt;</th><th scope=col>&lt;dbl&gt;</th><th scope=col>&lt;dbl&gt;</th><th scope=col>&lt;dbl&gt;</th></tr>\n</thead>\n<tbody>\n\t<tr><td>0.2</td><td>0</td><td>7</td><td>0</td><td>0.538</td><td>6</td><td>62</td><td>4.7</td><td>4</td><td>307</td><td>21</td><td>10</td><td>0</td><td>9999</td></tr>\n</tbody>\n</table>\n"
          },
          "metadata": {}
        }
      ]
    },
    {
      "metadata": {
        "trusted": true
      },
      "cell_type": "code",
      "source": "predict(knnTrain, newdata = new.df)",
      "execution_count": 77,
      "outputs": [
        {
          "output_type": "display_data",
          "data": {
            "text/plain": "[1] 21.14",
            "text/latex": "21.14",
            "text/markdown": "21.14",
            "text/html": "21.14"
          },
          "metadata": {}
        }
      ]
    },
    {
      "metadata": {
        "trusted": true
      },
      "cell_type": "code",
      "source": "",
      "execution_count": null,
      "outputs": []
    }
  ],
  "metadata": {
    "kernelspec": {
      "name": "r",
      "display_name": "R",
      "language": "R"
    },
    "language_info": {
      "mimetype": "text/x-r-source",
      "name": "R",
      "pygments_lexer": "r",
      "version": "3.5.3",
      "file_extension": ".r",
      "codemirror_mode": "r"
    }
  },
  "nbformat": 4,
  "nbformat_minor": 2
}