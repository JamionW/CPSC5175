{
  "cells": [
    {
      "metadata": {
        "collapsed": true
      },
      "cell_type": "markdown",
      "source": "# CPSC5175 Lab 5 - Chapter 5\n#### Jamion Williams"
    },
    {
      "metadata": {},
      "cell_type": "markdown",
      "source": "### Problem 5.1\n##### A data mining routine has been applied to a transaction dataset and has classified 88 records as fraudulent (30 correctly so) and 952 as non-fraudulent (920 correctly so). Construct the confusion matrix and calculate the overall error rate."
    },
    {
      "metadata": {},
      "cell_type": "markdown",
      "source": "**Answer**: with the rows being the predicted result and the columns being the actual result, below is the confusion matrix for this prediction:\n\n|              |fraudulent    |non-fraudulent|\n|--------------|--------------|--------------|\n|fraudulent    | 30           | 58           |\n|non-fraudulent|  32          | 920          |"
    },
    {
      "metadata": {},
      "cell_type": "markdown",
      "source": "...with correctly-classified fraudulent records being most important, our overall error rate is decided as the sum of incorrectly-classified records divided by the total number of processed records. In this case, error = (58 + 32) / 1040, or 8%."
    },
    {
      "metadata": {},
      "cell_type": "markdown",
      "source": "### Problem 5.4 a-d\n##### Consider the provided decile-wise lift chart and answer the following"
    },
    {
      "metadata": {},
      "cell_type": "markdown",
      "source": "##### a) Interpret the meaning of the first and second bars from the left"
    },
    {
      "metadata": {},
      "cell_type": "markdown",
      "source": "**Answer:** The first two deciles, representing 20% of the records identified as having the highest propensity for being frauduelent, outperform a random sampling by a factor of 9. Afterwards, the records perform the same as or worse than random."
    },
    {
      "metadata": {},
      "cell_type": "markdown",
      "source": "##### b) Explain how you might use this information in practice."
    },
    {
      "metadata": {},
      "cell_type": "markdown",
      "source": "**Answer:** The decile chart (and lift charts in general) tells us that the first 20% of records that our model produces as having a propensity for matching target (in this case, fraudulent), is the most accurate, up to 9-10 times more effective than a coin-flip. After that, our model performs the same as random."
    },
    {
      "metadata": {},
      "cell_type": "markdown",
      "source": "##### c) What is the error rate if we classify everything as non-fraudulent?"
    },
    {
      "metadata": {},
      "cell_type": "markdown",
      "source": "**Answer:** Considering that the proposed \"model\" is literally the error rate of _reality_, we would classify the fraudulent records (30 predicted and 32 incorrectly listed as non-fraudulent) as 62 divided by _n_, or 6%."
    },
    {
      "metadata": {},
      "cell_type": "markdown",
      "source": "##### d) Comment on the usefulness of error rate and lift in this model"
    },
    {
      "metadata": {},
      "cell_type": "markdown",
      "source": "**Answer:** Obviously, there is an near-insignificant difference in reality and our modeling, the error rate by itself is unimpressive. However, the decile lift chart shows us that, for our model, the first 20% of records listed as significant by the model are highly effective in showing fraudulent records. Therefore, with discernment in interpretation of the lift chart(s), this model can still be effective in a real-life scenario."
    }
  ],
  "metadata": {
    "kernelspec": {
      "name": "r",
      "display_name": "R",
      "language": "R"
    },
    "language_info": {
      "mimetype": "text/x-r-source",
      "name": "R",
      "pygments_lexer": "r",
      "version": "3.5.3",
      "file_extension": ".r",
      "codemirror_mode": "r"
    }
  },
  "nbformat": 4,
  "nbformat_minor": 2
}