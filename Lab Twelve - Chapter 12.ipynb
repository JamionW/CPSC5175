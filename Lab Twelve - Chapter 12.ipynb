{
  "cells": [
    {
      "metadata": {
        "collapsed": true
      },
      "cell_type": "markdown",
      "source": "# CPSC5175 Lab 12 - Chapter 12\n#### Jamion Williams"
    },
    {
      "metadata": {},
      "cell_type": "markdown",
      "source": "### Problem 12.1b\n##### Work upon the UniversalBank.csv dataset."
    },
    {
      "metadata": {
        "trusted": true
      },
      "cell_type": "code",
      "source": "# necessities\n\nlibrary(caret)\nlibrary(MASS)",
      "execution_count": 8,
      "outputs": []
    },
    {
      "metadata": {
        "trusted": true
      },
      "cell_type": "code",
      "source": "# Import the dataset and interrogate it.\n\nraw.df <- read.csv(\"Datasets/UniversalBank.csv\",header = TRUE)\n\nstr(raw.df)\n\nhead(raw.df)",
      "execution_count": 2,
      "outputs": [
        {
          "output_type": "stream",
          "text": "'data.frame':\t5000 obs. of  14 variables:\n $ ID                : int  1 2 3 4 5 6 7 8 9 10 ...\n $ Age               : int  25 45 39 35 35 37 53 50 35 34 ...\n $ Experience        : int  1 19 15 9 8 13 27 24 10 9 ...\n $ Income            : int  49 34 11 100 45 29 72 22 81 180 ...\n $ ZIP.Code          : int  91107 90089 94720 94112 91330 92121 91711 93943 90089 93023 ...\n $ Family            : int  4 3 1 1 4 4 2 1 3 1 ...\n $ CCAvg             : num  1.6 1.5 1 2.7 1 0.4 1.5 0.3 0.6 8.9 ...\n $ Education         : int  1 1 1 2 2 2 2 3 2 3 ...\n $ Mortgage          : int  0 0 0 0 0 155 0 0 104 0 ...\n $ Personal.Loan     : int  0 0 0 0 0 0 0 0 0 1 ...\n $ Securities.Account: int  1 1 0 0 0 0 0 0 0 0 ...\n $ CD.Account        : int  0 0 0 0 0 0 0 0 0 0 ...\n $ Online            : int  0 0 0 0 0 1 1 0 1 0 ...\n $ CreditCard        : int  0 0 0 0 1 0 0 1 0 0 ...\n",
          "name": "stdout"
        },
        {
          "output_type": "display_data",
          "data": {
            "text/plain": "  ID Age Experience Income ZIP.Code Family CCAvg Education Mortgage\n1 1  25   1          49    91107    4      1.6   1           0     \n2 2  45  19          34    90089    3      1.5   1           0     \n3 3  39  15          11    94720    1      1.0   1           0     \n4 4  35   9         100    94112    1      2.7   2           0     \n5 5  35   8          45    91330    4      1.0   2           0     \n6 6  37  13          29    92121    4      0.4   2         155     \n  Personal.Loan Securities.Account CD.Account Online CreditCard\n1 0             1                  0          0      0         \n2 0             1                  0          0      0         \n3 0             0                  0          0      0         \n4 0             0                  0          0      0         \n5 0             0                  0          0      1         \n6 0             0                  0          1      0         ",
            "text/latex": "A data.frame: 6 x 14\n\\begin{tabular}{r|llllllllllllll}\n ID & Age & Experience & Income & ZIP.Code & Family & CCAvg & Education & Mortgage & Personal.Loan & Securities.Account & CD.Account & Online & CreditCard\\\\\n <int> & <int> & <int> & <int> & <int> & <int> & <dbl> & <int> & <int> & <int> & <int> & <int> & <int> & <int>\\\\\n\\hline\n\t 1 & 25 &  1 &  49 & 91107 & 4 & 1.6 & 1 &   0 & 0 & 1 & 0 & 0 & 0\\\\\n\t 2 & 45 & 19 &  34 & 90089 & 3 & 1.5 & 1 &   0 & 0 & 1 & 0 & 0 & 0\\\\\n\t 3 & 39 & 15 &  11 & 94720 & 1 & 1.0 & 1 &   0 & 0 & 0 & 0 & 0 & 0\\\\\n\t 4 & 35 &  9 & 100 & 94112 & 1 & 2.7 & 2 &   0 & 0 & 0 & 0 & 0 & 0\\\\\n\t 5 & 35 &  8 &  45 & 91330 & 4 & 1.0 & 2 &   0 & 0 & 0 & 0 & 0 & 1\\\\\n\t 6 & 37 & 13 &  29 & 92121 & 4 & 0.4 & 2 & 155 & 0 & 0 & 0 & 1 & 0\\\\\n\\end{tabular}\n",
            "text/markdown": "\nA data.frame: 6 x 14\n\n| ID &lt;int&gt; | Age &lt;int&gt; | Experience &lt;int&gt; | Income &lt;int&gt; | ZIP.Code &lt;int&gt; | Family &lt;int&gt; | CCAvg &lt;dbl&gt; | Education &lt;int&gt; | Mortgage &lt;int&gt; | Personal.Loan &lt;int&gt; | Securities.Account &lt;int&gt; | CD.Account &lt;int&gt; | Online &lt;int&gt; | CreditCard &lt;int&gt; |\n|---|---|---|---|---|---|---|---|---|---|---|---|---|---|\n| 1 | 25 |  1 |  49 | 91107 | 4 | 1.6 | 1 |   0 | 0 | 1 | 0 | 0 | 0 |\n| 2 | 45 | 19 |  34 | 90089 | 3 | 1.5 | 1 |   0 | 0 | 1 | 0 | 0 | 0 |\n| 3 | 39 | 15 |  11 | 94720 | 1 | 1.0 | 1 |   0 | 0 | 0 | 0 | 0 | 0 |\n| 4 | 35 |  9 | 100 | 94112 | 1 | 2.7 | 2 |   0 | 0 | 0 | 0 | 0 | 0 |\n| 5 | 35 |  8 |  45 | 91330 | 4 | 1.0 | 2 |   0 | 0 | 0 | 0 | 0 | 1 |\n| 6 | 37 | 13 |  29 | 92121 | 4 | 0.4 | 2 | 155 | 0 | 0 | 0 | 1 | 0 |\n\n",
            "text/html": "<table>\n<caption>A data.frame: 6 x 14</caption>\n<thead>\n\t<tr><th scope=col>ID</th><th scope=col>Age</th><th scope=col>Experience</th><th scope=col>Income</th><th scope=col>ZIP.Code</th><th scope=col>Family</th><th scope=col>CCAvg</th><th scope=col>Education</th><th scope=col>Mortgage</th><th scope=col>Personal.Loan</th><th scope=col>Securities.Account</th><th scope=col>CD.Account</th><th scope=col>Online</th><th scope=col>CreditCard</th></tr>\n\t<tr><th scope=col>&lt;int&gt;</th><th scope=col>&lt;int&gt;</th><th scope=col>&lt;int&gt;</th><th scope=col>&lt;int&gt;</th><th scope=col>&lt;int&gt;</th><th scope=col>&lt;int&gt;</th><th scope=col>&lt;dbl&gt;</th><th scope=col>&lt;int&gt;</th><th scope=col>&lt;int&gt;</th><th scope=col>&lt;int&gt;</th><th scope=col>&lt;int&gt;</th><th scope=col>&lt;int&gt;</th><th scope=col>&lt;int&gt;</th><th scope=col>&lt;int&gt;</th></tr>\n</thead>\n<tbody>\n\t<tr><td>1</td><td>25</td><td> 1</td><td> 49</td><td>91107</td><td>4</td><td>1.6</td><td>1</td><td>  0</td><td>0</td><td>1</td><td>0</td><td>0</td><td>0</td></tr>\n\t<tr><td>2</td><td>45</td><td>19</td><td> 34</td><td>90089</td><td>3</td><td>1.5</td><td>1</td><td>  0</td><td>0</td><td>1</td><td>0</td><td>0</td><td>0</td></tr>\n\t<tr><td>3</td><td>39</td><td>15</td><td> 11</td><td>94720</td><td>1</td><td>1.0</td><td>1</td><td>  0</td><td>0</td><td>0</td><td>0</td><td>0</td><td>0</td></tr>\n\t<tr><td>4</td><td>35</td><td> 9</td><td>100</td><td>94112</td><td>1</td><td>2.7</td><td>2</td><td>  0</td><td>0</td><td>0</td><td>0</td><td>0</td><td>0</td></tr>\n\t<tr><td>5</td><td>35</td><td> 8</td><td> 45</td><td>91330</td><td>4</td><td>1.0</td><td>2</td><td>  0</td><td>0</td><td>0</td><td>0</td><td>0</td><td>1</td></tr>\n\t<tr><td>6</td><td>37</td><td>13</td><td> 29</td><td>92121</td><td>4</td><td>0.4</td><td>2</td><td>155</td><td>0</td><td>0</td><td>0</td><td>1</td><td>0</td></tr>\n</tbody>\n</table>\n"
          },
          "metadata": {}
        }
      ]
    },
    {
      "metadata": {
        "trusted": true
      },
      "cell_type": "code",
      "source": "# get rid of zip code and dummy other vars \n\ndrops <- c(\"ZIP.Code\")\npre.df <- raw.df[,!(names(raw.df) %in% drops)]\n\ndummies <- dummyVars(Personal.Loan ~ ., data = pre.df)  \n\ndummy.set <- data.frame(predict(dummies, newdata = pre.df))\ndummy.set$Personal.Loan <- as.factor(pre.df$Personal.Loan)\nhead(dummy.set)",
      "execution_count": 4,
      "outputs": [
        {
          "output_type": "display_data",
          "data": {
            "text/plain": "  ID Age Experience Income Family CCAvg Education Mortgage Securities.Account\n1 1  25   1          49    4      1.6   1           0      1                 \n2 2  45  19          34    3      1.5   1           0      1                 \n3 3  39  15          11    1      1.0   1           0      0                 \n4 4  35   9         100    1      2.7   2           0      0                 \n5 5  35   8          45    4      1.0   2           0      0                 \n6 6  37  13          29    4      0.4   2         155      0                 \n  CD.Account Online CreditCard Personal.Loan\n1 0          0      0          0            \n2 0          0      0          0            \n3 0          0      0          0            \n4 0          0      0          0            \n5 0          0      1          0            \n6 0          1      0          0            ",
            "text/latex": "A data.frame: 6 x 13\n\\begin{tabular}{r|lllllllllllll}\n ID & Age & Experience & Income & Family & CCAvg & Education & Mortgage & Securities.Account & CD.Account & Online & CreditCard & Personal.Loan\\\\\n <dbl> & <dbl> & <dbl> & <dbl> & <dbl> & <dbl> & <dbl> & <dbl> & <dbl> & <dbl> & <dbl> & <dbl> & <fct>\\\\\n\\hline\n\t 1 & 25 &  1 &  49 & 4 & 1.6 & 1 &   0 & 1 & 0 & 0 & 0 & 0\\\\\n\t 2 & 45 & 19 &  34 & 3 & 1.5 & 1 &   0 & 1 & 0 & 0 & 0 & 0\\\\\n\t 3 & 39 & 15 &  11 & 1 & 1.0 & 1 &   0 & 0 & 0 & 0 & 0 & 0\\\\\n\t 4 & 35 &  9 & 100 & 1 & 2.7 & 2 &   0 & 0 & 0 & 0 & 0 & 0\\\\\n\t 5 & 35 &  8 &  45 & 4 & 1.0 & 2 &   0 & 0 & 0 & 0 & 1 & 0\\\\\n\t 6 & 37 & 13 &  29 & 4 & 0.4 & 2 & 155 & 0 & 0 & 1 & 0 & 0\\\\\n\\end{tabular}\n",
            "text/markdown": "\nA data.frame: 6 x 13\n\n| ID &lt;dbl&gt; | Age &lt;dbl&gt; | Experience &lt;dbl&gt; | Income &lt;dbl&gt; | Family &lt;dbl&gt; | CCAvg &lt;dbl&gt; | Education &lt;dbl&gt; | Mortgage &lt;dbl&gt; | Securities.Account &lt;dbl&gt; | CD.Account &lt;dbl&gt; | Online &lt;dbl&gt; | CreditCard &lt;dbl&gt; | Personal.Loan &lt;fct&gt; |\n|---|---|---|---|---|---|---|---|---|---|---|---|---|\n| 1 | 25 |  1 |  49 | 4 | 1.6 | 1 |   0 | 1 | 0 | 0 | 0 | 0 |\n| 2 | 45 | 19 |  34 | 3 | 1.5 | 1 |   0 | 1 | 0 | 0 | 0 | 0 |\n| 3 | 39 | 15 |  11 | 1 | 1.0 | 1 |   0 | 0 | 0 | 0 | 0 | 0 |\n| 4 | 35 |  9 | 100 | 1 | 2.7 | 2 |   0 | 0 | 0 | 0 | 0 | 0 |\n| 5 | 35 |  8 |  45 | 4 | 1.0 | 2 |   0 | 0 | 0 | 0 | 1 | 0 |\n| 6 | 37 | 13 |  29 | 4 | 0.4 | 2 | 155 | 0 | 0 | 1 | 0 | 0 |\n\n",
            "text/html": "<table>\n<caption>A data.frame: 6 x 13</caption>\n<thead>\n\t<tr><th scope=col>ID</th><th scope=col>Age</th><th scope=col>Experience</th><th scope=col>Income</th><th scope=col>Family</th><th scope=col>CCAvg</th><th scope=col>Education</th><th scope=col>Mortgage</th><th scope=col>Securities.Account</th><th scope=col>CD.Account</th><th scope=col>Online</th><th scope=col>CreditCard</th><th scope=col>Personal.Loan</th></tr>\n\t<tr><th scope=col>&lt;dbl&gt;</th><th scope=col>&lt;dbl&gt;</th><th scope=col>&lt;dbl&gt;</th><th scope=col>&lt;dbl&gt;</th><th scope=col>&lt;dbl&gt;</th><th scope=col>&lt;dbl&gt;</th><th scope=col>&lt;dbl&gt;</th><th scope=col>&lt;dbl&gt;</th><th scope=col>&lt;dbl&gt;</th><th scope=col>&lt;dbl&gt;</th><th scope=col>&lt;dbl&gt;</th><th scope=col>&lt;dbl&gt;</th><th scope=col>&lt;fct&gt;</th></tr>\n</thead>\n<tbody>\n\t<tr><td>1</td><td>25</td><td> 1</td><td> 49</td><td>4</td><td>1.6</td><td>1</td><td>  0</td><td>1</td><td>0</td><td>0</td><td>0</td><td>0</td></tr>\n\t<tr><td>2</td><td>45</td><td>19</td><td> 34</td><td>3</td><td>1.5</td><td>1</td><td>  0</td><td>1</td><td>0</td><td>0</td><td>0</td><td>0</td></tr>\n\t<tr><td>3</td><td>39</td><td>15</td><td> 11</td><td>1</td><td>1.0</td><td>1</td><td>  0</td><td>0</td><td>0</td><td>0</td><td>0</td><td>0</td></tr>\n\t<tr><td>4</td><td>35</td><td> 9</td><td>100</td><td>1</td><td>2.7</td><td>2</td><td>  0</td><td>0</td><td>0</td><td>0</td><td>0</td><td>0</td></tr>\n\t<tr><td>5</td><td>35</td><td> 8</td><td> 45</td><td>4</td><td>1.0</td><td>2</td><td>  0</td><td>0</td><td>0</td><td>0</td><td>1</td><td>0</td></tr>\n\t<tr><td>6</td><td>37</td><td>13</td><td> 29</td><td>4</td><td>0.4</td><td>2</td><td>155</td><td>0</td><td>0</td><td>1</td><td>0</td><td>0</td></tr>\n</tbody>\n</table>\n"
          },
          "metadata": {}
        }
      ]
    },
    {
      "metadata": {
        "trusted": true
      },
      "cell_type": "code",
      "source": "set.seed(420)\n\ntrainingList <- createDataPartition(dummy.set$ID, p = 0.6, list = FALSE, times = 1)\ntrain.df <- dummy.set[trainingList,]\ntest.df <- dummy.set[-trainingList,]\n\ndim(train.df)\n\ndim(test.df)",
      "execution_count": 6,
      "outputs": [
        {
          "output_type": "display_data",
          "data": {
            "text/plain": "[1] 3000   13",
            "text/latex": "\\begin{enumerate*}\n\\item 3000\n\\item 13\n\\end{enumerate*}\n",
            "text/markdown": "1. 3000\n2. 13\n\n\n",
            "text/html": "<ol class=list-inline>\n\t<li>3000</li>\n\t<li>13</li>\n</ol>\n"
          },
          "metadata": {}
        },
        {
          "output_type": "display_data",
          "data": {
            "text/plain": "[1] 2000   13",
            "text/latex": "\\begin{enumerate*}\n\\item 2000\n\\item 13\n\\end{enumerate*}\n",
            "text/markdown": "1. 2000\n2. 13\n\n\n",
            "text/html": "<ol class=list-inline>\n\t<li>2000</li>\n\t<li>13</li>\n</ol>\n"
          },
          "metadata": {}
        }
      ]
    },
    {
      "metadata": {
        "trusted": true
      },
      "cell_type": "code",
      "source": "set.seed(420)\n\nDiscrimFit <- lda(Personal.Loan ~ ., train.df)\nDiscrimFit",
      "execution_count": 10,
      "outputs": [
        {
          "output_type": "display_data",
          "data": {
            "text/plain": "Call:\nlda(Personal.Loan ~ ., data = train.df)\n\nPrior probabilities of groups:\n    0     1 \n0.907 0.093 \n\nGroup means:\n        ID      Age Experience   Income   Family    CCAvg Education  Mortgage\n0 2510.662 45.63249   20.39765  66.5656 2.389563 1.745491  1.853730  48.95553\n1 2406.896 45.20789   19.97491 144.8996 2.637993 3.920072  2.225806 104.84946\n  Securities.Account CD.Account    Online CreditCard\n0         0.09702315 0.03711871 0.6027196  0.2958471\n1         0.13261649 0.31541219 0.6093190  0.3046595\n\nCoefficients of linear discriminants:\n                             LD1\nID                 -8.019334e-06\nAge                -4.011110e-02\nExperience          4.326307e-02\nIncome              2.073969e-02\nFamily              2.290416e-01\nCCAvg               6.345696e-02\nEducation           5.545478e-01\nMortgage            7.692707e-04\nSecurities.Account -4.627287e-01\nCD.Account          2.336658e+00\nOnline             -2.333846e-01\nCreditCard         -2.999862e-01"
          },
          "metadata": {}
        }
      ]
    },
    {
      "metadata": {
        "trusted": true
      },
      "cell_type": "code",
      "source": "DiscrimPred <- predict(DiscrimFit, newdata=test.df)",
      "execution_count": 11,
      "outputs": []
    },
    {
      "metadata": {
        "trusted": true
      },
      "cell_type": "code",
      "source": "summary(DiscrimPred$class)",
      "execution_count": 18,
      "outputs": [
        {
          "output_type": "display_data",
          "data": {
            "text/plain": "   0    1 \n1849  151 ",
            "text/latex": "\\begin{description*}\n\\item[0] 1849\n\\item[1] 151\n\\end{description*}\n",
            "text/markdown": "0\n:   18491\n:   151\n\n",
            "text/html": "<dl class=dl-horizontal>\n\t<dt>0</dt>\n\t\t<dd>1849</dd>\n\t<dt>1</dt>\n\t\t<dd>151</dd>\n</dl>\n"
          },
          "metadata": {}
        }
      ]
    },
    {
      "metadata": {
        "trusted": true
      },
      "cell_type": "code",
      "source": "confusionMatrix(DiscrimPred$class, test.df$Personal.Loan)",
      "execution_count": 19,
      "outputs": [
        {
          "output_type": "display_data",
          "data": {
            "text/plain": "Confusion Matrix and Statistics\n\n          Reference\nPrediction    0    1\n         0 1767   82\n         1   32  119\n                                          \n               Accuracy : 0.943           \n                 95% CI : (0.9319, 0.9528)\n    No Information Rate : 0.8995          \n    P-Value [Acc > NIR] : 2.050e-12       \n                                          \n                  Kappa : 0.6456          \n                                          \n Mcnemar's Test P-Value : 4.448e-06       \n                                          \n            Sensitivity : 0.9822          \n            Specificity : 0.5920          \n         Pos Pred Value : 0.9557          \n         Neg Pred Value : 0.7881          \n             Prevalence : 0.8995          \n         Detection Rate : 0.8835          \n   Detection Prevalence : 0.9245          \n      Balanced Accuracy : 0.7871          \n                                          \n       'Positive' Class : 0               \n                                          "
          },
          "metadata": {}
        }
      ]
    }
  ],
  "metadata": {
    "kernelspec": {
      "name": "r",
      "display_name": "R",
      "language": "R"
    },
    "language_info": {
      "mimetype": "text/x-r-source",
      "name": "R",
      "pygments_lexer": "r",
      "version": "3.5.3",
      "file_extension": ".r",
      "codemirror_mode": "r"
    }
  },
  "nbformat": 4,
  "nbformat_minor": 2
}